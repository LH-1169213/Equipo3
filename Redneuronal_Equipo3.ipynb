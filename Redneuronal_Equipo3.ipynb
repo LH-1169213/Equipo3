{
  "nbformat": 4,
  "nbformat_minor": 0,
  "metadata": {
    "colab": {
      "provenance": [],
      "collapsed_sections": [],
      "include_colab_link": true
    },
    "kernelspec": {
      "display_name": "Python 3",
      "name": "python3"
    }
  },
  "cells": [
    {
      "cell_type": "markdown",
      "metadata": {
        "id": "view-in-github",
        "colab_type": "text"
      },
      "source": [
        "<a href=\"https://colab.research.google.com/github/LH-1169213/Equipo3/blob/main/Redneuronal_Equipo3.ipynb\" target=\"_parent\"><img src=\"https://colab.research.google.com/assets/colab-badge.svg\" alt=\"Open In Colab\"/></a>"
      ]
    },
    {
      "cell_type": "markdown",
      "source": [
        "#**Maestría en Inteligencia Artificial Aplicada**\n",
        "##**Curso: Inteligencia Artificial y Aprendizaje Automático**\n",
        "###Tecnológico de Monterrey\n",
        "###Prof Luis Eduardo Falcón Morales\n",
        "\n",
        "## **Adtividad de la Semana 7**\n",
        "###**Red Neuronal Artificial - Perceptrón Multicapa : Multilayer Perceptrón (MLP)**\n"
      ],
      "metadata": {
        "id": "VFj0sSM06dYa"
      }
    },
    {
      "cell_type": "markdown",
      "source": [
        "**Nombres y matrículas de los integrantes del equipo:**\n",
        "\n",
        "*   Samara García González A01273001\n",
        "*   Laura Elena Hernández Mata A01169213\n",
        "*   Evelyn Aylin Rendon Medina A01748750\n",
        "*   Emmanuel González Calitl A01320739\n",
        "*   Carlos Enrique Diaz Ayala A01793816"
      ],
      "metadata": {
        "id": "Qgrvy0RGB9XI"
      }
    },
    {
      "cell_type": "markdown",
      "source": [
        "En cada sección deberás incluir todas las líneas de código necesarias para responder a cada uno de los ejercicios."
      ],
      "metadata": {
        "id": "FrJ2ahMODVj1"
      }
    },
    {
      "cell_type": "code",
      "source": [
        "# Incluye aquí todos módulos, librerías y paquetes que requieras.\n",
        "import pandas as pd\n",
        "import numpy as np\n",
        "import matplotlib.pyplot as plt \n",
        "import seaborn as sns \n",
        "from sklearn.model_selection import train_test_split\n",
        "\n",
        "from sklearn.pipeline import Pipeline\n",
        "from sklearn.impute import SimpleImputer\n",
        "from sklearn.compose import ColumnTransformer\n",
        "from sklearn.preprocessing import MinMaxScaler \n",
        "from sklearn.preprocessing import OneHotEncoder\n",
        "\n",
        "from sklearn.pipeline import Pipeline\n",
        "from sklearn.model_selection import KFold\n",
        "from sklearn.model_selection import RepeatedStratifiedKFold\n",
        "from sklearn.ensemble import RandomForestClassifier\n",
        "from sklearn.model_selection import  cross_validate\n",
        "\n",
        "from sklearn.neural_network import MLPRegressor\n",
        "from sklearn.linear_model import LogisticRegression\n",
        "from sklearn.datasets import make_regression\n",
        "from sklearn.metrics import mean_squared_error, mean_absolute_percentage_error\n",
        "\n",
        "from sklearn.dummy import DummyRegressor"
      ],
      "metadata": {
        "id": "exXsscs-Dh-2"
      },
      "execution_count": 494,
      "outputs": []
    },
    {
      "cell_type": "markdown",
      "metadata": {
        "id": "X25brD-gQdZM"
      },
      "source": [
        "#**Ejercicio-1.** "
      ]
    },
    {
      "cell_type": "markdown",
      "source": [
        "## Obteniendo el dataset"
      ],
      "metadata": {
        "id": "JAhPs6GroNJl"
      }
    },
    {
      "cell_type": "code",
      "source": [
        "print(\"Inicia Descarga\")\n",
        "datos_originales = pd.read_csv(\"https://raw.githubusercontent.com/LH-1169213/Equipo3/main/dataset_Facebook.csv\", sep = \";\")\n",
        "print(\"Finaliza Descarga, revisa la información\")\n",
        "datos_originales.head()\n"
      ],
      "metadata": {
        "id": "3nU2GuWYCy6C",
        "colab": {
          "base_uri": "https://localhost:8080/",
          "height": 441
        },
        "outputId": "922fe362-3129-41a2-ab80-85fafa6dfd3f"
      },
      "execution_count": 495,
      "outputs": [
        {
          "output_type": "stream",
          "name": "stdout",
          "text": [
            "Inicia Descarga\n",
            "Finaliza Descarga, revisa la información\n"
          ]
        },
        {
          "output_type": "execute_result",
          "data": {
            "text/plain": [
              "   Page total likes    Type  Category  Post Month  Post Weekday  Post Hour  \\\n",
              "0            139441   Photo         2          12             4          3   \n",
              "1            139441  Status         2          12             3         10   \n",
              "2            139441   Photo         3          12             3          3   \n",
              "3            139441   Photo         2          12             2         10   \n",
              "4            139441   Photo         2          12             2          3   \n",
              "\n",
              "   Paid  Lifetime Post Total Reach  Lifetime Post Total Impressions  \\\n",
              "0   0.0                       2752                             5091   \n",
              "1   0.0                      10460                            19057   \n",
              "2   0.0                       2413                             4373   \n",
              "3   1.0                      50128                            87991   \n",
              "4   0.0                       7244                            13594   \n",
              "\n",
              "   Lifetime Engaged Users  Lifetime Post Consumers  \\\n",
              "0                     178                      109   \n",
              "1                    1457                     1361   \n",
              "2                     177                      113   \n",
              "3                    2211                      790   \n",
              "4                     671                      410   \n",
              "\n",
              "   Lifetime Post Consumptions  \\\n",
              "0                         159   \n",
              "1                        1674   \n",
              "2                         154   \n",
              "3                        1119   \n",
              "4                         580   \n",
              "\n",
              "   Lifetime Post Impressions by people who have liked your Page  \\\n",
              "0                                               3078              \n",
              "1                                              11710              \n",
              "2                                               2812              \n",
              "3                                              61027              \n",
              "4                                               6228              \n",
              "\n",
              "   Lifetime Post reach by people who like your Page  \\\n",
              "0                                              1640   \n",
              "1                                              6112   \n",
              "2                                              1503   \n",
              "3                                             32048   \n",
              "4                                              3200   \n",
              "\n",
              "   Lifetime People who have liked your Page and engaged with your post  \\\n",
              "0                                                119                     \n",
              "1                                               1108                     \n",
              "2                                                132                     \n",
              "3                                               1386                     \n",
              "4                                                396                     \n",
              "\n",
              "   comment    like  share  Total Interactions  \n",
              "0        4    79.0   17.0                 100  \n",
              "1        5   130.0   29.0                 164  \n",
              "2        0    66.0   14.0                  80  \n",
              "3       58  1572.0  147.0                1777  \n",
              "4       19   325.0   49.0                 393  "
            ],
            "text/html": [
              "\n",
              "  <div id=\"df-6f3024c1-bf81-4b91-83aa-272436f6bc35\">\n",
              "    <div class=\"colab-df-container\">\n",
              "      <div>\n",
              "<style scoped>\n",
              "    .dataframe tbody tr th:only-of-type {\n",
              "        vertical-align: middle;\n",
              "    }\n",
              "\n",
              "    .dataframe tbody tr th {\n",
              "        vertical-align: top;\n",
              "    }\n",
              "\n",
              "    .dataframe thead th {\n",
              "        text-align: right;\n",
              "    }\n",
              "</style>\n",
              "<table border=\"1\" class=\"dataframe\">\n",
              "  <thead>\n",
              "    <tr style=\"text-align: right;\">\n",
              "      <th></th>\n",
              "      <th>Page total likes</th>\n",
              "      <th>Type</th>\n",
              "      <th>Category</th>\n",
              "      <th>Post Month</th>\n",
              "      <th>Post Weekday</th>\n",
              "      <th>Post Hour</th>\n",
              "      <th>Paid</th>\n",
              "      <th>Lifetime Post Total Reach</th>\n",
              "      <th>Lifetime Post Total Impressions</th>\n",
              "      <th>Lifetime Engaged Users</th>\n",
              "      <th>Lifetime Post Consumers</th>\n",
              "      <th>Lifetime Post Consumptions</th>\n",
              "      <th>Lifetime Post Impressions by people who have liked your Page</th>\n",
              "      <th>Lifetime Post reach by people who like your Page</th>\n",
              "      <th>Lifetime People who have liked your Page and engaged with your post</th>\n",
              "      <th>comment</th>\n",
              "      <th>like</th>\n",
              "      <th>share</th>\n",
              "      <th>Total Interactions</th>\n",
              "    </tr>\n",
              "  </thead>\n",
              "  <tbody>\n",
              "    <tr>\n",
              "      <th>0</th>\n",
              "      <td>139441</td>\n",
              "      <td>Photo</td>\n",
              "      <td>2</td>\n",
              "      <td>12</td>\n",
              "      <td>4</td>\n",
              "      <td>3</td>\n",
              "      <td>0.0</td>\n",
              "      <td>2752</td>\n",
              "      <td>5091</td>\n",
              "      <td>178</td>\n",
              "      <td>109</td>\n",
              "      <td>159</td>\n",
              "      <td>3078</td>\n",
              "      <td>1640</td>\n",
              "      <td>119</td>\n",
              "      <td>4</td>\n",
              "      <td>79.0</td>\n",
              "      <td>17.0</td>\n",
              "      <td>100</td>\n",
              "    </tr>\n",
              "    <tr>\n",
              "      <th>1</th>\n",
              "      <td>139441</td>\n",
              "      <td>Status</td>\n",
              "      <td>2</td>\n",
              "      <td>12</td>\n",
              "      <td>3</td>\n",
              "      <td>10</td>\n",
              "      <td>0.0</td>\n",
              "      <td>10460</td>\n",
              "      <td>19057</td>\n",
              "      <td>1457</td>\n",
              "      <td>1361</td>\n",
              "      <td>1674</td>\n",
              "      <td>11710</td>\n",
              "      <td>6112</td>\n",
              "      <td>1108</td>\n",
              "      <td>5</td>\n",
              "      <td>130.0</td>\n",
              "      <td>29.0</td>\n",
              "      <td>164</td>\n",
              "    </tr>\n",
              "    <tr>\n",
              "      <th>2</th>\n",
              "      <td>139441</td>\n",
              "      <td>Photo</td>\n",
              "      <td>3</td>\n",
              "      <td>12</td>\n",
              "      <td>3</td>\n",
              "      <td>3</td>\n",
              "      <td>0.0</td>\n",
              "      <td>2413</td>\n",
              "      <td>4373</td>\n",
              "      <td>177</td>\n",
              "      <td>113</td>\n",
              "      <td>154</td>\n",
              "      <td>2812</td>\n",
              "      <td>1503</td>\n",
              "      <td>132</td>\n",
              "      <td>0</td>\n",
              "      <td>66.0</td>\n",
              "      <td>14.0</td>\n",
              "      <td>80</td>\n",
              "    </tr>\n",
              "    <tr>\n",
              "      <th>3</th>\n",
              "      <td>139441</td>\n",
              "      <td>Photo</td>\n",
              "      <td>2</td>\n",
              "      <td>12</td>\n",
              "      <td>2</td>\n",
              "      <td>10</td>\n",
              "      <td>1.0</td>\n",
              "      <td>50128</td>\n",
              "      <td>87991</td>\n",
              "      <td>2211</td>\n",
              "      <td>790</td>\n",
              "      <td>1119</td>\n",
              "      <td>61027</td>\n",
              "      <td>32048</td>\n",
              "      <td>1386</td>\n",
              "      <td>58</td>\n",
              "      <td>1572.0</td>\n",
              "      <td>147.0</td>\n",
              "      <td>1777</td>\n",
              "    </tr>\n",
              "    <tr>\n",
              "      <th>4</th>\n",
              "      <td>139441</td>\n",
              "      <td>Photo</td>\n",
              "      <td>2</td>\n",
              "      <td>12</td>\n",
              "      <td>2</td>\n",
              "      <td>3</td>\n",
              "      <td>0.0</td>\n",
              "      <td>7244</td>\n",
              "      <td>13594</td>\n",
              "      <td>671</td>\n",
              "      <td>410</td>\n",
              "      <td>580</td>\n",
              "      <td>6228</td>\n",
              "      <td>3200</td>\n",
              "      <td>396</td>\n",
              "      <td>19</td>\n",
              "      <td>325.0</td>\n",
              "      <td>49.0</td>\n",
              "      <td>393</td>\n",
              "    </tr>\n",
              "  </tbody>\n",
              "</table>\n",
              "</div>\n",
              "      <button class=\"colab-df-convert\" onclick=\"convertToInteractive('df-6f3024c1-bf81-4b91-83aa-272436f6bc35')\"\n",
              "              title=\"Convert this dataframe to an interactive table.\"\n",
              "              style=\"display:none;\">\n",
              "        \n",
              "  <svg xmlns=\"http://www.w3.org/2000/svg\" height=\"24px\"viewBox=\"0 0 24 24\"\n",
              "       width=\"24px\">\n",
              "    <path d=\"M0 0h24v24H0V0z\" fill=\"none\"/>\n",
              "    <path d=\"M18.56 5.44l.94 2.06.94-2.06 2.06-.94-2.06-.94-.94-2.06-.94 2.06-2.06.94zm-11 1L8.5 8.5l.94-2.06 2.06-.94-2.06-.94L8.5 2.5l-.94 2.06-2.06.94zm10 10l.94 2.06.94-2.06 2.06-.94-2.06-.94-.94-2.06-.94 2.06-2.06.94z\"/><path d=\"M17.41 7.96l-1.37-1.37c-.4-.4-.92-.59-1.43-.59-.52 0-1.04.2-1.43.59L10.3 9.45l-7.72 7.72c-.78.78-.78 2.05 0 2.83L4 21.41c.39.39.9.59 1.41.59.51 0 1.02-.2 1.41-.59l7.78-7.78 2.81-2.81c.8-.78.8-2.07 0-2.86zM5.41 20L4 18.59l7.72-7.72 1.47 1.35L5.41 20z\"/>\n",
              "  </svg>\n",
              "      </button>\n",
              "      \n",
              "  <style>\n",
              "    .colab-df-container {\n",
              "      display:flex;\n",
              "      flex-wrap:wrap;\n",
              "      gap: 12px;\n",
              "    }\n",
              "\n",
              "    .colab-df-convert {\n",
              "      background-color: #E8F0FE;\n",
              "      border: none;\n",
              "      border-radius: 50%;\n",
              "      cursor: pointer;\n",
              "      display: none;\n",
              "      fill: #1967D2;\n",
              "      height: 32px;\n",
              "      padding: 0 0 0 0;\n",
              "      width: 32px;\n",
              "    }\n",
              "\n",
              "    .colab-df-convert:hover {\n",
              "      background-color: #E2EBFA;\n",
              "      box-shadow: 0px 1px 2px rgba(60, 64, 67, 0.3), 0px 1px 3px 1px rgba(60, 64, 67, 0.15);\n",
              "      fill: #174EA6;\n",
              "    }\n",
              "\n",
              "    [theme=dark] .colab-df-convert {\n",
              "      background-color: #3B4455;\n",
              "      fill: #D2E3FC;\n",
              "    }\n",
              "\n",
              "    [theme=dark] .colab-df-convert:hover {\n",
              "      background-color: #434B5C;\n",
              "      box-shadow: 0px 1px 3px 1px rgba(0, 0, 0, 0.15);\n",
              "      filter: drop-shadow(0px 1px 2px rgba(0, 0, 0, 0.3));\n",
              "      fill: #FFFFFF;\n",
              "    }\n",
              "  </style>\n",
              "\n",
              "      <script>\n",
              "        const buttonEl =\n",
              "          document.querySelector('#df-6f3024c1-bf81-4b91-83aa-272436f6bc35 button.colab-df-convert');\n",
              "        buttonEl.style.display =\n",
              "          google.colab.kernel.accessAllowed ? 'block' : 'none';\n",
              "\n",
              "        async function convertToInteractive(key) {\n",
              "          const element = document.querySelector('#df-6f3024c1-bf81-4b91-83aa-272436f6bc35');\n",
              "          const dataTable =\n",
              "            await google.colab.kernel.invokeFunction('convertToInteractive',\n",
              "                                                     [key], {});\n",
              "          if (!dataTable) return;\n",
              "\n",
              "          const docLinkHtml = 'Like what you see? Visit the ' +\n",
              "            '<a target=\"_blank\" href=https://colab.research.google.com/notebooks/data_table.ipynb>data table notebook</a>'\n",
              "            + ' to learn more about interactive tables.';\n",
              "          element.innerHTML = '';\n",
              "          dataTable['output_type'] = 'display_data';\n",
              "          await google.colab.output.renderOutput(dataTable, element);\n",
              "          const docLink = document.createElement('div');\n",
              "          docLink.innerHTML = docLinkHtml;\n",
              "          element.appendChild(docLink);\n",
              "        }\n",
              "      </script>\n",
              "    </div>\n",
              "  </div>\n",
              "  "
            ]
          },
          "metadata": {},
          "execution_count": 495
        }
      ]
    },
    {
      "cell_type": "markdown",
      "source": [
        "## Se hace copia del Dataset"
      ],
      "metadata": {
        "id": "Zl3ikPxIoiB1"
      }
    },
    {
      "cell_type": "code",
      "source": [
        "df = datos_originales\n",
        "df.drop(['Type'], axis=1)"
      ],
      "metadata": {
        "id": "1JjAZXcCoiPx",
        "colab": {
          "base_uri": "https://localhost:8080/",
          "height": 606
        },
        "outputId": "b4bd92cd-1c83-4bab-8d74-92c49add3c97"
      },
      "execution_count": 496,
      "outputs": [
        {
          "output_type": "execute_result",
          "data": {
            "text/plain": [
              "     Page total likes  Category  Post Month  Post Weekday  Post Hour  Paid  \\\n",
              "0              139441         2          12             4          3   0.0   \n",
              "1              139441         2          12             3         10   0.0   \n",
              "2              139441         3          12             3          3   0.0   \n",
              "3              139441         2          12             2         10   1.0   \n",
              "4              139441         2          12             2          3   0.0   \n",
              "..                ...       ...         ...           ...        ...   ...   \n",
              "495             85093         3           1             7          2   0.0   \n",
              "496             81370         2           1             5          8   0.0   \n",
              "497             81370         1           1             5          2   0.0   \n",
              "498             81370         3           1             4         11   0.0   \n",
              "499             81370         2           1             4          4   NaN   \n",
              "\n",
              "     Lifetime Post Total Reach  Lifetime Post Total Impressions  \\\n",
              "0                         2752                             5091   \n",
              "1                        10460                            19057   \n",
              "2                         2413                             4373   \n",
              "3                        50128                            87991   \n",
              "4                         7244                            13594   \n",
              "..                         ...                              ...   \n",
              "495                       4684                             7536   \n",
              "496                       3480                             6229   \n",
              "497                       3778                             7216   \n",
              "498                       4156                             7564   \n",
              "499                       4188                             7292   \n",
              "\n",
              "     Lifetime Engaged Users  Lifetime Post Consumers  \\\n",
              "0                       178                      109   \n",
              "1                      1457                     1361   \n",
              "2                       177                      113   \n",
              "3                      2211                      790   \n",
              "4                       671                      410   \n",
              "..                      ...                      ...   \n",
              "495                     733                      708   \n",
              "496                     537                      508   \n",
              "497                     625                      572   \n",
              "498                     626                      574   \n",
              "499                     564                      524   \n",
              "\n",
              "     Lifetime Post Consumptions  \\\n",
              "0                           159   \n",
              "1                          1674   \n",
              "2                           154   \n",
              "3                          1119   \n",
              "4                           580   \n",
              "..                          ...   \n",
              "495                         985   \n",
              "496                         687   \n",
              "497                         795   \n",
              "498                         832   \n",
              "499                         743   \n",
              "\n",
              "     Lifetime Post Impressions by people who have liked your Page  \\\n",
              "0                                                 3078              \n",
              "1                                                11710              \n",
              "2                                                 2812              \n",
              "3                                                61027              \n",
              "4                                                 6228              \n",
              "..                                                 ...              \n",
              "495                                               4750              \n",
              "496                                               3961              \n",
              "497                                               4742              \n",
              "498                                               4534              \n",
              "499                                               3861              \n",
              "\n",
              "     Lifetime Post reach by people who like your Page  \\\n",
              "0                                                1640   \n",
              "1                                                6112   \n",
              "2                                                1503   \n",
              "3                                               32048   \n",
              "4                                                3200   \n",
              "..                                                ...   \n",
              "495                                              2876   \n",
              "496                                              2104   \n",
              "497                                              2388   \n",
              "498                                              2452   \n",
              "499                                              2200   \n",
              "\n",
              "     Lifetime People who have liked your Page and engaged with your post  \\\n",
              "0                                                  119                     \n",
              "1                                                 1108                     \n",
              "2                                                  132                     \n",
              "3                                                 1386                     \n",
              "4                                                  396                     \n",
              "..                                                 ...                     \n",
              "495                                                392                     \n",
              "496                                                301                     \n",
              "497                                                363                     \n",
              "498                                                370                     \n",
              "499                                                316                     \n",
              "\n",
              "     comment    like  share  Total Interactions  \n",
              "0          4    79.0   17.0                 100  \n",
              "1          5   130.0   29.0                 164  \n",
              "2          0    66.0   14.0                  80  \n",
              "3         58  1572.0  147.0                1777  \n",
              "4         19   325.0   49.0                 393  \n",
              "..       ...     ...    ...                 ...  \n",
              "495        5    53.0   26.0                  84  \n",
              "496        0    53.0   22.0                  75  \n",
              "497        4    93.0   18.0                 115  \n",
              "498        7    91.0   38.0                 136  \n",
              "499        0    91.0   28.0                 119  \n",
              "\n",
              "[500 rows x 18 columns]"
            ],
            "text/html": [
              "\n",
              "  <div id=\"df-34993d26-6ce2-465a-8740-986e2d697c9d\">\n",
              "    <div class=\"colab-df-container\">\n",
              "      <div>\n",
              "<style scoped>\n",
              "    .dataframe tbody tr th:only-of-type {\n",
              "        vertical-align: middle;\n",
              "    }\n",
              "\n",
              "    .dataframe tbody tr th {\n",
              "        vertical-align: top;\n",
              "    }\n",
              "\n",
              "    .dataframe thead th {\n",
              "        text-align: right;\n",
              "    }\n",
              "</style>\n",
              "<table border=\"1\" class=\"dataframe\">\n",
              "  <thead>\n",
              "    <tr style=\"text-align: right;\">\n",
              "      <th></th>\n",
              "      <th>Page total likes</th>\n",
              "      <th>Category</th>\n",
              "      <th>Post Month</th>\n",
              "      <th>Post Weekday</th>\n",
              "      <th>Post Hour</th>\n",
              "      <th>Paid</th>\n",
              "      <th>Lifetime Post Total Reach</th>\n",
              "      <th>Lifetime Post Total Impressions</th>\n",
              "      <th>Lifetime Engaged Users</th>\n",
              "      <th>Lifetime Post Consumers</th>\n",
              "      <th>Lifetime Post Consumptions</th>\n",
              "      <th>Lifetime Post Impressions by people who have liked your Page</th>\n",
              "      <th>Lifetime Post reach by people who like your Page</th>\n",
              "      <th>Lifetime People who have liked your Page and engaged with your post</th>\n",
              "      <th>comment</th>\n",
              "      <th>like</th>\n",
              "      <th>share</th>\n",
              "      <th>Total Interactions</th>\n",
              "    </tr>\n",
              "  </thead>\n",
              "  <tbody>\n",
              "    <tr>\n",
              "      <th>0</th>\n",
              "      <td>139441</td>\n",
              "      <td>2</td>\n",
              "      <td>12</td>\n",
              "      <td>4</td>\n",
              "      <td>3</td>\n",
              "      <td>0.0</td>\n",
              "      <td>2752</td>\n",
              "      <td>5091</td>\n",
              "      <td>178</td>\n",
              "      <td>109</td>\n",
              "      <td>159</td>\n",
              "      <td>3078</td>\n",
              "      <td>1640</td>\n",
              "      <td>119</td>\n",
              "      <td>4</td>\n",
              "      <td>79.0</td>\n",
              "      <td>17.0</td>\n",
              "      <td>100</td>\n",
              "    </tr>\n",
              "    <tr>\n",
              "      <th>1</th>\n",
              "      <td>139441</td>\n",
              "      <td>2</td>\n",
              "      <td>12</td>\n",
              "      <td>3</td>\n",
              "      <td>10</td>\n",
              "      <td>0.0</td>\n",
              "      <td>10460</td>\n",
              "      <td>19057</td>\n",
              "      <td>1457</td>\n",
              "      <td>1361</td>\n",
              "      <td>1674</td>\n",
              "      <td>11710</td>\n",
              "      <td>6112</td>\n",
              "      <td>1108</td>\n",
              "      <td>5</td>\n",
              "      <td>130.0</td>\n",
              "      <td>29.0</td>\n",
              "      <td>164</td>\n",
              "    </tr>\n",
              "    <tr>\n",
              "      <th>2</th>\n",
              "      <td>139441</td>\n",
              "      <td>3</td>\n",
              "      <td>12</td>\n",
              "      <td>3</td>\n",
              "      <td>3</td>\n",
              "      <td>0.0</td>\n",
              "      <td>2413</td>\n",
              "      <td>4373</td>\n",
              "      <td>177</td>\n",
              "      <td>113</td>\n",
              "      <td>154</td>\n",
              "      <td>2812</td>\n",
              "      <td>1503</td>\n",
              "      <td>132</td>\n",
              "      <td>0</td>\n",
              "      <td>66.0</td>\n",
              "      <td>14.0</td>\n",
              "      <td>80</td>\n",
              "    </tr>\n",
              "    <tr>\n",
              "      <th>3</th>\n",
              "      <td>139441</td>\n",
              "      <td>2</td>\n",
              "      <td>12</td>\n",
              "      <td>2</td>\n",
              "      <td>10</td>\n",
              "      <td>1.0</td>\n",
              "      <td>50128</td>\n",
              "      <td>87991</td>\n",
              "      <td>2211</td>\n",
              "      <td>790</td>\n",
              "      <td>1119</td>\n",
              "      <td>61027</td>\n",
              "      <td>32048</td>\n",
              "      <td>1386</td>\n",
              "      <td>58</td>\n",
              "      <td>1572.0</td>\n",
              "      <td>147.0</td>\n",
              "      <td>1777</td>\n",
              "    </tr>\n",
              "    <tr>\n",
              "      <th>4</th>\n",
              "      <td>139441</td>\n",
              "      <td>2</td>\n",
              "      <td>12</td>\n",
              "      <td>2</td>\n",
              "      <td>3</td>\n",
              "      <td>0.0</td>\n",
              "      <td>7244</td>\n",
              "      <td>13594</td>\n",
              "      <td>671</td>\n",
              "      <td>410</td>\n",
              "      <td>580</td>\n",
              "      <td>6228</td>\n",
              "      <td>3200</td>\n",
              "      <td>396</td>\n",
              "      <td>19</td>\n",
              "      <td>325.0</td>\n",
              "      <td>49.0</td>\n",
              "      <td>393</td>\n",
              "    </tr>\n",
              "    <tr>\n",
              "      <th>...</th>\n",
              "      <td>...</td>\n",
              "      <td>...</td>\n",
              "      <td>...</td>\n",
              "      <td>...</td>\n",
              "      <td>...</td>\n",
              "      <td>...</td>\n",
              "      <td>...</td>\n",
              "      <td>...</td>\n",
              "      <td>...</td>\n",
              "      <td>...</td>\n",
              "      <td>...</td>\n",
              "      <td>...</td>\n",
              "      <td>...</td>\n",
              "      <td>...</td>\n",
              "      <td>...</td>\n",
              "      <td>...</td>\n",
              "      <td>...</td>\n",
              "      <td>...</td>\n",
              "    </tr>\n",
              "    <tr>\n",
              "      <th>495</th>\n",
              "      <td>85093</td>\n",
              "      <td>3</td>\n",
              "      <td>1</td>\n",
              "      <td>7</td>\n",
              "      <td>2</td>\n",
              "      <td>0.0</td>\n",
              "      <td>4684</td>\n",
              "      <td>7536</td>\n",
              "      <td>733</td>\n",
              "      <td>708</td>\n",
              "      <td>985</td>\n",
              "      <td>4750</td>\n",
              "      <td>2876</td>\n",
              "      <td>392</td>\n",
              "      <td>5</td>\n",
              "      <td>53.0</td>\n",
              "      <td>26.0</td>\n",
              "      <td>84</td>\n",
              "    </tr>\n",
              "    <tr>\n",
              "      <th>496</th>\n",
              "      <td>81370</td>\n",
              "      <td>2</td>\n",
              "      <td>1</td>\n",
              "      <td>5</td>\n",
              "      <td>8</td>\n",
              "      <td>0.0</td>\n",
              "      <td>3480</td>\n",
              "      <td>6229</td>\n",
              "      <td>537</td>\n",
              "      <td>508</td>\n",
              "      <td>687</td>\n",
              "      <td>3961</td>\n",
              "      <td>2104</td>\n",
              "      <td>301</td>\n",
              "      <td>0</td>\n",
              "      <td>53.0</td>\n",
              "      <td>22.0</td>\n",
              "      <td>75</td>\n",
              "    </tr>\n",
              "    <tr>\n",
              "      <th>497</th>\n",
              "      <td>81370</td>\n",
              "      <td>1</td>\n",
              "      <td>1</td>\n",
              "      <td>5</td>\n",
              "      <td>2</td>\n",
              "      <td>0.0</td>\n",
              "      <td>3778</td>\n",
              "      <td>7216</td>\n",
              "      <td>625</td>\n",
              "      <td>572</td>\n",
              "      <td>795</td>\n",
              "      <td>4742</td>\n",
              "      <td>2388</td>\n",
              "      <td>363</td>\n",
              "      <td>4</td>\n",
              "      <td>93.0</td>\n",
              "      <td>18.0</td>\n",
              "      <td>115</td>\n",
              "    </tr>\n",
              "    <tr>\n",
              "      <th>498</th>\n",
              "      <td>81370</td>\n",
              "      <td>3</td>\n",
              "      <td>1</td>\n",
              "      <td>4</td>\n",
              "      <td>11</td>\n",
              "      <td>0.0</td>\n",
              "      <td>4156</td>\n",
              "      <td>7564</td>\n",
              "      <td>626</td>\n",
              "      <td>574</td>\n",
              "      <td>832</td>\n",
              "      <td>4534</td>\n",
              "      <td>2452</td>\n",
              "      <td>370</td>\n",
              "      <td>7</td>\n",
              "      <td>91.0</td>\n",
              "      <td>38.0</td>\n",
              "      <td>136</td>\n",
              "    </tr>\n",
              "    <tr>\n",
              "      <th>499</th>\n",
              "      <td>81370</td>\n",
              "      <td>2</td>\n",
              "      <td>1</td>\n",
              "      <td>4</td>\n",
              "      <td>4</td>\n",
              "      <td>NaN</td>\n",
              "      <td>4188</td>\n",
              "      <td>7292</td>\n",
              "      <td>564</td>\n",
              "      <td>524</td>\n",
              "      <td>743</td>\n",
              "      <td>3861</td>\n",
              "      <td>2200</td>\n",
              "      <td>316</td>\n",
              "      <td>0</td>\n",
              "      <td>91.0</td>\n",
              "      <td>28.0</td>\n",
              "      <td>119</td>\n",
              "    </tr>\n",
              "  </tbody>\n",
              "</table>\n",
              "<p>500 rows × 18 columns</p>\n",
              "</div>\n",
              "      <button class=\"colab-df-convert\" onclick=\"convertToInteractive('df-34993d26-6ce2-465a-8740-986e2d697c9d')\"\n",
              "              title=\"Convert this dataframe to an interactive table.\"\n",
              "              style=\"display:none;\">\n",
              "        \n",
              "  <svg xmlns=\"http://www.w3.org/2000/svg\" height=\"24px\"viewBox=\"0 0 24 24\"\n",
              "       width=\"24px\">\n",
              "    <path d=\"M0 0h24v24H0V0z\" fill=\"none\"/>\n",
              "    <path d=\"M18.56 5.44l.94 2.06.94-2.06 2.06-.94-2.06-.94-.94-2.06-.94 2.06-2.06.94zm-11 1L8.5 8.5l.94-2.06 2.06-.94-2.06-.94L8.5 2.5l-.94 2.06-2.06.94zm10 10l.94 2.06.94-2.06 2.06-.94-2.06-.94-.94-2.06-.94 2.06-2.06.94z\"/><path d=\"M17.41 7.96l-1.37-1.37c-.4-.4-.92-.59-1.43-.59-.52 0-1.04.2-1.43.59L10.3 9.45l-7.72 7.72c-.78.78-.78 2.05 0 2.83L4 21.41c.39.39.9.59 1.41.59.51 0 1.02-.2 1.41-.59l7.78-7.78 2.81-2.81c.8-.78.8-2.07 0-2.86zM5.41 20L4 18.59l7.72-7.72 1.47 1.35L5.41 20z\"/>\n",
              "  </svg>\n",
              "      </button>\n",
              "      \n",
              "  <style>\n",
              "    .colab-df-container {\n",
              "      display:flex;\n",
              "      flex-wrap:wrap;\n",
              "      gap: 12px;\n",
              "    }\n",
              "\n",
              "    .colab-df-convert {\n",
              "      background-color: #E8F0FE;\n",
              "      border: none;\n",
              "      border-radius: 50%;\n",
              "      cursor: pointer;\n",
              "      display: none;\n",
              "      fill: #1967D2;\n",
              "      height: 32px;\n",
              "      padding: 0 0 0 0;\n",
              "      width: 32px;\n",
              "    }\n",
              "\n",
              "    .colab-df-convert:hover {\n",
              "      background-color: #E2EBFA;\n",
              "      box-shadow: 0px 1px 2px rgba(60, 64, 67, 0.3), 0px 1px 3px 1px rgba(60, 64, 67, 0.15);\n",
              "      fill: #174EA6;\n",
              "    }\n",
              "\n",
              "    [theme=dark] .colab-df-convert {\n",
              "      background-color: #3B4455;\n",
              "      fill: #D2E3FC;\n",
              "    }\n",
              "\n",
              "    [theme=dark] .colab-df-convert:hover {\n",
              "      background-color: #434B5C;\n",
              "      box-shadow: 0px 1px 3px 1px rgba(0, 0, 0, 0.15);\n",
              "      filter: drop-shadow(0px 1px 2px rgba(0, 0, 0, 0.3));\n",
              "      fill: #FFFFFF;\n",
              "    }\n",
              "  </style>\n",
              "\n",
              "      <script>\n",
              "        const buttonEl =\n",
              "          document.querySelector('#df-34993d26-6ce2-465a-8740-986e2d697c9d button.colab-df-convert');\n",
              "        buttonEl.style.display =\n",
              "          google.colab.kernel.accessAllowed ? 'block' : 'none';\n",
              "\n",
              "        async function convertToInteractive(key) {\n",
              "          const element = document.querySelector('#df-34993d26-6ce2-465a-8740-986e2d697c9d');\n",
              "          const dataTable =\n",
              "            await google.colab.kernel.invokeFunction('convertToInteractive',\n",
              "                                                     [key], {});\n",
              "          if (!dataTable) return;\n",
              "\n",
              "          const docLinkHtml = 'Like what you see? Visit the ' +\n",
              "            '<a target=\"_blank\" href=https://colab.research.google.com/notebooks/data_table.ipynb>data table notebook</a>'\n",
              "            + ' to learn more about interactive tables.';\n",
              "          element.innerHTML = '';\n",
              "          dataTable['output_type'] = 'display_data';\n",
              "          await google.colab.output.renderOutput(dataTable, element);\n",
              "          const docLink = document.createElement('div');\n",
              "          docLink.innerHTML = docLinkHtml;\n",
              "          element.appendChild(docLink);\n",
              "        }\n",
              "      </script>\n",
              "    </div>\n",
              "  </div>\n",
              "  "
            ]
          },
          "metadata": {},
          "execution_count": 496
        }
      ]
    },
    {
      "cell_type": "markdown",
      "source": [
        "## Entendiendo el Dataset"
      ],
      "metadata": {
        "id": "57WvmsH5oT7f"
      }
    },
    {
      "cell_type": "code",
      "source": [
        "\n",
        "df.info()\n"
      ],
      "metadata": {
        "colab": {
          "base_uri": "https://localhost:8080/"
        },
        "id": "wQTSFgcpoYbX",
        "outputId": "2950151a-0164-4441-b331-37e97d06ac91"
      },
      "execution_count": 497,
      "outputs": [
        {
          "output_type": "stream",
          "name": "stdout",
          "text": [
            "<class 'pandas.core.frame.DataFrame'>\n",
            "RangeIndex: 500 entries, 0 to 499\n",
            "Data columns (total 19 columns):\n",
            " #   Column                                                               Non-Null Count  Dtype  \n",
            "---  ------                                                               --------------  -----  \n",
            " 0   Page total likes                                                     500 non-null    int64  \n",
            " 1   Type                                                                 500 non-null    object \n",
            " 2   Category                                                             500 non-null    int64  \n",
            " 3   Post Month                                                           500 non-null    int64  \n",
            " 4   Post Weekday                                                         500 non-null    int64  \n",
            " 5   Post Hour                                                            500 non-null    int64  \n",
            " 6   Paid                                                                 499 non-null    float64\n",
            " 7   Lifetime Post Total Reach                                            500 non-null    int64  \n",
            " 8   Lifetime Post Total Impressions                                      500 non-null    int64  \n",
            " 9   Lifetime Engaged Users                                               500 non-null    int64  \n",
            " 10  Lifetime Post Consumers                                              500 non-null    int64  \n",
            " 11  Lifetime Post Consumptions                                           500 non-null    int64  \n",
            " 12  Lifetime Post Impressions by people who have liked your Page         500 non-null    int64  \n",
            " 13  Lifetime Post reach by people who like your Page                     500 non-null    int64  \n",
            " 14  Lifetime People who have liked your Page and engaged with your post  500 non-null    int64  \n",
            " 15  comment                                                              500 non-null    int64  \n",
            " 16  like                                                                 499 non-null    float64\n",
            " 17  share                                                                496 non-null    float64\n",
            " 18  Total Interactions                                                   500 non-null    int64  \n",
            "dtypes: float64(3), int64(15), object(1)\n",
            "memory usage: 74.3+ KB\n"
          ]
        }
      ]
    },
    {
      "cell_type": "markdown",
      "source": [
        "## En esta tarea considera únicamente la siguiente variable de salida que se concluye que es una de las mejores en el artículo antes citado:  ‘Lifetime People who have liked a Page and engaged with a post'. Renombra dicha variable como “LPE” . Como variables de entrada selecciona las 7 variables que indican los autores en la Tabla 3 del artículo citado. "
      ],
      "metadata": {
        "id": "4uHufSlmoKD3"
      }
    },
    {
      "cell_type": "code",
      "source": [
        "# RENOMBRANDO LA VARIABLE DE SALIDA\n",
        "\n",
        "df = df.rename(columns={\"Lifetime People who have liked your Page and engaged with your post\":\"LPE\"})\n",
        "df.info()"
      ],
      "metadata": {
        "colab": {
          "base_uri": "https://localhost:8080/"
        },
        "id": "RgPUM9nmqKqq",
        "outputId": "fc1790fc-17af-4705-c7a3-edd9de909939"
      },
      "execution_count": 498,
      "outputs": [
        {
          "output_type": "stream",
          "name": "stdout",
          "text": [
            "<class 'pandas.core.frame.DataFrame'>\n",
            "RangeIndex: 500 entries, 0 to 499\n",
            "Data columns (total 19 columns):\n",
            " #   Column                                                        Non-Null Count  Dtype  \n",
            "---  ------                                                        --------------  -----  \n",
            " 0   Page total likes                                              500 non-null    int64  \n",
            " 1   Type                                                          500 non-null    object \n",
            " 2   Category                                                      500 non-null    int64  \n",
            " 3   Post Month                                                    500 non-null    int64  \n",
            " 4   Post Weekday                                                  500 non-null    int64  \n",
            " 5   Post Hour                                                     500 non-null    int64  \n",
            " 6   Paid                                                          499 non-null    float64\n",
            " 7   Lifetime Post Total Reach                                     500 non-null    int64  \n",
            " 8   Lifetime Post Total Impressions                               500 non-null    int64  \n",
            " 9   Lifetime Engaged Users                                        500 non-null    int64  \n",
            " 10  Lifetime Post Consumers                                       500 non-null    int64  \n",
            " 11  Lifetime Post Consumptions                                    500 non-null    int64  \n",
            " 12  Lifetime Post Impressions by people who have liked your Page  500 non-null    int64  \n",
            " 13  Lifetime Post reach by people who like your Page              500 non-null    int64  \n",
            " 14  LPE                                                           500 non-null    int64  \n",
            " 15  comment                                                       500 non-null    int64  \n",
            " 16  like                                                          499 non-null    float64\n",
            " 17  share                                                         496 non-null    float64\n",
            " 18  Total Interactions                                            500 non-null    int64  \n",
            "dtypes: float64(3), int64(15), object(1)\n",
            "memory usage: 74.3+ KB\n"
          ]
        }
      ]
    },
    {
      "cell_type": "code",
      "source": [
        "# DEFINICIÓN DE LAS VARIABLES\n",
        "\n",
        "X = df.iloc[:,0:7] # VARIABLES DE ENTRADA SEGÚN EL ARTÍCULO \n",
        "\n",
        "y = df[\"LPE\"] # VARIABLE DE SALIDA"
      ],
      "metadata": {
        "id": "0ulkqXVGCy97"
      },
      "execution_count": 499,
      "outputs": []
    },
    {
      "cell_type": "markdown",
      "source": [
        "#**Ejercicio-2.**"
      ],
      "metadata": {
        "id": "xZhr2hkECzVv"
      }
    },
    {
      "cell_type": "markdown",
      "source": [
        "## Realiza una partición de los datos con 100 datos de Prueba y el resto para entrenamiento y validación. "
      ],
      "metadata": {
        "id": "aoMLycinr_vY"
      }
    },
    {
      "cell_type": "code",
      "source": [
        "# PARTICIÓN CON 20% DE TEST\n",
        "\n",
        "#Se agrega random state para la parte de que los datos sean aleatorios\n",
        "#Se utiliza también la partición por la cantidad de datos.\n",
        "\n",
        "#Xtrain, Xtest, Ytrain, Ytest =  train_test_split(X,y, test_size = 0.20, random_state = 1)\n",
        "Xtrain, Xtest, Ytrain, Ytest =  train_test_split(X,y, test_size = 100, random_state = 1) \n"
      ],
      "metadata": {
        "id": "kGfAoOPkC1PP"
      },
      "execution_count": 500,
      "outputs": []
    },
    {
      "cell_type": "code",
      "source": [
        "# REVISAMOS QUE LA PARTICIÓN HAYA SIDO CORRECTA\n",
        "print(\"Tamaño de las variables de entrada y salida sin partición (X & y)\")\n",
        "print(X.shape, y.shape)\n",
        "\n",
        "print(\"Tamaño de los valores de entrenamiento (Xtrain & Ytrain)\")\n",
        "print(Xtrain.shape, Ytrain.shape)\n",
        "\n",
        "print(\"Tamaño de los valores de prueba (Xtest & Ytest)\")\n",
        "print(Xtest.shape, Ytest.shape)"
      ],
      "metadata": {
        "id": "h9bN7zXzz2qu",
        "outputId": "24942d73-efe4-406e-f014-6d8457ea3728",
        "colab": {
          "base_uri": "https://localhost:8080/"
        }
      },
      "execution_count": 501,
      "outputs": [
        {
          "output_type": "stream",
          "name": "stdout",
          "text": [
            "Tamaño de las variables de entrada y salida sin partición (X & y)\n",
            "(500, 7) (500,)\n",
            "Tamaño de los valores de entrenamiento (Xtrain & Ytrain)\n",
            "(400, 7) (400,)\n",
            "Tamaño de los valores de prueba (Xtest & Ytest)\n",
            "(100, 7) (100,)\n"
          ]
        }
      ]
    },
    {
      "cell_type": "markdown",
      "source": [
        "#**Ejercicio-3.**"
      ],
      "metadata": {
        "id": "NCunuooTC2W3"
      }
    },
    {
      "cell_type": "markdown",
      "source": [
        "Definirás tus propias funciones de errores para este problema de regresión. Los errores que utilizarás son la raíz cuadrada del error cuadrático medio RMSE, el error absoluto medio MAE y el error porcentual absoluto medio MAPE. "
      ],
      "metadata": {
        "id": "iPnIZ2OIszPj"
      }
    },
    {
      "cell_type": "code",
      "source": [
        "def RMSEFunction(yReal, yEstimada):\n",
        "  return np.sqrt(np.mean(np.square(yReal-yEstimada)))\n",
        "\n",
        "def MAEFunction(yReal, yEstimada):\n",
        "  return np.mean(np.abs(yReal-yEstimada)) \n",
        "\n",
        "def MAPEFunction(yReal, yEstimada):\n",
        "  return np.mean(np.abs((yReal-yEstimada)/yReal))*100"
      ],
      "metadata": {
        "id": "BKI80-YdC4HN"
      },
      "execution_count": 502,
      "outputs": []
    },
    {
      "cell_type": "markdown",
      "source": [
        "#**Ejercicio-4.**"
      ],
      "metadata": {
        "id": "chqk9jIDC5Pq"
      }
    },
    {
      "cell_type": "markdown",
      "source": [
        "## En la página de la UCI, así como en el artículo de los autores previamente citado encuentras información en relación al significado de cada variable. Haz una análisis de tus datos y lleva a cabo las transformaciones que consideres adecuadas tanto en los datos de entrada, como en las de salida. Utiliza un Pipeline para evitar el filtrado de información. "
      ],
      "metadata": {
        "id": "GKKIb1YLuVn4"
      }
    },
    {
      "cell_type": "code",
      "source": [
        "df.columns"
      ],
      "metadata": {
        "id": "RBVSFwK4C6g9",
        "outputId": "501293df-52c1-4613-d2a6-deee7190ae77",
        "colab": {
          "base_uri": "https://localhost:8080/"
        }
      },
      "execution_count": 503,
      "outputs": [
        {
          "output_type": "execute_result",
          "data": {
            "text/plain": [
              "Index(['Page total likes', 'Type', 'Category', 'Post Month', 'Post Weekday',\n",
              "       'Post Hour', 'Paid', 'Lifetime Post Total Reach',\n",
              "       'Lifetime Post Total Impressions', 'Lifetime Engaged Users',\n",
              "       'Lifetime Post Consumers', 'Lifetime Post Consumptions',\n",
              "       'Lifetime Post Impressions by people who have liked your Page',\n",
              "       'Lifetime Post reach by people who like your Page', 'LPE', 'comment',\n",
              "       'like', 'share', 'Total Interactions'],\n",
              "      dtype='object')"
            ]
          },
          "metadata": {},
          "execution_count": 503
        }
      ]
    },
    {
      "cell_type": "code",
      "source": [
        "#Se quitan variables extras de salida\n",
        "\n",
        "df.drop({'Lifetime Post Total Reach','Lifetime Post Total Impressions', 'Lifetime Engaged Users', 'Lifetime Post Consumers', 'Lifetime Post Consumptions', 'Lifetime Post Impressions by people who have liked your Page','Lifetime Post reach by people who like your Page', 'comment','like', 'share', 'Total Interactions'}, axis = 'columns', inplace = True)\n",
        "df.info()\n",
        "        "
      ],
      "metadata": {
        "id": "Xxh_4ohfBq2p",
        "outputId": "396b5e22-2ad0-4b6b-b6db-0ff03d87141b",
        "colab": {
          "base_uri": "https://localhost:8080/"
        }
      },
      "execution_count": 504,
      "outputs": [
        {
          "output_type": "stream",
          "name": "stdout",
          "text": [
            "<class 'pandas.core.frame.DataFrame'>\n",
            "RangeIndex: 500 entries, 0 to 499\n",
            "Data columns (total 8 columns):\n",
            " #   Column            Non-Null Count  Dtype  \n",
            "---  ------            --------------  -----  \n",
            " 0   Page total likes  500 non-null    int64  \n",
            " 1   Type              500 non-null    object \n",
            " 2   Category          500 non-null    int64  \n",
            " 3   Post Month        500 non-null    int64  \n",
            " 4   Post Weekday      500 non-null    int64  \n",
            " 5   Post Hour         500 non-null    int64  \n",
            " 6   Paid              499 non-null    float64\n",
            " 7   LPE               500 non-null    int64  \n",
            "dtypes: float64(1), int64(6), object(1)\n",
            "memory usage: 31.4+ KB\n"
          ]
        }
      ]
    },
    {
      "cell_type": "code",
      "source": [
        "#Convertir Type a Category:\n",
        "df['Type'] = df['Type'].astype('category')\n"
      ],
      "metadata": {
        "id": "Ittl-6b7AcjO"
      },
      "execution_count": 505,
      "outputs": []
    },
    {
      "cell_type": "code",
      "source": [
        "df.info()"
      ],
      "metadata": {
        "id": "hadzUwxgAzit",
        "outputId": "7fa72f9e-6d92-4a59-9fa3-d99171ddcc62",
        "colab": {
          "base_uri": "https://localhost:8080/"
        }
      },
      "execution_count": 506,
      "outputs": [
        {
          "output_type": "stream",
          "name": "stdout",
          "text": [
            "<class 'pandas.core.frame.DataFrame'>\n",
            "RangeIndex: 500 entries, 0 to 499\n",
            "Data columns (total 8 columns):\n",
            " #   Column            Non-Null Count  Dtype   \n",
            "---  ------            --------------  -----   \n",
            " 0   Page total likes  500 non-null    int64   \n",
            " 1   Type              500 non-null    category\n",
            " 2   Category          500 non-null    int64   \n",
            " 3   Post Month        500 non-null    int64   \n",
            " 4   Post Weekday      500 non-null    int64   \n",
            " 5   Post Hour         500 non-null    int64   \n",
            " 6   Paid              499 non-null    float64 \n",
            " 7   LPE               500 non-null    int64   \n",
            "dtypes: category(1), float64(1), int64(6)\n",
            "memory usage: 28.2 KB\n"
          ]
        }
      ]
    },
    {
      "cell_type": "code",
      "source": [
        "#Remplazar signos de interrogación a Nan's:\n",
        "\n",
        "df=df.replace('?',np.NaN)"
      ],
      "metadata": {
        "id": "WfWdY8igOZbz"
      },
      "execution_count": 507,
      "outputs": []
    },
    {
      "cell_type": "code",
      "source": [
        "#Eliminar filas con NaN's de la columna de salida:\n",
        "\n",
        "df.dropna(subset=['LPE'], axis=0, inplace=True)"
      ],
      "metadata": {
        "id": "wA4jzl5lPCGk"
      },
      "execution_count": 508,
      "outputs": []
    },
    {
      "cell_type": "markdown",
      "source": [
        "![Screen Shot 2022-10-25 at 21.29.23.png](data:image/png;base64,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)"
      ],
      "metadata": {
        "id": "0adoQ0WUHfY4"
      }
    },
    {
      "cell_type": "code",
      "source": [
        "# DIVISIÓN DE VARIABLES DE ENTRADA EN CATEGÓRICA, ORDINAL, NUMÉRICA Y BINARIA\n",
        "\n",
        "categorical_vars = ['Type'] #Variables categóricas\n",
        "ordinal_vars = ['Post Hour', 'Category', 'Post Month', 'Post Weekday'] #Variables cuantitativas discretizadas\n",
        "quantitative_vars = ['Page total likes'] #Variables numéricas\n",
        "binary_vars = ['Paid'] #Variables binarias\n"
      ],
      "metadata": {
        "id": "7KXnlNzAC69Y"
      },
      "execution_count": 509,
      "outputs": []
    },
    {
      "cell_type": "code",
      "source": [
        "# PIPELINE, ESCALACIÓN DE DATOS CUANTITATIVOS CON EL MÉTODO DE MinMaxScaler,\n",
        "quantitative_pipeline = Pipeline(steps=[('imputer', SimpleImputer(strategy='mean')),('scaler',MinMaxScaler())])\n",
        "col_quantitative = quantitative_vars\n",
        "\n",
        "# TRANSFORMACIÓN ONE HOT ENCODER PARA VARIABLES CATEGÓRICAS Y BINARIAS.\n",
        "categorical_pipeline = Pipeline(steps = [(\"imputer\", SimpleImputer(strategy='most_frequent')),('onehot',OneHotEncoder(handle_unknown=\"ignore\"))])\n",
        "col_categorical = categorical_vars\n",
        "\n",
        "binary_pipeline = Pipeline(steps = [(\"imputer\", SimpleImputer(strategy='most_frequent')),('onehot',OneHotEncoder(handle_unknown=\"ignore\"))])\n",
        "col_binary = binary_vars\n",
        "\n",
        "ordinal_pipeline = Pipeline(steps = [(\"imputer\", SimpleImputer(strategy='most_frequent')),('onehot',OneHotEncoder(handle_unknown=\"ignore\"))]) \n",
        "col_ordinal = ordinal_vars\n",
        "\n",
        "cols_Transformer = ColumnTransformer(transformers = [('quantitative', quantitative_pipeline, col_quantitative),\n",
        "                                                        ('categorical', categorical_pipeline, col_categorical),\n",
        "                                                        ('binary', binary_pipeline, col_binary), ('ordinal', ordinal_pipeline, col_ordinal)\n",
        "                                                        ], remainder='passthrough')\n",
        "\n",
        "cols_Transformer"
      ],
      "metadata": {
        "id": "WVmSig7g7Kcd",
        "outputId": "36961438-cc3a-48ef-edb3-37b1a10a6cf8",
        "colab": {
          "base_uri": "https://localhost:8080/"
        }
      },
      "execution_count": 510,
      "outputs": [
        {
          "output_type": "execute_result",
          "data": {
            "text/plain": [
              "ColumnTransformer(remainder='passthrough',\n",
              "                  transformers=[('quantitative',\n",
              "                                 Pipeline(steps=[('imputer', SimpleImputer()),\n",
              "                                                 ('scaler', MinMaxScaler())]),\n",
              "                                 ['Page total likes']),\n",
              "                                ('categorical',\n",
              "                                 Pipeline(steps=[('imputer',\n",
              "                                                  SimpleImputer(strategy='most_frequent')),\n",
              "                                                 ('onehot',\n",
              "                                                  OneHotEncoder(handle_unknown='ignore'))]),\n",
              "                                 ['Type']),\n",
              "                                ('binary',\n",
              "                                 Pipeline(steps=[('imputer',\n",
              "                                                  SimpleImputer(strategy='most_frequent')),\n",
              "                                                 ('onehot',\n",
              "                                                  OneHotEncoder(handle_unknown='ignore'))]),\n",
              "                                 ['Paid']),\n",
              "                                ('ordinal',\n",
              "                                 Pipeline(steps=[('imputer',\n",
              "                                                  SimpleImputer(strategy='most_frequent')),\n",
              "                                                 ('onehot',\n",
              "                                                  OneHotEncoder(handle_unknown='ignore'))]),\n",
              "                                 ['Post Hour', 'Category', 'Post Month',\n",
              "                                  'Post Weekday'])])"
            ]
          },
          "metadata": {},
          "execution_count": 510
        }
      ]
    },
    {
      "cell_type": "code",
      "source": [
        "Xtrain_fit = cols_Transformer.fit(Xtrain)\n",
        "print(Xtrain_fit)"
      ],
      "metadata": {
        "id": "40DoP97FR9TK",
        "outputId": "52977067-8df9-4c74-bf80-9b78e068324e",
        "colab": {
          "base_uri": "https://localhost:8080/"
        }
      },
      "execution_count": 511,
      "outputs": [
        {
          "output_type": "stream",
          "name": "stdout",
          "text": [
            "ColumnTransformer(remainder='passthrough',\n",
            "                  transformers=[('quantitative',\n",
            "                                 Pipeline(steps=[('imputer', SimpleImputer()),\n",
            "                                                 ('scaler', MinMaxScaler())]),\n",
            "                                 ['Page total likes']),\n",
            "                                ('categorical',\n",
            "                                 Pipeline(steps=[('imputer',\n",
            "                                                  SimpleImputer(strategy='most_frequent')),\n",
            "                                                 ('onehot',\n",
            "                                                  OneHotEncoder(handle_unknown='ignore'))]),\n",
            "                                 ['Type']),\n",
            "                                ('binary',\n",
            "                                 Pipeline(steps=[('imputer',\n",
            "                                                  SimpleImputer(strategy='most_frequent')),\n",
            "                                                 ('onehot',\n",
            "                                                  OneHotEncoder(handle_unknown='ignore'))]),\n",
            "                                 ['Paid']),\n",
            "                                ('ordinal',\n",
            "                                 Pipeline(steps=[('imputer',\n",
            "                                                  SimpleImputer(strategy='most_frequent')),\n",
            "                                                 ('onehot',\n",
            "                                                  OneHotEncoder(handle_unknown='ignore'))]),\n",
            "                                 ['Post Hour', 'Category', 'Post Month',\n",
            "                                  'Post Weekday'])])\n"
          ]
        }
      ]
    },
    {
      "cell_type": "markdown",
      "source": [
        "#**Ejercicio-5.**"
      ],
      "metadata": {
        "id": "Rv7KFq-mC7PS"
      }
    },
    {
      "cell_type": "markdown",
      "source": [
        "## Utiliza la función Dummy para modelos de regresión de scikit-learn con el conjunto que tienes de datos de entrenamiento y validación. Para ello particiónalos en 100 para validación y 300 para entrenamiento. Encuentra los errores RMSE, MAE y MAPE para los conjuntos de entrenamiento y validación. Estos serán tus errores máximos que deberás tomar como referencia en el resto de la actividad. \n",
        "\n",
        "Consulta su documentación correspondiente:  [Dummy Regressor](https://scikit-learn.org/stable/modules/generated/sklearn.dummy.DummyRegressor.html )"
      ],
      "metadata": {
        "id": "91G1IkzquYfy"
      }
    },
    {
      "cell_type": "code",
      "source": [
        "# HACEMOS LA PARTICIÓN DE LOS DATOS TOMANDO COMO BASE LOS DATOS DE ENTRENAMIENTO Y VALIDACIÓN (Xtrain, Ytrain)\n",
        "# QUE ESTABLECIMOS PREVIAMENTE\n",
        "\n",
        "Xtrain2, Xval, Ytrain2, Yval = train_test_split(Xtrain, Ytrain, train_size = 300, test_size = 100, random_state = 1)"
      ],
      "metadata": {
        "id": "jaDj3kawC9B6"
      },
      "execution_count": 512,
      "outputs": []
    },
    {
      "cell_type": "code",
      "source": [
        "# REVISAMOS QUE LA PARTICIÓN HAYA SIDO CORRECTA\n",
        "print(\"Tamaño de las variables de entrada y salida sin partición (X & y)\")\n",
        "print(X.shape, y.shape)\n",
        "\n",
        "print(\"\\n------Partición del #2:------\")\n",
        "\n",
        "print(\"Tamaño de los valores de entrenamiento (Xtrain & Ytrain)\")\n",
        "print(Xtrain.shape, Ytrain.shape)\n",
        "\n",
        "print(\"Tamaño de los valores de prueba (Xtest & Ytest)\")\n",
        "print(Xtest.shape, Ytest.shape)\n",
        "\n",
        "\n",
        "print(\"\\n------Partición actual:------\")\n",
        "\n",
        "print(\"Tamaño de los valores de entrenamiento actuales (Xtrain2 & Ytrain2)\")\n",
        "print(Xtrain2.shape, Ytrain2.shape)\n",
        "\n",
        "print(\"Tamaño de los valores de validación (Xval & Yval)\")\n",
        "print(Xval.shape, Yval.shape)\n"
      ],
      "metadata": {
        "id": "T17aBjg43spF",
        "outputId": "beac48c3-6d95-498d-ec60-bcc1630de191",
        "colab": {
          "base_uri": "https://localhost:8080/"
        }
      },
      "execution_count": 513,
      "outputs": [
        {
          "output_type": "stream",
          "name": "stdout",
          "text": [
            "Tamaño de las variables de entrada y salida sin partición (X & y)\n",
            "(500, 7) (500,)\n",
            "\n",
            "------Partición del #2:------\n",
            "Tamaño de los valores de entrenamiento (Xtrain & Ytrain)\n",
            "(400, 7) (400,)\n",
            "Tamaño de los valores de prueba (Xtest & Ytest)\n",
            "(100, 7) (100,)\n",
            "\n",
            "------Partición actual:------\n",
            "Tamaño de los valores de entrenamiento actuales (Xtrain2 & Ytrain2)\n",
            "(300, 7) (300,)\n",
            "Tamaño de los valores de validación (Xval & Yval)\n",
            "(100, 7) (100,)\n"
          ]
        }
      ]
    },
    {
      "cell_type": "code",
      "source": [
        "# OBTENEMOS VALORES DUMMY REGRESSION Y LOS VALORES DE RMSE, MAE y MAPE\n",
        "\n",
        "# DUMMY REGRESSION PARA TRAIN\n",
        "dummy_reg_train = DummyRegressor(strategy = \"mean\")\n",
        "dummy_reg_train.fit(Xtrain2, Ytrain2)\n",
        "Ytrain2_hat = dummy_reg_train.predict(Xtrain2).ravel()\n",
        "\n",
        "# DUMMY REGRESSION PARA VALIDATION\n",
        "dummy_reg_val = DummyRegressor(strategy = \"mean\")\n",
        "dummy_reg_val.fit(Xval, Yval)\n",
        "Yval_hat = dummy_reg_val.predict(Xval).ravel()\n",
        "\n",
        "print(\"\\n------Resultados DE RMSE, MAE y MAPE:------\")\n",
        "print(\"\\nRMSE entrenamiento\", RMSEFunction(Ytrain2.values, Ytrain2_hat))\n",
        "print(\"RMSE validación\", RMSEFunction(Yval.values, Yval_hat))\n",
        "print(\"\\nMAE entrenamiento\", MAEFunction(Ytrain2.values, Ytrain2_hat))\n",
        "print(\"MAE validación\", MAEFunction(Yval.values, Yval_hat))\n",
        "print(\"\\nMAPE entrenamiento\", MAPEFunction(Ytrain2.values, Ytrain2_hat))\n",
        "print(\"MAPE validación\", MAPEFunction(Yval.values, Yval_hat))"
      ],
      "metadata": {
        "id": "N7MgHlWC6WWb",
        "outputId": "57f7c23c-f5cb-4d57-c172-9f82f6c8281d",
        "colab": {
          "base_uri": "https://localhost:8080/"
        }
      },
      "execution_count": 514,
      "outputs": [
        {
          "output_type": "stream",
          "name": "stdout",
          "text": [
            "\n",
            "------Resultados DE RMSE, MAE y MAPE:------\n",
            "\n",
            "RMSE entrenamiento 620.1950181730474\n",
            "RMSE validación 597.6422424829088\n",
            "\n",
            "MAE entrenamiento 386.9837333333334\n",
            "MAE validación 420.87799999999993\n",
            "\n",
            "MAPE entrenamiento 121.6229567863284\n",
            "MAPE validación 195.8107678416049\n"
          ]
        }
      ]
    },
    {
      "cell_type": "code",
      "source": [
        "#ejemplos de docu:\n",
        "\n",
        "\"\"\">>> from sklearn.datasets import load_iris\n",
        ">>> from sklearn.model_selection import train_test_split\n",
        ">>> X, y = load_iris(return_X_y=True)\n",
        ">>> y[y != 1] = -1\n",
        ">>> X_train, X_test, y_train, y_test = train_test_split(X, y, random_state=0)\n",
        "\n",
        "\n",
        "\n",
        "Next, let’s compare the accuracy of SVC and most_frequent:\n",
        "\n",
        ">>> from sklearn.dummy import DummyClassifier\n",
        ">>> from sklearn.svm import SVC\n",
        ">>> clf = SVC(kernel='linear', C=1).fit(X_train, y_train)\n",
        ">>> clf.score(X_test, y_test)\n",
        "0.63...\n",
        ">>> clf = DummyClassifier(strategy='most_frequent', random_state=0)\n",
        ">>> clf.fit(X_train, y_train)\n",
        "DummyClassifier(random_state=0, strategy='most_frequent')\n",
        ">>> clf.score(X_test, y_test)\n",
        "0.57..  \n",
        "\"\"\""
      ],
      "metadata": {
        "id": "IY9kA5BvZkWN",
        "outputId": "ee45c6b3-2272-4470-fa03-9ab58f671607",
        "colab": {
          "base_uri": "https://localhost:8080/",
          "height": 88
        }
      },
      "execution_count": 515,
      "outputs": [
        {
          "output_type": "execute_result",
          "data": {
            "text/plain": [
              "\">>> from sklearn.datasets import load_iris\\n>>> from sklearn.model_selection import train_test_split\\n>>> X, y = load_iris(return_X_y=True)\\n>>> y[y != 1] = -1\\n>>> X_train, X_test, y_train, y_test = train_test_split(X, y, random_state=0)\\n\\n\\n\\nNext, let’s compare the accuracy of SVC and most_frequent:\\n\\n>>> from sklearn.dummy import DummyClassifier\\n>>> from sklearn.svm import SVC\\n>>> clf = SVC(kernel='linear', C=1).fit(X_train, y_train)\\n>>> clf.score(X_test, y_test)\\n0.63...\\n>>> clf = DummyClassifier(strategy='most_frequent', random_state=0)\\n>>> clf.fit(X_train, y_train)\\nDummyClassifier(random_state=0, strategy='most_frequent')\\n>>> clf.score(X_test, y_test)\\n0.57..  \\n\""
            ],
            "application/vnd.google.colaboratory.intrinsic+json": {
              "type": "string"
            }
          },
          "metadata": {},
          "execution_count": 515
        }
      ]
    },
    {
      "cell_type": "code",
      "source": [
        "#Video YT:\n",
        "# https://www.youtube.com/watch?v=dkhXGTersP0"
      ],
      "metadata": {
        "id": "4tQxQROVC9Us"
      },
      "execution_count": 516,
      "outputs": []
    },
    {
      "cell_type": "markdown",
      "source": [
        "#**Ejercicio-6.**"
      ],
      "metadata": {
        "id": "W2S7LI0NC9wE"
      }
    },
    {
      "cell_type": "markdown",
      "source": [
        "## Usando los modelos de regresión lineal múltiple, el bosque aleatorio y el perceptrón multicapa con sus valores predeterminados, lleva a cabo su entrenamiento con repeticiones de validación cruzada (RepeatedKFold) y desplegando los errores RMSE, MAE y MAPE. **Recuerda evitar el filtrado de información usando los datos que obtuviste en el ejercicio 2.** \n",
        "\n",
        "NOTA: Recuerda que puedes aumentar en dado caso el número máximo de \n",
        "iteraciones para que todos los modelos converjan."
      ],
      "metadata": {
        "id": "jatRXXbGuris"
      }
    },
    {
      "cell_type": "code",
      "source": [
        "def get_models():\n",
        "  \n",
        "  modelos = list()\n",
        "  nombres = list()\n",
        "\n",
        "  modelos.append(LogisticRegression(solver='liblinear'))\n",
        "  nombres.append('LR')\n",
        "  \n",
        "  modelos.append(RandomForestClassifier())\n",
        "  nombres.append('RF')\n",
        "\n",
        "  \n",
        "  modelos.append(MLPRegressor())\n",
        "  nombres.append('MLP')\n",
        "  \n",
        "  return modelos, nombres"
      ],
      "metadata": {
        "id": "Hz7i6c47dI5Z"
      },
      "execution_count": 517,
      "outputs": []
    },
    {
      "cell_type": "code",
      "source": [
        "#FUNCIONES PARA ERRORES INCLUYENDO MODELOS, TRAIN Y VALIDATION\n",
        "# MSE-Errores del Train:\n",
        "def MSETrain(Xtrain,Ytrain, modelo):\n",
        "  train_yhat = modelo.predict(Xtrain)\n",
        "  train_mse = mean_squared_error(Ytrain, train_yhat)\n",
        "  return train_mse          \n",
        " \n",
        "# MSE-Errores del Validation:\n",
        "def MSEValidation(Xval ,Yval,modelo):\n",
        "  val_yhat = modelo.predict(Xval)\n",
        "  val_mse = mean_squared_error(Yval, val_yhat)\n",
        "  return val_mse           \n",
        "\n",
        "# RMSE-Errores del Train:\n",
        "def RMSETrain(Xtrain,Ytrain, modelo):\n",
        "  train_yhat = modelo.predict(Xtrain)\n",
        "  train_mse = mean_squared_error(Ytrain, train_yhat)\n",
        "  return np.sqrt(train_mse) \n",
        "# RMSE-Errores de Validacion:\n",
        "def RMSEValidation(Xval ,Yval,modelo):\n",
        "  val_yhat = modelo.predict(Xval)\n",
        "  val_mse = mean_squared_error(Yval, val_yhat)\n",
        "  return np.sqrt(val_mse)\n",
        "\n",
        "# MAPE-Errores del Train:\n",
        "def MAPETrain(Xtrain,Ytrain, modelo):\n",
        "  train_yhat = modelo.predict(Xtrain)\n",
        "  train_mape = mean_absolute_percentage_error(Ytrain, train_yhat) \n",
        "  return   train_mape        \n",
        "\n",
        "# MPE-Errores del Validation:\n",
        "def MAPEValidation(Xval,Yval, modelo):\n",
        "  val_yhat = modelo.predict(Xval)\n",
        "  val_mape = mean_absolute_percentage_error(Yval, val_yhat)\n",
        "  return   val_mape        \n",
        "\n"
      ],
      "metadata": {
        "id": "o8GIHa7E2GTE"
      },
      "execution_count": 537,
      "outputs": []
    },
    {
      "cell_type": "code",
      "source": [
        "#PERCEPTRON MULTICAPA\n",
        "\n",
        "values = [i for i in range(5, 20, 2)]   \n",
        "\n",
        "for i in values:\n",
        "  ii = round((i+1)/2.)\n",
        "  MLP = MLPRegressor(hidden_layer_sizes=(i, i),     # número de capas ocultas y nodos en cada capa.\n",
        "                              max_iter=20000,                # máximo número de iteraciones para el proceso de convergencia.\n",
        "                              alpha=0.0001,                  # constante asociado al término de regularización L2.\n",
        "                              solver='adam',                 # técnica de optimización.\n",
        "                              learning_rate_init=0.001       # valor inicial del tamaño de paso con relación a \"adam\" o \"sgd\".\n",
        "                              )  \n",
        "\n"
      ],
      "metadata": {
        "id": "n0P_AcyjC_Dh"
      },
      "execution_count": 534,
      "outputs": []
    },
    {
      "cell_type": "code",
      "source": [
        "modelos, nombres = get_models()\n",
        "resultados = list()\n",
        "\n",
        "LR = LogisticRegression(solver='liblinear')\n",
        "LR.fit(Xtrain, Ytrain)\n",
        "\n",
        "RF = RandomForestClassifier()\n",
        "RF.fit(Xtrain, Ytrain)\n",
        "\n",
        "MLP.fit(Xtrain, Ytrain)\n",
        "\n",
        "for i in range(len(modelos)):\n",
        "\n",
        "  kfold = RepeatedStratifiedKFold(n_splits=3, n_repeats=3)\n",
        "  pipeline = Pipeline(steps=[('ct',cols_Transformer),('m',modelos[i])])\n",
        "\n",
        "  resultadosOU = cross_validate(pipeline, Xtrain, Ytrain,  cv=kfold, return_train_score=True)\n",
        "  resultados.append(resultadosOU)\n",
        "\n",
        "print(\"\\nEntrenamiento:\") \n",
        "print(\"\\nNMSE entrenamiento\", MSETrain(Xtrain,Ytrain,LR),MSETrain(Xtrain,Ytrain, RF),MSETrain(Xtrain,Ytrain, MLP))\n",
        "print(\"\\nMAPE entrenamiento\", MAPETrain(Xtrain,Ytrain, LR),MAPETrain(Xtrain,Ytrain, RF),MAPETrain(Xtrain,Ytrain, MLP))\n",
        "print(\"\\nRMSE entrenamiento\", RMSEValidation(Xtrain ,Ytrain,LR),RMSEValidation(Xtrain ,Ytrain,RF),RMSEValidation(Xtrain ,Ytrain,MLP))\n",
        "\n",
        "\n",
        "print(\"\\nValidation:\") \n",
        "print(\"\\nNMSE validación\", MSEValidation(Xval ,Yval,LR),MSEValidation(Xval ,Yval,RF),MSEValidation(Xval ,Yval,MLP))\n",
        "print(\"\\nMAPE validación\", MAPEValidation(Xval,Yval, LR),MAPEValidation(Xval,Yval, RF),MAPEValidation(Xval,Yval, MLP))\n",
        "print(\"\\nRMSE validación\", RMSEValidation(Xval ,Yval,LR),RMSEValidation(Xval ,Yval,RF),RMSEValidation(Xval ,Yval,MLP))\n",
        "\n",
        "\n",
        "\n",
        "\n",
        "                                                                      "
      ],
      "metadata": {
        "colab": {
          "base_uri": "https://localhost:8080/",
          "height": 380
        },
        "id": "12jlnv3Xd8I_",
        "outputId": "34ba5cd5-c853-4161-b1e6-0901c3d54c02"
      },
      "execution_count": 535,
      "outputs": [
        {
          "output_type": "error",
          "ename": "ValueError",
          "evalue": "ignored",
          "traceback": [
            "\u001b[0;31m---------------------------------------------------------------------------\u001b[0m",
            "\u001b[0;31mValueError\u001b[0m                                Traceback (most recent call last)",
            "\u001b[0;32m<ipython-input-535-c960086a154c>\u001b[0m in \u001b[0;36m<module>\u001b[0;34m\u001b[0m\n\u001b[1;32m      3\u001b[0m \u001b[0;34m\u001b[0m\u001b[0m\n\u001b[1;32m      4\u001b[0m \u001b[0mLR\u001b[0m \u001b[0;34m=\u001b[0m \u001b[0mLogisticRegression\u001b[0m\u001b[0;34m(\u001b[0m\u001b[0msolver\u001b[0m\u001b[0;34m=\u001b[0m\u001b[0;34m'liblinear'\u001b[0m\u001b[0;34m)\u001b[0m\u001b[0;34m\u001b[0m\u001b[0;34m\u001b[0m\u001b[0m\n\u001b[0;32m----> 5\u001b[0;31m \u001b[0mLR\u001b[0m\u001b[0;34m.\u001b[0m\u001b[0mfit\u001b[0m\u001b[0;34m(\u001b[0m\u001b[0mXtrain\u001b[0m\u001b[0;34m,\u001b[0m \u001b[0mYtrain\u001b[0m\u001b[0;34m)\u001b[0m\u001b[0;34m\u001b[0m\u001b[0;34m\u001b[0m\u001b[0m\n\u001b[0m\u001b[1;32m      6\u001b[0m \u001b[0;34m\u001b[0m\u001b[0m\n\u001b[1;32m      7\u001b[0m \u001b[0mRF\u001b[0m \u001b[0;34m=\u001b[0m \u001b[0mRandomForestClassifier\u001b[0m\u001b[0;34m(\u001b[0m\u001b[0;34m)\u001b[0m\u001b[0;34m\u001b[0m\u001b[0;34m\u001b[0m\u001b[0m\n",
            "\u001b[0;32m/usr/local/lib/python3.7/dist-packages/sklearn/linear_model/_logistic.py\u001b[0m in \u001b[0;36mfit\u001b[0;34m(self, X, y, sample_weight)\u001b[0m\n\u001b[1;32m   1512\u001b[0m             \u001b[0mdtype\u001b[0m\u001b[0;34m=\u001b[0m\u001b[0m_dtype\u001b[0m\u001b[0;34m,\u001b[0m\u001b[0;34m\u001b[0m\u001b[0;34m\u001b[0m\u001b[0m\n\u001b[1;32m   1513\u001b[0m             \u001b[0morder\u001b[0m\u001b[0;34m=\u001b[0m\u001b[0;34m\"C\"\u001b[0m\u001b[0;34m,\u001b[0m\u001b[0;34m\u001b[0m\u001b[0;34m\u001b[0m\u001b[0m\n\u001b[0;32m-> 1514\u001b[0;31m             \u001b[0maccept_large_sparse\u001b[0m\u001b[0;34m=\u001b[0m\u001b[0msolver\u001b[0m \u001b[0;32mnot\u001b[0m \u001b[0;32min\u001b[0m \u001b[0;34m[\u001b[0m\u001b[0;34m\"liblinear\"\u001b[0m\u001b[0;34m,\u001b[0m \u001b[0;34m\"sag\"\u001b[0m\u001b[0;34m,\u001b[0m \u001b[0;34m\"saga\"\u001b[0m\u001b[0;34m]\u001b[0m\u001b[0;34m,\u001b[0m\u001b[0;34m\u001b[0m\u001b[0;34m\u001b[0m\u001b[0m\n\u001b[0m\u001b[1;32m   1515\u001b[0m         )\n\u001b[1;32m   1516\u001b[0m         \u001b[0mcheck_classification_targets\u001b[0m\u001b[0;34m(\u001b[0m\u001b[0my\u001b[0m\u001b[0;34m)\u001b[0m\u001b[0;34m\u001b[0m\u001b[0;34m\u001b[0m\u001b[0m\n",
            "\u001b[0;32m/usr/local/lib/python3.7/dist-packages/sklearn/base.py\u001b[0m in \u001b[0;36m_validate_data\u001b[0;34m(self, X, y, reset, validate_separately, **check_params)\u001b[0m\n\u001b[1;32m    579\u001b[0m                 \u001b[0my\u001b[0m \u001b[0;34m=\u001b[0m \u001b[0mcheck_array\u001b[0m\u001b[0;34m(\u001b[0m\u001b[0my\u001b[0m\u001b[0;34m,\u001b[0m \u001b[0;34m**\u001b[0m\u001b[0mcheck_y_params\u001b[0m\u001b[0;34m)\u001b[0m\u001b[0;34m\u001b[0m\u001b[0;34m\u001b[0m\u001b[0m\n\u001b[1;32m    580\u001b[0m             \u001b[0;32melse\u001b[0m\u001b[0;34m:\u001b[0m\u001b[0;34m\u001b[0m\u001b[0;34m\u001b[0m\u001b[0m\n\u001b[0;32m--> 581\u001b[0;31m                 \u001b[0mX\u001b[0m\u001b[0;34m,\u001b[0m \u001b[0my\u001b[0m \u001b[0;34m=\u001b[0m \u001b[0mcheck_X_y\u001b[0m\u001b[0;34m(\u001b[0m\u001b[0mX\u001b[0m\u001b[0;34m,\u001b[0m \u001b[0my\u001b[0m\u001b[0;34m,\u001b[0m \u001b[0;34m**\u001b[0m\u001b[0mcheck_params\u001b[0m\u001b[0;34m)\u001b[0m\u001b[0;34m\u001b[0m\u001b[0;34m\u001b[0m\u001b[0m\n\u001b[0m\u001b[1;32m    582\u001b[0m             \u001b[0mout\u001b[0m \u001b[0;34m=\u001b[0m \u001b[0mX\u001b[0m\u001b[0;34m,\u001b[0m \u001b[0my\u001b[0m\u001b[0;34m\u001b[0m\u001b[0;34m\u001b[0m\u001b[0m\n\u001b[1;32m    583\u001b[0m \u001b[0;34m\u001b[0m\u001b[0m\n",
            "\u001b[0;32m/usr/local/lib/python3.7/dist-packages/sklearn/utils/validation.py\u001b[0m in \u001b[0;36mcheck_X_y\u001b[0;34m(X, y, accept_sparse, accept_large_sparse, dtype, order, copy, force_all_finite, ensure_2d, allow_nd, multi_output, ensure_min_samples, ensure_min_features, y_numeric, estimator)\u001b[0m\n\u001b[1;32m    974\u001b[0m         \u001b[0mensure_min_samples\u001b[0m\u001b[0;34m=\u001b[0m\u001b[0mensure_min_samples\u001b[0m\u001b[0;34m,\u001b[0m\u001b[0;34m\u001b[0m\u001b[0;34m\u001b[0m\u001b[0m\n\u001b[1;32m    975\u001b[0m         \u001b[0mensure_min_features\u001b[0m\u001b[0;34m=\u001b[0m\u001b[0mensure_min_features\u001b[0m\u001b[0;34m,\u001b[0m\u001b[0;34m\u001b[0m\u001b[0;34m\u001b[0m\u001b[0m\n\u001b[0;32m--> 976\u001b[0;31m         \u001b[0mestimator\u001b[0m\u001b[0;34m=\u001b[0m\u001b[0mestimator\u001b[0m\u001b[0;34m,\u001b[0m\u001b[0;34m\u001b[0m\u001b[0;34m\u001b[0m\u001b[0m\n\u001b[0m\u001b[1;32m    977\u001b[0m     )\n\u001b[1;32m    978\u001b[0m \u001b[0;34m\u001b[0m\u001b[0m\n",
            "\u001b[0;32m/usr/local/lib/python3.7/dist-packages/sklearn/utils/validation.py\u001b[0m in \u001b[0;36mcheck_array\u001b[0;34m(array, accept_sparse, accept_large_sparse, dtype, order, copy, force_all_finite, ensure_2d, allow_nd, ensure_min_samples, ensure_min_features, estimator)\u001b[0m\n\u001b[1;32m    744\u001b[0m                     \u001b[0marray\u001b[0m \u001b[0;34m=\u001b[0m \u001b[0marray\u001b[0m\u001b[0;34m.\u001b[0m\u001b[0mastype\u001b[0m\u001b[0;34m(\u001b[0m\u001b[0mdtype\u001b[0m\u001b[0;34m,\u001b[0m \u001b[0mcasting\u001b[0m\u001b[0;34m=\u001b[0m\u001b[0;34m\"unsafe\"\u001b[0m\u001b[0;34m,\u001b[0m \u001b[0mcopy\u001b[0m\u001b[0;34m=\u001b[0m\u001b[0;32mFalse\u001b[0m\u001b[0;34m)\u001b[0m\u001b[0;34m\u001b[0m\u001b[0;34m\u001b[0m\u001b[0m\n\u001b[1;32m    745\u001b[0m                 \u001b[0;32melse\u001b[0m\u001b[0;34m:\u001b[0m\u001b[0;34m\u001b[0m\u001b[0;34m\u001b[0m\u001b[0m\n\u001b[0;32m--> 746\u001b[0;31m                     \u001b[0marray\u001b[0m \u001b[0;34m=\u001b[0m \u001b[0mnp\u001b[0m\u001b[0;34m.\u001b[0m\u001b[0masarray\u001b[0m\u001b[0;34m(\u001b[0m\u001b[0marray\u001b[0m\u001b[0;34m,\u001b[0m \u001b[0morder\u001b[0m\u001b[0;34m=\u001b[0m\u001b[0morder\u001b[0m\u001b[0;34m,\u001b[0m \u001b[0mdtype\u001b[0m\u001b[0;34m=\u001b[0m\u001b[0mdtype\u001b[0m\u001b[0;34m)\u001b[0m\u001b[0;34m\u001b[0m\u001b[0;34m\u001b[0m\u001b[0m\n\u001b[0m\u001b[1;32m    747\u001b[0m             \u001b[0;32mexcept\u001b[0m \u001b[0mComplexWarning\u001b[0m \u001b[0;32mas\u001b[0m \u001b[0mcomplex_warning\u001b[0m\u001b[0;34m:\u001b[0m\u001b[0;34m\u001b[0m\u001b[0;34m\u001b[0m\u001b[0m\n\u001b[1;32m    748\u001b[0m                 raise ValueError(\n",
            "\u001b[0;32m/usr/local/lib/python3.7/dist-packages/pandas/core/generic.py\u001b[0m in \u001b[0;36m__array__\u001b[0;34m(self, dtype)\u001b[0m\n\u001b[1;32m   1991\u001b[0m \u001b[0;34m\u001b[0m\u001b[0m\n\u001b[1;32m   1992\u001b[0m     \u001b[0;32mdef\u001b[0m \u001b[0m__array__\u001b[0m\u001b[0;34m(\u001b[0m\u001b[0mself\u001b[0m\u001b[0;34m,\u001b[0m \u001b[0mdtype\u001b[0m\u001b[0;34m:\u001b[0m \u001b[0mNpDtype\u001b[0m \u001b[0;34m|\u001b[0m \u001b[0;32mNone\u001b[0m \u001b[0;34m=\u001b[0m \u001b[0;32mNone\u001b[0m\u001b[0;34m)\u001b[0m \u001b[0;34m->\u001b[0m \u001b[0mnp\u001b[0m\u001b[0;34m.\u001b[0m\u001b[0mndarray\u001b[0m\u001b[0;34m:\u001b[0m\u001b[0;34m\u001b[0m\u001b[0;34m\u001b[0m\u001b[0m\n\u001b[0;32m-> 1993\u001b[0;31m         \u001b[0;32mreturn\u001b[0m \u001b[0mnp\u001b[0m\u001b[0;34m.\u001b[0m\u001b[0masarray\u001b[0m\u001b[0;34m(\u001b[0m\u001b[0mself\u001b[0m\u001b[0;34m.\u001b[0m\u001b[0m_values\u001b[0m\u001b[0;34m,\u001b[0m \u001b[0mdtype\u001b[0m\u001b[0;34m=\u001b[0m\u001b[0mdtype\u001b[0m\u001b[0;34m)\u001b[0m\u001b[0;34m\u001b[0m\u001b[0;34m\u001b[0m\u001b[0m\n\u001b[0m\u001b[1;32m   1994\u001b[0m \u001b[0;34m\u001b[0m\u001b[0m\n\u001b[1;32m   1995\u001b[0m     def __array_wrap__(\n",
            "\u001b[0;31mValueError\u001b[0m: could not convert string to float: 'Photo'"
          ]
        }
      ]
    },
    {
      "cell_type": "markdown",
      "source": [
        "## Incluye las conclusiones sobre el mejor modelo encontrado en esta primera aproximación. En particular ¿hay alguno sobreentrenado o subentrenado? "
      ],
      "metadata": {
        "id": "laifcSXsu-Oo"
      }
    },
    {
      "cell_type": "markdown",
      "source": [
        "**INCLUIR CONCLUSIONES**"
      ],
      "metadata": {
        "id": "0sei9wrtu-hy"
      }
    },
    {
      "cell_type": "markdown",
      "source": [
        "#**Ejercicio-7.**"
      ],
      "metadata": {
        "id": "iCNGx4TQ8CFI"
      }
    },
    {
      "cell_type": "markdown",
      "source": [
        "## Obtener los diagramas de caja y bigote para los errores MAPE de los conjuntos de validación obtenidos. En particular compara estos primeros resultados de MAPE con el mejor resultado que encuentran los autores del artículo citado al inicio. "
      ],
      "metadata": {
        "id": "Ov-7v91ivMZA"
      }
    },
    {
      "cell_type": "code",
      "source": [
        "#DIAGRAMA DE CAJAS Y BIGOTES DE VALIDACIÓN\n",
        "sns.set(rc={'figure.figsize':(10,7)})\n",
        "\n",
        "Aux = list()\n",
        "for i in range (len(resultados)):\n",
        "  box = resultados[i]\n",
        "  Aux.append(box)\n",
        "plt.boxplot(Aux, labels=nombres, showmeans=True)\n",
        "\n",
        "plt.show()"
      ],
      "metadata": {
        "id": "ewvwUcJX78y1",
        "colab": {
          "base_uri": "https://localhost:8080/",
          "height": 798
        },
        "outputId": "26969c3c-45f7-4f1b-ccfe-a99ab0eb7efe"
      },
      "execution_count": 536,
      "outputs": [
        {
          "output_type": "error",
          "ename": "ValueError",
          "evalue": "ignored",
          "traceback": [
            "\u001b[0;31m---------------------------------------------------------------------------\u001b[0m",
            "\u001b[0;31mValueError\u001b[0m                                Traceback (most recent call last)",
            "\u001b[0;32m<ipython-input-536-dce09ba96d8a>\u001b[0m in \u001b[0;36m<module>\u001b[0;34m\u001b[0m\n\u001b[1;32m      6\u001b[0m   \u001b[0mbox\u001b[0m \u001b[0;34m=\u001b[0m \u001b[0mresultados\u001b[0m\u001b[0;34m[\u001b[0m\u001b[0mi\u001b[0m\u001b[0;34m]\u001b[0m\u001b[0;34m\u001b[0m\u001b[0;34m\u001b[0m\u001b[0m\n\u001b[1;32m      7\u001b[0m   \u001b[0mAux\u001b[0m\u001b[0;34m.\u001b[0m\u001b[0mappend\u001b[0m\u001b[0;34m(\u001b[0m\u001b[0mbox\u001b[0m\u001b[0;34m)\u001b[0m\u001b[0;34m\u001b[0m\u001b[0;34m\u001b[0m\u001b[0m\n\u001b[0;32m----> 8\u001b[0;31m \u001b[0mplt\u001b[0m\u001b[0;34m.\u001b[0m\u001b[0mboxplot\u001b[0m\u001b[0;34m(\u001b[0m\u001b[0mAux\u001b[0m\u001b[0;34m,\u001b[0m \u001b[0mlabels\u001b[0m\u001b[0;34m=\u001b[0m\u001b[0mnombres\u001b[0m\u001b[0;34m,\u001b[0m \u001b[0mshowmeans\u001b[0m\u001b[0;34m=\u001b[0m\u001b[0;32mTrue\u001b[0m\u001b[0;34m)\u001b[0m\u001b[0;34m\u001b[0m\u001b[0;34m\u001b[0m\u001b[0m\n\u001b[0m\u001b[1;32m      9\u001b[0m \u001b[0;34m\u001b[0m\u001b[0m\n\u001b[1;32m     10\u001b[0m \u001b[0mplt\u001b[0m\u001b[0;34m.\u001b[0m\u001b[0mshow\u001b[0m\u001b[0;34m(\u001b[0m\u001b[0;34m)\u001b[0m\u001b[0;34m\u001b[0m\u001b[0;34m\u001b[0m\u001b[0m\n",
            "\u001b[0;32m/usr/local/lib/python3.7/dist-packages/matplotlib/pyplot.py\u001b[0m in \u001b[0;36mboxplot\u001b[0;34m(x, notch, sym, vert, whis, positions, widths, patch_artist, bootstrap, usermedians, conf_intervals, meanline, showmeans, showcaps, showbox, showfliers, boxprops, labels, flierprops, medianprops, meanprops, capprops, whiskerprops, manage_ticks, autorange, zorder, data)\u001b[0m\n\u001b[1;32m   2446\u001b[0m         \u001b[0mwhiskerprops\u001b[0m\u001b[0;34m=\u001b[0m\u001b[0mwhiskerprops\u001b[0m\u001b[0;34m,\u001b[0m \u001b[0mmanage_ticks\u001b[0m\u001b[0;34m=\u001b[0m\u001b[0mmanage_ticks\u001b[0m\u001b[0;34m,\u001b[0m\u001b[0;34m\u001b[0m\u001b[0;34m\u001b[0m\u001b[0m\n\u001b[1;32m   2447\u001b[0m         autorange=autorange, zorder=zorder, **({\"data\": data} if data\n\u001b[0;32m-> 2448\u001b[0;31m         is not None else {}))\n\u001b[0m\u001b[1;32m   2449\u001b[0m \u001b[0;34m\u001b[0m\u001b[0m\n\u001b[1;32m   2450\u001b[0m \u001b[0;34m\u001b[0m\u001b[0m\n",
            "\u001b[0;32m/usr/local/lib/python3.7/dist-packages/matplotlib/cbook/deprecation.py\u001b[0m in \u001b[0;36mwrapper\u001b[0;34m(*args, **kwargs)\u001b[0m\n\u001b[1;32m    294\u001b[0m                 f\"for the old name will be dropped %(removal)s.\")\n\u001b[1;32m    295\u001b[0m             \u001b[0mkwargs\u001b[0m\u001b[0;34m[\u001b[0m\u001b[0mnew\u001b[0m\u001b[0;34m]\u001b[0m \u001b[0;34m=\u001b[0m \u001b[0mkwargs\u001b[0m\u001b[0;34m.\u001b[0m\u001b[0mpop\u001b[0m\u001b[0;34m(\u001b[0m\u001b[0mold\u001b[0m\u001b[0;34m)\u001b[0m\u001b[0;34m\u001b[0m\u001b[0;34m\u001b[0m\u001b[0m\n\u001b[0;32m--> 296\u001b[0;31m         \u001b[0;32mreturn\u001b[0m \u001b[0mfunc\u001b[0m\u001b[0;34m(\u001b[0m\u001b[0;34m*\u001b[0m\u001b[0margs\u001b[0m\u001b[0;34m,\u001b[0m \u001b[0;34m**\u001b[0m\u001b[0mkwargs\u001b[0m\u001b[0;34m)\u001b[0m\u001b[0;34m\u001b[0m\u001b[0;34m\u001b[0m\u001b[0m\n\u001b[0m\u001b[1;32m    297\u001b[0m \u001b[0;34m\u001b[0m\u001b[0m\n\u001b[1;32m    298\u001b[0m     \u001b[0;31m# wrapper() must keep the same documented signature as func(): if we\u001b[0m\u001b[0;34m\u001b[0m\u001b[0;34m\u001b[0m\u001b[0;34m\u001b[0m\u001b[0m\n",
            "\u001b[0;32m/usr/local/lib/python3.7/dist-packages/matplotlib/__init__.py\u001b[0m in \u001b[0;36minner\u001b[0;34m(ax, data, *args, **kwargs)\u001b[0m\n\u001b[1;32m   1563\u001b[0m     \u001b[0;32mdef\u001b[0m \u001b[0minner\u001b[0m\u001b[0;34m(\u001b[0m\u001b[0max\u001b[0m\u001b[0;34m,\u001b[0m \u001b[0;34m*\u001b[0m\u001b[0margs\u001b[0m\u001b[0;34m,\u001b[0m \u001b[0mdata\u001b[0m\u001b[0;34m=\u001b[0m\u001b[0;32mNone\u001b[0m\u001b[0;34m,\u001b[0m \u001b[0;34m**\u001b[0m\u001b[0mkwargs\u001b[0m\u001b[0;34m)\u001b[0m\u001b[0;34m:\u001b[0m\u001b[0;34m\u001b[0m\u001b[0;34m\u001b[0m\u001b[0m\n\u001b[1;32m   1564\u001b[0m         \u001b[0;32mif\u001b[0m \u001b[0mdata\u001b[0m \u001b[0;32mis\u001b[0m \u001b[0;32mNone\u001b[0m\u001b[0;34m:\u001b[0m\u001b[0;34m\u001b[0m\u001b[0;34m\u001b[0m\u001b[0m\n\u001b[0;32m-> 1565\u001b[0;31m             \u001b[0;32mreturn\u001b[0m \u001b[0mfunc\u001b[0m\u001b[0;34m(\u001b[0m\u001b[0max\u001b[0m\u001b[0;34m,\u001b[0m \u001b[0;34m*\u001b[0m\u001b[0mmap\u001b[0m\u001b[0;34m(\u001b[0m\u001b[0msanitize_sequence\u001b[0m\u001b[0;34m,\u001b[0m \u001b[0margs\u001b[0m\u001b[0;34m)\u001b[0m\u001b[0;34m,\u001b[0m \u001b[0;34m**\u001b[0m\u001b[0mkwargs\u001b[0m\u001b[0;34m)\u001b[0m\u001b[0;34m\u001b[0m\u001b[0;34m\u001b[0m\u001b[0m\n\u001b[0m\u001b[1;32m   1566\u001b[0m \u001b[0;34m\u001b[0m\u001b[0m\n\u001b[1;32m   1567\u001b[0m         \u001b[0mbound\u001b[0m \u001b[0;34m=\u001b[0m \u001b[0mnew_sig\u001b[0m\u001b[0;34m.\u001b[0m\u001b[0mbind\u001b[0m\u001b[0;34m(\u001b[0m\u001b[0max\u001b[0m\u001b[0;34m,\u001b[0m \u001b[0;34m*\u001b[0m\u001b[0margs\u001b[0m\u001b[0;34m,\u001b[0m \u001b[0;34m**\u001b[0m\u001b[0mkwargs\u001b[0m\u001b[0;34m)\u001b[0m\u001b[0;34m\u001b[0m\u001b[0;34m\u001b[0m\u001b[0m\n",
            "\u001b[0;32m/usr/local/lib/python3.7/dist-packages/matplotlib/axes/_axes.py\u001b[0m in \u001b[0;36mboxplot\u001b[0;34m(self, x, notch, sym, vert, whis, positions, widths, patch_artist, bootstrap, usermedians, conf_intervals, meanline, showmeans, showcaps, showbox, showfliers, boxprops, labels, flierprops, medianprops, meanprops, capprops, whiskerprops, manage_ticks, autorange, zorder)\u001b[0m\n\u001b[1;32m   3626\u001b[0m \u001b[0;34m\u001b[0m\u001b[0m\n\u001b[1;32m   3627\u001b[0m         bxpstats = cbook.boxplot_stats(x, whis=whis, bootstrap=bootstrap,\n\u001b[0;32m-> 3628\u001b[0;31m                                        labels=labels, autorange=autorange)\n\u001b[0m\u001b[1;32m   3629\u001b[0m         \u001b[0;32mif\u001b[0m \u001b[0mnotch\u001b[0m \u001b[0;32mis\u001b[0m \u001b[0;32mNone\u001b[0m\u001b[0;34m:\u001b[0m\u001b[0;34m\u001b[0m\u001b[0;34m\u001b[0m\u001b[0m\n\u001b[1;32m   3630\u001b[0m             \u001b[0mnotch\u001b[0m \u001b[0;34m=\u001b[0m \u001b[0mrcParams\u001b[0m\u001b[0;34m[\u001b[0m\u001b[0;34m'boxplot.notch'\u001b[0m\u001b[0;34m]\u001b[0m\u001b[0;34m\u001b[0m\u001b[0;34m\u001b[0m\u001b[0m\n",
            "\u001b[0;32m/usr/local/lib/python3.7/dist-packages/matplotlib/cbook/__init__.py\u001b[0m in \u001b[0;36mboxplot_stats\u001b[0;34m(X, whis, bootstrap, labels, autorange)\u001b[0m\n\u001b[1;32m   1169\u001b[0m         \u001b[0mlabels\u001b[0m \u001b[0;34m=\u001b[0m \u001b[0mitertools\u001b[0m\u001b[0;34m.\u001b[0m\u001b[0mrepeat\u001b[0m\u001b[0;34m(\u001b[0m\u001b[0;32mNone\u001b[0m\u001b[0;34m)\u001b[0m\u001b[0;34m\u001b[0m\u001b[0;34m\u001b[0m\u001b[0m\n\u001b[1;32m   1170\u001b[0m     \u001b[0;32melif\u001b[0m \u001b[0mlen\u001b[0m\u001b[0;34m(\u001b[0m\u001b[0mlabels\u001b[0m\u001b[0;34m)\u001b[0m \u001b[0;34m!=\u001b[0m \u001b[0mncols\u001b[0m\u001b[0;34m:\u001b[0m\u001b[0;34m\u001b[0m\u001b[0;34m\u001b[0m\u001b[0m\n\u001b[0;32m-> 1171\u001b[0;31m         \u001b[0;32mraise\u001b[0m \u001b[0mValueError\u001b[0m\u001b[0;34m(\u001b[0m\u001b[0;34m\"Dimensions of labels and X must be compatible\"\u001b[0m\u001b[0;34m)\u001b[0m\u001b[0;34m\u001b[0m\u001b[0;34m\u001b[0m\u001b[0m\n\u001b[0m\u001b[1;32m   1172\u001b[0m \u001b[0;34m\u001b[0m\u001b[0m\n\u001b[1;32m   1173\u001b[0m     \u001b[0minput_whis\u001b[0m \u001b[0;34m=\u001b[0m \u001b[0mwhis\u001b[0m\u001b[0;34m\u001b[0m\u001b[0;34m\u001b[0m\u001b[0m\n",
            "\u001b[0;31mValueError\u001b[0m: Dimensions of labels and X must be compatible"
          ]
        },
        {
          "output_type": "display_data",
          "data": {
            "text/plain": [
              "<Figure size 720x504 with 1 Axes>"
            ],
            "image/png": "[encoded data removed]"
          },
          "metadata": {}
        }
      ]
    },
    {
      "cell_type": "code",
      "source": [],
      "metadata": {
        "id": "F1aW0dQX8BLL"
      },
      "execution_count": null,
      "outputs": []
    },
    {
      "cell_type": "markdown",
      "source": [
        "## En particular compara estos primeros resultados de MAPE con el mejor resultado que encuentran los autores del artículo citado al inicio. Incluye tus conclusiones. "
      ],
      "metadata": {
        "id": "ZTH0c45TvOnA"
      }
    },
    {
      "cell_type": "markdown",
      "source": [
        "**INCLUIR CONCLUSIONES**"
      ],
      "metadata": {
        "id": "vdeFj98fvOMV"
      }
    },
    {
      "cell_type": "markdown",
      "source": [
        "#**Ejercicio-8.**"
      ],
      "metadata": {
        "id": "tzQn5NR78GFg"
      }
    },
    {
      "cell_type": "markdown",
      "source": [
        "## Usando una búsqueda de malla con validación cruzada (GridSearchCV), busca los mejores hiperparámetros para el modelo MLP. Al menos deberás realizar la búsqueda en los hiperparámetros “hidden_layer_sizes”, “alpha” y “learning_rate_init”. Además aplica la validación cruzada con repeticiones (RepeatedKFold). Muestra los mejores hiperparámetros encontrados. "
      ],
      "metadata": {
        "id": "NiZ_F_4cvWuH"
      }
    },
    {
      "cell_type": "code",
      "source": [
        "None"
      ],
      "metadata": {
        "id": "EBKcp0278IQV"
      },
      "execution_count": null,
      "outputs": []
    },
    {
      "cell_type": "code",
      "source": [],
      "metadata": {
        "id": "vp8S0PFs8IMR"
      },
      "execution_count": null,
      "outputs": []
    },
    {
      "cell_type": "markdown",
      "source": [
        "#**Ejercicio-9.**"
      ],
      "metadata": {
        "id": "mASNrZWs8JTh"
      }
    },
    {
      "cell_type": "markdown",
      "source": [
        "## Con los mejores valores de los hiperparámetros encontrados realiza un análisis de la importancia de los factores. Muestra un diagrama de barras de los resultados."
      ],
      "metadata": {
        "id": "hsn3oNmSvc1h"
      }
    },
    {
      "cell_type": "code",
      "source": [
        "None"
      ],
      "metadata": {
        "id": "X6HJP9hb8LCp"
      },
      "execution_count": null,
      "outputs": []
    },
    {
      "cell_type": "code",
      "source": [],
      "metadata": {
        "id": "Xr6oe1VF8K_A"
      },
      "execution_count": null,
      "outputs": []
    },
    {
      "cell_type": "markdown",
      "source": [
        "## Incluye tus conclusiones."
      ],
      "metadata": {
        "id": "0y6xI65HvfmQ"
      }
    },
    {
      "cell_type": "markdown",
      "source": [
        "**INCLUIR CONCLUSIONES**"
      ],
      "metadata": {
        "id": "iGD1qMuBvf6r"
      }
    },
    {
      "cell_type": "markdown",
      "source": [
        "#**Ejercicio-10.**"
      ],
      "metadata": {
        "id": "VUIcDshs8MzG"
      }
    },
    {
      "cell_type": "markdown",
      "source": [
        "## Repite el ejercicio 8 y 9 para el **modelo de bosque aleatorio** para buscar sus mejores hiperparámetros (realiza la búsqueda con aquellos hiperparámetros que consideres más adecuados) y usando el **conjunto de Prueba**. Y realiza igualmente el análisis de importancia de factores con este modelo con un diagrama de barras. "
      ],
      "metadata": {
        "id": "SVA84OuBwCl_"
      }
    },
    {
      "cell_type": "code",
      "source": [
        "None"
      ],
      "metadata": {
        "id": "0lKNJNIt8N88"
      },
      "execution_count": null,
      "outputs": []
    },
    {
      "cell_type": "code",
      "source": [],
      "metadata": {
        "id": "Inkq5YQe8PED"
      },
      "execution_count": null,
      "outputs": []
    },
    {
      "cell_type": "markdown",
      "source": [
        "#**Ejercicio-11.**"
      ],
      "metadata": {
        "id": "5LJl6oql8Pc8"
      }
    },
    {
      "cell_type": "markdown",
      "source": [
        "## Repite el ejercicio 8 y 9 para el **modelo de regresión lineal múltiple** para buscar sus mejores hiperparámetros (realiza la búsqueda con aquellos hiperparámetros que consideres más adecuados) y usando el **conjunto de Prueba**. Y realiza igualmente el análisis de importancia de factores con este modelo con un diagrama de barras. "
      ],
      "metadata": {
        "id": "XC0o2oP8wMke"
      }
    },
    {
      "cell_type": "code",
      "source": [
        "None"
      ],
      "metadata": {
        "id": "-YiSnt9t8RfN"
      },
      "execution_count": null,
      "outputs": []
    },
    {
      "cell_type": "code",
      "source": [],
      "metadata": {
        "id": "2iRA78ZC8Rbm"
      },
      "execution_count": null,
      "outputs": []
    },
    {
      "cell_type": "markdown",
      "source": [
        "#**Ejercicio-12.**"
      ],
      "metadata": {
        "id": "IKW72uyk8Sbc"
      }
    },
    {
      "cell_type": "markdown",
      "source": [
        "## Compara tus resultados con los obtenidos por los autores del artículo de Moro-Rita-Vala con respecto a MAPE."
      ],
      "metadata": {
        "id": "fRvDr_HywUNe"
      }
    },
    {
      "cell_type": "code",
      "source": [
        "None"
      ],
      "metadata": {
        "id": "gwpz77W38Uq0"
      },
      "execution_count": null,
      "outputs": []
    },
    {
      "cell_type": "code",
      "source": [],
      "metadata": {
        "id": "8v8HL02W8UmW"
      },
      "execution_count": null,
      "outputs": []
    },
    {
      "cell_type": "markdown",
      "source": [
        "## Incluye tus conclusiones finales de la actividad. "
      ],
      "metadata": {
        "id": "jeDPhOI9wVw-"
      }
    },
    {
      "cell_type": "markdown",
      "source": [
        "**INCLUIR CONCLUSIONES**"
      ],
      "metadata": {
        "id": "cmgmXwjjwWLC"
      }
    },
    {
      "cell_type": "markdown",
      "source": [
        "###**Fin de la Actividad de la semana 7.**"
      ],
      "metadata": {
        "id": "7ql_r2G-DB_m"
      }
    }
  ]
}