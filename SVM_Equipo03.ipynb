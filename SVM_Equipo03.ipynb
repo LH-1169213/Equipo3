{
  "nbformat": 4,
  "nbformat_minor": 0,
  "metadata": {
    "colab": {
      "provenance": [],
      "collapsed_sections": [],
      "include_colab_link": true
    },
    "kernelspec": {
      "display_name": "Python 3",
      "name": "python3"
    }
  },
  "cells": [
    {
      "cell_type": "markdown",
      "metadata": {
        "id": "view-in-github",
        "colab_type": "text"
      },
      "source": [
        "<a href=\"https://colab.research.google.com/github/LH-1169213/Equipo3/blob/main/SVM_Equipo03.ipynb\" target=\"_parent\"><img src=\"https://colab.research.google.com/assets/colab-badge.svg\" alt=\"Open In Colab\"/></a>"
      ]
    },
    {
      "cell_type": "markdown",
      "source": [
        "#**Maestría en Inteligencia Artificial Aplicada**\n",
        "##**Curso: Inteligencia Artificial y Aprendizaje Automático**\n",
        "###Tecnológico de Monterrey\n",
        "###Prof Luis Eduardo Falcón Morales\n",
        "\n",
        "## **Adtividad de la Semana 8**\n",
        "###**Máquina de Vector Soporte - Support Vector Machine(SVM)**\n"
      ],
      "metadata": {
        "id": "VFj0sSM06dYa"
      }
    },
    {
      "cell_type": "markdown",
      "source": [
        "**Nombres y matrículas de los integrantes del equipo:**\n",
        "\n",
        "*   Samara García González A01273001\n",
        "*   Laura Elena Hernández Mata A01169213\n",
        "*   Evelyn Aylin Rendon Medina A01748750\n",
        "*   Emmanuel González Calitl A01320739\n",
        "*   Carlos Enrique Diaz Ayala A01793816"
      ],
      "metadata": {
        "id": "Qgrvy0RGB9XI"
      }
    },
    {
      "cell_type": "markdown",
      "source": [
        "En cada sección deberás incluir todas las líneas de código necesarias para responder a cada uno de los ejercicios."
      ],
      "metadata": {
        "id": "FrJ2ahMODVj1"
      }
    },
    {
      "cell_type": "code",
      "source": [
        "# Incluye aquí todos módulos, librerías y paquetes que requieras.\n",
        "\n",
        "import pandas as pd\n",
        "import numpy as np\n",
        "import matplotlib.pyplot as plt \n",
        "import seaborn as sns \n",
        "from sklearn.model_selection import train_test_split\n",
        "from sklearn.preprocessing import power_transform\n",
        "\n",
        "from sklearn.pipeline import Pipeline\n",
        "from sklearn.impute import SimpleImputer\n",
        "from sklearn.compose import ColumnTransformer\n",
        "from sklearn.preprocessing import MinMaxScaler \n",
        "from sklearn.preprocessing import OneHotEncoder\n",
        "from sklearn.compose import TransformedTargetRegressor\n",
        "\n",
        "from sklearn.pipeline import Pipeline\n",
        "from sklearn.model_selection import KFold\n",
        "from sklearn.model_selection import RepeatedKFold \n",
        "from sklearn.model_selection import RepeatedStratifiedKFold\n",
        "from sklearn.model_selection import  cross_validate\n",
        "from sklearn.metrics import make_scorer\n",
        "\n",
        "from sklearn.model_selection import learning_curve, validation_curve\n",
        "\n",
        "import sklearn\n",
        "from sklearn import svm\n",
        "from sklearn.linear_model import LinearRegression #REALMENTE LA USAMOS??\n",
        "from sklearn.ensemble import RandomForestRegressor #REALMENTE LA USAMOS??\n",
        "from sklearn.neural_network import MLPRegressor #REALMENTE LA USAMOS??\n",
        "from sklearn.datasets import make_regression\n",
        "from sklearn.metrics import mean_squared_error, mean_absolute_percentage_error\n",
        "\n",
        "from sklearn.dummy import DummyRegressor #REALMENTE LA USAMOS??\n",
        "from sklearn.dummy import DummyClassifier\n",
        "\n",
        "from sklearn.model_selection import GridSearchCV\n",
        "from sklearn.inspection import permutation_importance\n",
        "\n",
        "from sklearn.linear_model import LogisticRegression #REALMENTE LA USAMOS??\n",
        "from sklearn.tree import DecisionTreeClassifier #REALMENTE LA USAMOS??\n",
        "from sklearn.ensemble import RandomForestClassifier #REALMENTE LA USAMOS??\n",
        "\n",
        "from sklearn.metrics import recall_score #SÓLO PARA VALIDACIÓN\n",
        "from sklearn.metrics import f1_score #SÓLO PARA VALIDACIÓN\n",
        "from sklearn.metrics import make_scorer #SÓLO PARA VALIDACIÓN\n",
        "from imblearn.metrics import geometric_mean_score #SÓLO PARA VALIDACIÓN\n",
        "from sklearn.metrics import confusion_matrix #SÓLO PARA VALIDACIÓN\n"
      ],
      "metadata": {
        "id": "exXsscs-Dh-2"
      },
      "execution_count": 8,
      "outputs": []
    },
    {
      "cell_type": "code",
      "source": [
        "#Funciones de errores\n",
        "def RMSEFunction(yReal, yEstimada):\n",
        "  return np.sqrt(np.mean(np.square(yReal-yEstimada)))\n",
        "\n",
        "def MAEFunction(yReal, yEstimada):\n",
        "  return np.mean(np.abs(yReal-yEstimada)) \n",
        "\n",
        "def MAPEFunction(yReal, yEstimada):\n",
        "  return np.mean(np.abs((yReal-yEstimada)/yReal))*100"
      ],
      "metadata": {
        "id": "YPNSWMB0hAp7"
      },
      "execution_count": 9,
      "outputs": []
    },
    {
      "cell_type": "code",
      "source": [
        "#Funciones de métricas\n",
        "\n",
        "#FUNCIÓN ACCURACY\n",
        "def accuracyFunction(Yreal, Yestimada):\n",
        "  vn, fp, fn, vp = confusion_matrix(Yreal, Yestimada).ravel()\n",
        "  accuracy = (vp+vn)/(vp+vn+fp+fn+np.finfo(np.float32).eps)\n",
        "  return accuracy\n",
        "#FUNCION PRECISIÓN \n",
        "def precisionFunction(Yreal, Yestimada):\n",
        "  vn, fp, fn, vp=confusion_matrix(Yreal, Yestimada).ravel()\n",
        "  precision = vp / (vp+fp+np.finfo(np.float32).eps)\n",
        "  return precision\n",
        "#FUNCIÓN RECALL\n",
        "def recallFunction(Yreal, Yestimada):\n",
        "  vn, fp, fn, vp=confusion_matrix(Yreal, Yestimada).ravel()\n",
        "  recall = vp / (vp+fn+np.finfo(np.float32).eps)\n",
        "  return recall\n",
        "#FUNCIÓN F1 SCORE\n",
        "def f1Function(Yreal, Yestimada):\n",
        "  vn, fp, fn, vp=confusion_matrix(Yreal, Yestimada).ravel()\n",
        "  f1score = 2*vp / (2*vp+fp+fn+np.finfo(np.float32).eps)\n",
        "  return f1score\n",
        "#FUNCIÓN ESPECIFICIDAD\n",
        "def especificidadFunction(Yreal, Yestimada):\n",
        "  vn, fp, fn, vp=confusion_matrix(Yreal, Yestimada).ravel()\n",
        "  especificidad = vn / (vn+fp+np.finfo(np.float32).eps)\n",
        "  return especificidad\n",
        "#FUNCIÓN GMEAN\n",
        "def gmeanFunction(Yreal, Yestimada):\n",
        " vp, fp, fn, vp=confusion_matrix(Yreal, Yestimada).ravel()\n",
        " gmean = np.sqrt(recallFunction(Yreal, Yestimada) * especificidadFunction(Yreal, Yestimada))\n",
        " return gmean"
      ],
      "metadata": {
        "id": "ofrw1uYAtpur"
      },
      "execution_count": 10,
      "outputs": []
    },
    {
      "cell_type": "markdown",
      "source": [
        "#**Preparación del data frame:**"
      ],
      "metadata": {
        "id": "s9W-YAaMe1vh"
      }
    },
    {
      "cell_type": "code",
      "source": [
        "#Obtener el data set:\n",
        "\n",
        "path = \"https://archive.ics.uci.edu/ml/machine-learning-databases/statlog/australian/australian.dat\"\n",
        "titles =  ['A1', 'A2','A3', 'A4','A5', 'A6','A7', 'A8','A9', 'A10', 'A11', 'A12', 'A13', 'A14', 'A15']\n",
        "\n",
        "datos_originales = pd.read_csv(path, sep = \" \", names = titles)\n",
        "datos_originales.head()\n"
      ],
      "metadata": {
        "id": "3nU2GuWYCy6C",
        "colab": {
          "base_uri": "https://localhost:8080/",
          "height": 206
        },
        "outputId": "3d618d97-b6ee-450f-f530-2c79da4d8c51"
      },
      "execution_count": 11,
      "outputs": [
        {
          "output_type": "execute_result",
          "data": {
            "text/plain": [
              "   A1     A2     A3  A4  A5  A6     A7  A8  A9  A10  A11  A12  A13   A14  A15\n",
              "0   1  22.08  11.46   2   4   4  1.585   0   0    0    1    2  100  1213    0\n",
              "1   0  22.67   7.00   2   8   4  0.165   0   0    0    0    2  160     1    0\n",
              "2   0  29.58   1.75   1   4   4  1.250   0   0    0    1    2  280     1    0\n",
              "3   0  21.67  11.50   1   5   3  0.000   1   1   11    1    2    0     1    1\n",
              "4   1  20.17   8.17   2   6   4  1.960   1   1   14    0    2   60   159    1"
            ],
            "text/html": [
              "\n",
              "  <div id=\"df-d95fe714-6d6b-4422-a431-1641693ee9f5\">\n",
              "    <div class=\"colab-df-container\">\n",
              "      <div>\n",
              "<style scoped>\n",
              "    .dataframe tbody tr th:only-of-type {\n",
              "        vertical-align: middle;\n",
              "    }\n",
              "\n",
              "    .dataframe tbody tr th {\n",
              "        vertical-align: top;\n",
              "    }\n",
              "\n",
              "    .dataframe thead th {\n",
              "        text-align: right;\n",
              "    }\n",
              "</style>\n",
              "<table border=\"1\" class=\"dataframe\">\n",
              "  <thead>\n",
              "    <tr style=\"text-align: right;\">\n",
              "      <th></th>\n",
              "      <th>A1</th>\n",
              "      <th>A2</th>\n",
              "      <th>A3</th>\n",
              "      <th>A4</th>\n",
              "      <th>A5</th>\n",
              "      <th>A6</th>\n",
              "      <th>A7</th>\n",
              "      <th>A8</th>\n",
              "      <th>A9</th>\n",
              "      <th>A10</th>\n",
              "      <th>A11</th>\n",
              "      <th>A12</th>\n",
              "      <th>A13</th>\n",
              "      <th>A14</th>\n",
              "      <th>A15</th>\n",
              "    </tr>\n",
              "  </thead>\n",
              "  <tbody>\n",
              "    <tr>\n",
              "      <th>0</th>\n",
              "      <td>1</td>\n",
              "      <td>22.08</td>\n",
              "      <td>11.46</td>\n",
              "      <td>2</td>\n",
              "      <td>4</td>\n",
              "      <td>4</td>\n",
              "      <td>1.585</td>\n",
              "      <td>0</td>\n",
              "      <td>0</td>\n",
              "      <td>0</td>\n",
              "      <td>1</td>\n",
              "      <td>2</td>\n",
              "      <td>100</td>\n",
              "      <td>1213</td>\n",
              "      <td>0</td>\n",
              "    </tr>\n",
              "    <tr>\n",
              "      <th>1</th>\n",
              "      <td>0</td>\n",
              "      <td>22.67</td>\n",
              "      <td>7.00</td>\n",
              "      <td>2</td>\n",
              "      <td>8</td>\n",
              "      <td>4</td>\n",
              "      <td>0.165</td>\n",
              "      <td>0</td>\n",
              "      <td>0</td>\n",
              "      <td>0</td>\n",
              "      <td>0</td>\n",
              "      <td>2</td>\n",
              "      <td>160</td>\n",
              "      <td>1</td>\n",
              "      <td>0</td>\n",
              "    </tr>\n",
              "    <tr>\n",
              "      <th>2</th>\n",
              "      <td>0</td>\n",
              "      <td>29.58</td>\n",
              "      <td>1.75</td>\n",
              "      <td>1</td>\n",
              "      <td>4</td>\n",
              "      <td>4</td>\n",
              "      <td>1.250</td>\n",
              "      <td>0</td>\n",
              "      <td>0</td>\n",
              "      <td>0</td>\n",
              "      <td>1</td>\n",
              "      <td>2</td>\n",
              "      <td>280</td>\n",
              "      <td>1</td>\n",
              "      <td>0</td>\n",
              "    </tr>\n",
              "    <tr>\n",
              "      <th>3</th>\n",
              "      <td>0</td>\n",
              "      <td>21.67</td>\n",
              "      <td>11.50</td>\n",
              "      <td>1</td>\n",
              "      <td>5</td>\n",
              "      <td>3</td>\n",
              "      <td>0.000</td>\n",
              "      <td>1</td>\n",
              "      <td>1</td>\n",
              "      <td>11</td>\n",
              "      <td>1</td>\n",
              "      <td>2</td>\n",
              "      <td>0</td>\n",
              "      <td>1</td>\n",
              "      <td>1</td>\n",
              "    </tr>\n",
              "    <tr>\n",
              "      <th>4</th>\n",
              "      <td>1</td>\n",
              "      <td>20.17</td>\n",
              "      <td>8.17</td>\n",
              "      <td>2</td>\n",
              "      <td>6</td>\n",
              "      <td>4</td>\n",
              "      <td>1.960</td>\n",
              "      <td>1</td>\n",
              "      <td>1</td>\n",
              "      <td>14</td>\n",
              "      <td>0</td>\n",
              "      <td>2</td>\n",
              "      <td>60</td>\n",
              "      <td>159</td>\n",
              "      <td>1</td>\n",
              "    </tr>\n",
              "  </tbody>\n",
              "</table>\n",
              "</div>\n",
              "      <button class=\"colab-df-convert\" onclick=\"convertToInteractive('df-d95fe714-6d6b-4422-a431-1641693ee9f5')\"\n",
              "              title=\"Convert this dataframe to an interactive table.\"\n",
              "              style=\"display:none;\">\n",
              "        \n",
              "  <svg xmlns=\"http://www.w3.org/2000/svg\" height=\"24px\"viewBox=\"0 0 24 24\"\n",
              "       width=\"24px\">\n",
              "    <path d=\"M0 0h24v24H0V0z\" fill=\"none\"/>\n",
              "    <path d=\"M18.56 5.44l.94 2.06.94-2.06 2.06-.94-2.06-.94-.94-2.06-.94 2.06-2.06.94zm-11 1L8.5 8.5l.94-2.06 2.06-.94-2.06-.94L8.5 2.5l-.94 2.06-2.06.94zm10 10l.94 2.06.94-2.06 2.06-.94-2.06-.94-.94-2.06-.94 2.06-2.06.94z\"/><path d=\"M17.41 7.96l-1.37-1.37c-.4-.4-.92-.59-1.43-.59-.52 0-1.04.2-1.43.59L10.3 9.45l-7.72 7.72c-.78.78-.78 2.05 0 2.83L4 21.41c.39.39.9.59 1.41.59.51 0 1.02-.2 1.41-.59l7.78-7.78 2.81-2.81c.8-.78.8-2.07 0-2.86zM5.41 20L4 18.59l7.72-7.72 1.47 1.35L5.41 20z\"/>\n",
              "  </svg>\n",
              "      </button>\n",
              "      \n",
              "  <style>\n",
              "    .colab-df-container {\n",
              "      display:flex;\n",
              "      flex-wrap:wrap;\n",
              "      gap: 12px;\n",
              "    }\n",
              "\n",
              "    .colab-df-convert {\n",
              "      background-color: #E8F0FE;\n",
              "      border: none;\n",
              "      border-radius: 50%;\n",
              "      cursor: pointer;\n",
              "      display: none;\n",
              "      fill: #1967D2;\n",
              "      height: 32px;\n",
              "      padding: 0 0 0 0;\n",
              "      width: 32px;\n",
              "    }\n",
              "\n",
              "    .colab-df-convert:hover {\n",
              "      background-color: #E2EBFA;\n",
              "      box-shadow: 0px 1px 2px rgba(60, 64, 67, 0.3), 0px 1px 3px 1px rgba(60, 64, 67, 0.15);\n",
              "      fill: #174EA6;\n",
              "    }\n",
              "\n",
              "    [theme=dark] .colab-df-convert {\n",
              "      background-color: #3B4455;\n",
              "      fill: #D2E3FC;\n",
              "    }\n",
              "\n",
              "    [theme=dark] .colab-df-convert:hover {\n",
              "      background-color: #434B5C;\n",
              "      box-shadow: 0px 1px 3px 1px rgba(0, 0, 0, 0.15);\n",
              "      filter: drop-shadow(0px 1px 2px rgba(0, 0, 0, 0.3));\n",
              "      fill: #FFFFFF;\n",
              "    }\n",
              "  </style>\n",
              "\n",
              "      <script>\n",
              "        const buttonEl =\n",
              "          document.querySelector('#df-d95fe714-6d6b-4422-a431-1641693ee9f5 button.colab-df-convert');\n",
              "        buttonEl.style.display =\n",
              "          google.colab.kernel.accessAllowed ? 'block' : 'none';\n",
              "\n",
              "        async function convertToInteractive(key) {\n",
              "          const element = document.querySelector('#df-d95fe714-6d6b-4422-a431-1641693ee9f5');\n",
              "          const dataTable =\n",
              "            await google.colab.kernel.invokeFunction('convertToInteractive',\n",
              "                                                     [key], {});\n",
              "          if (!dataTable) return;\n",
              "\n",
              "          const docLinkHtml = 'Like what you see? Visit the ' +\n",
              "            '<a target=\"_blank\" href=https://colab.research.google.com/notebooks/data_table.ipynb>data table notebook</a>'\n",
              "            + ' to learn more about interactive tables.';\n",
              "          element.innerHTML = '';\n",
              "          dataTable['output_type'] = 'display_data';\n",
              "          await google.colab.output.renderOutput(dataTable, element);\n",
              "          const docLink = document.createElement('div');\n",
              "          docLink.innerHTML = docLinkHtml;\n",
              "          element.appendChild(docLink);\n",
              "        }\n",
              "      </script>\n",
              "    </div>\n",
              "  </div>\n",
              "  "
            ]
          },
          "metadata": {},
          "execution_count": 11
        }
      ]
    },
    {
      "cell_type": "code",
      "source": [
        "df = datos_originales"
      ],
      "metadata": {
        "id": "oiH4FmDe7Tn_"
      },
      "execution_count": 12,
      "outputs": []
    },
    {
      "cell_type": "code",
      "source": [
        "df.dtypes"
      ],
      "metadata": {
        "colab": {
          "base_uri": "https://localhost:8080/"
        },
        "id": "D-Ug3YeL_G-I",
        "outputId": "f444d40f-cb06-43e1-e574-b0763cf41275"
      },
      "execution_count": 13,
      "outputs": [
        {
          "output_type": "execute_result",
          "data": {
            "text/plain": [
              "A1       int64\n",
              "A2     float64\n",
              "A3     float64\n",
              "A4       int64\n",
              "A5       int64\n",
              "A6       int64\n",
              "A7     float64\n",
              "A8       int64\n",
              "A9       int64\n",
              "A10      int64\n",
              "A11      int64\n",
              "A12      int64\n",
              "A13      int64\n",
              "A14      int64\n",
              "A15      int64\n",
              "dtype: object"
            ]
          },
          "metadata": {},
          "execution_count": 13
        }
      ]
    },
    {
      "cell_type": "markdown",
      "source": [
        "Sin columnas tipo objeto."
      ],
      "metadata": {
        "id": "Jo_WgG_a_Ogy"
      }
    },
    {
      "cell_type": "code",
      "source": [
        "#Remplazar signos de interrogación a Nan's:\n",
        "df=df.replace('?',np.NaN)"
      ],
      "metadata": {
        "id": "AlsXh5V6_jZO"
      },
      "execution_count": 14,
      "outputs": []
    },
    {
      "cell_type": "code",
      "source": [
        "#OBTENEMOS LA INFORMACIÓN DE NUESTRO DF\n",
        "df.info()"
      ],
      "metadata": {
        "id": "kGfAoOPkC1PP",
        "colab": {
          "base_uri": "https://localhost:8080/"
        },
        "outputId": "67cac14f-a529-4b1f-f1f6-65060a044457"
      },
      "execution_count": 15,
      "outputs": [
        {
          "output_type": "stream",
          "name": "stdout",
          "text": [
            "<class 'pandas.core.frame.DataFrame'>\n",
            "RangeIndex: 690 entries, 0 to 689\n",
            "Data columns (total 15 columns):\n",
            " #   Column  Non-Null Count  Dtype  \n",
            "---  ------  --------------  -----  \n",
            " 0   A1      690 non-null    int64  \n",
            " 1   A2      690 non-null    float64\n",
            " 2   A3      690 non-null    float64\n",
            " 3   A4      690 non-null    int64  \n",
            " 4   A5      690 non-null    int64  \n",
            " 5   A6      690 non-null    int64  \n",
            " 6   A7      690 non-null    float64\n",
            " 7   A8      690 non-null    int64  \n",
            " 8   A9      690 non-null    int64  \n",
            " 9   A10     690 non-null    int64  \n",
            " 10  A11     690 non-null    int64  \n",
            " 11  A12     690 non-null    int64  \n",
            " 12  A13     690 non-null    int64  \n",
            " 13  A14     690 non-null    int64  \n",
            " 14  A15     690 non-null    int64  \n",
            "dtypes: float64(3), int64(12)\n",
            "memory usage: 81.0 KB\n"
          ]
        }
      ]
    },
    {
      "cell_type": "code",
      "source": [
        "df.isna().any()"
      ],
      "metadata": {
        "id": "GOydw5OGC1MJ",
        "colab": {
          "base_uri": "https://localhost:8080/"
        },
        "outputId": "afe25bca-ad86-484a-92eb-1be049ecb85b"
      },
      "execution_count": 16,
      "outputs": [
        {
          "output_type": "execute_result",
          "data": {
            "text/plain": [
              "A1     False\n",
              "A2     False\n",
              "A3     False\n",
              "A4     False\n",
              "A5     False\n",
              "A6     False\n",
              "A7     False\n",
              "A8     False\n",
              "A9     False\n",
              "A10    False\n",
              "A11    False\n",
              "A12    False\n",
              "A13    False\n",
              "A14    False\n",
              "A15    False\n",
              "dtype: bool"
            ]
          },
          "metadata": {},
          "execution_count": 16
        }
      ]
    },
    {
      "cell_type": "markdown",
      "source": [
        "Sin valores Nan's"
      ],
      "metadata": {
        "id": "RpH3sJUn_Xeu"
      }
    },
    {
      "cell_type": "code",
      "source": [
        "# DEFINICIÓN DE LAS VARIABLES\n",
        "\n",
        "X = df.iloc[:,0:14] # VARIABLES DE ENTRADA\n",
        "\n",
        "y = df[\"A15\"] # VARIABLE DE SALIDA"
      ],
      "metadata": {
        "id": "u5Iu45-qd5o9"
      },
      "execution_count": 17,
      "outputs": []
    },
    {
      "cell_type": "markdown",
      "metadata": {
        "id": "X25brD-gQdZM"
      },
      "source": [
        "#**Ejercicio-1.** \n",
        "\n",
        "Realiza una partición de los datos con 15% en el conjunto de prueba y el resto para entrenamiento y\n",
        "validación. Usa un random_state=0. \n"
      ]
    },
    {
      "cell_type": "code",
      "source": [
        "# Partición de datos:\n",
        "#Datos totales 690, 15% -> 104 para prueba.\n",
        "\n",
        "Xtrain, Xtest, Ytrain, Ytest =  train_test_split(X,y, test_size = 0.15, random_state = 0) \n",
        "\n",
        "# REVISAMOS QUE LA PARTICIÓN HAYA SIDO CORRECTA\n",
        "print(\"Tamaño de las variables de entrada y salida sin partición (X & y)\")\n",
        "print(X.shape, y.shape)\n",
        "\n",
        "print(\"Tamaño de los valores de entrenamiento (Xtrain & Ytrain)\")\n",
        "print(Xtrain.shape, Ytrain.shape)\n",
        "\n",
        "print(\"Tamaño de los valores de prueba (Xtest & Ytest)\")\n",
        "print(Xtest.shape, Ytest.shape)"
      ],
      "metadata": {
        "id": "v6Am2TwZfLie",
        "colab": {
          "base_uri": "https://localhost:8080/"
        },
        "outputId": "d94141a6-593b-4f89-8ddc-625d247e949f"
      },
      "execution_count": 18,
      "outputs": [
        {
          "output_type": "stream",
          "name": "stdout",
          "text": [
            "Tamaño de las variables de entrada y salida sin partición (X & y)\n",
            "(690, 14) (690,)\n",
            "Tamaño de los valores de entrenamiento (Xtrain & Ytrain)\n",
            "(586, 14) (586,)\n",
            "Tamaño de los valores de prueba (Xtest & Ytest)\n",
            "(104, 14) (104,)\n"
          ]
        }
      ]
    },
    {
      "cell_type": "markdown",
      "source": [
        "#**Ejercicio-2.**\n",
        "\n",
        " Hacer una análisis de los datos y llevar a cabo las transformaciones que consideres adecuadas.\n",
        "Utiliza un Pipeline para evitar el filtrado de información. "
      ],
      "metadata": {
        "id": "xZhr2hkECzVv"
      }
    },
    {
      "cell_type": "markdown",
      "source": [
        "![image.png](data:image/png;base64,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)"
      ],
      "metadata": {
        "id": "1Gf6BgRxcHDx"
      }
    },
    {
      "cell_type": "code",
      "source": [
        "df.describe()"
      ],
      "metadata": {
        "colab": {
          "base_uri": "https://localhost:8080/",
          "height": 364
        },
        "id": "E6-dVoxA-9eM",
        "outputId": "7a4c2dda-278d-4251-86f4-5606a30e7378"
      },
      "execution_count": 19,
      "outputs": [
        {
          "output_type": "execute_result",
          "data": {
            "text/plain": [
              "               A1          A2          A3          A4          A5          A6  \\\n",
              "count  690.000000  690.000000  690.000000  690.000000  690.000000  690.000000   \n",
              "mean     0.678261   31.568203    4.758725    1.766667    7.372464    4.692754   \n",
              "std      0.467482   11.853273    4.978163    0.430063    3.683265    1.992316   \n",
              "min      0.000000   13.750000    0.000000    1.000000    1.000000    1.000000   \n",
              "25%      0.000000   22.670000    1.000000    2.000000    4.000000    4.000000   \n",
              "50%      1.000000   28.625000    2.750000    2.000000    8.000000    4.000000   \n",
              "75%      1.000000   37.707500    7.207500    2.000000   10.000000    5.000000   \n",
              "max      1.000000   80.250000   28.000000    3.000000   14.000000    9.000000   \n",
              "\n",
              "               A7          A8          A9        A10         A11         A12  \\\n",
              "count  690.000000  690.000000  690.000000  690.00000  690.000000  690.000000   \n",
              "mean     2.223406    0.523188    0.427536    2.40000    0.457971    1.928986   \n",
              "std      3.346513    0.499824    0.495080    4.86294    0.498592    0.298813   \n",
              "min      0.000000    0.000000    0.000000    0.00000    0.000000    1.000000   \n",
              "25%      0.165000    0.000000    0.000000    0.00000    0.000000    2.000000   \n",
              "50%      1.000000    1.000000    0.000000    0.00000    0.000000    2.000000   \n",
              "75%      2.625000    1.000000    1.000000    3.00000    1.000000    2.000000   \n",
              "max     28.500000    1.000000    1.000000   67.00000    1.000000    3.000000   \n",
              "\n",
              "               A13            A14         A15  \n",
              "count   690.000000     690.000000  690.000000  \n",
              "mean    184.014493    1018.385507    0.444928  \n",
              "std     172.159274    5210.102598    0.497318  \n",
              "min       0.000000       1.000000    0.000000  \n",
              "25%      80.000000       1.000000    0.000000  \n",
              "50%     160.000000       6.000000    0.000000  \n",
              "75%     272.000000     396.500000    1.000000  \n",
              "max    2000.000000  100001.000000    1.000000  "
            ],
            "text/html": [
              "\n",
              "  <div id=\"df-fbe8193f-89bd-4d5d-b058-cf144f1e0d06\">\n",
              "    <div class=\"colab-df-container\">\n",
              "      <div>\n",
              "<style scoped>\n",
              "    .dataframe tbody tr th:only-of-type {\n",
              "        vertical-align: middle;\n",
              "    }\n",
              "\n",
              "    .dataframe tbody tr th {\n",
              "        vertical-align: top;\n",
              "    }\n",
              "\n",
              "    .dataframe thead th {\n",
              "        text-align: right;\n",
              "    }\n",
              "</style>\n",
              "<table border=\"1\" class=\"dataframe\">\n",
              "  <thead>\n",
              "    <tr style=\"text-align: right;\">\n",
              "      <th></th>\n",
              "      <th>A1</th>\n",
              "      <th>A2</th>\n",
              "      <th>A3</th>\n",
              "      <th>A4</th>\n",
              "      <th>A5</th>\n",
              "      <th>A6</th>\n",
              "      <th>A7</th>\n",
              "      <th>A8</th>\n",
              "      <th>A9</th>\n",
              "      <th>A10</th>\n",
              "      <th>A11</th>\n",
              "      <th>A12</th>\n",
              "      <th>A13</th>\n",
              "      <th>A14</th>\n",
              "      <th>A15</th>\n",
              "    </tr>\n",
              "  </thead>\n",
              "  <tbody>\n",
              "    <tr>\n",
              "      <th>count</th>\n",
              "      <td>690.000000</td>\n",
              "      <td>690.000000</td>\n",
              "      <td>690.000000</td>\n",
              "      <td>690.000000</td>\n",
              "      <td>690.000000</td>\n",
              "      <td>690.000000</td>\n",
              "      <td>690.000000</td>\n",
              "      <td>690.000000</td>\n",
              "      <td>690.000000</td>\n",
              "      <td>690.00000</td>\n",
              "      <td>690.000000</td>\n",
              "      <td>690.000000</td>\n",
              "      <td>690.000000</td>\n",
              "      <td>690.000000</td>\n",
              "      <td>690.000000</td>\n",
              "    </tr>\n",
              "    <tr>\n",
              "      <th>mean</th>\n",
              "      <td>0.678261</td>\n",
              "      <td>31.568203</td>\n",
              "      <td>4.758725</td>\n",
              "      <td>1.766667</td>\n",
              "      <td>7.372464</td>\n",
              "      <td>4.692754</td>\n",
              "      <td>2.223406</td>\n",
              "      <td>0.523188</td>\n",
              "      <td>0.427536</td>\n",
              "      <td>2.40000</td>\n",
              "      <td>0.457971</td>\n",
              "      <td>1.928986</td>\n",
              "      <td>184.014493</td>\n",
              "      <td>1018.385507</td>\n",
              "      <td>0.444928</td>\n",
              "    </tr>\n",
              "    <tr>\n",
              "      <th>std</th>\n",
              "      <td>0.467482</td>\n",
              "      <td>11.853273</td>\n",
              "      <td>4.978163</td>\n",
              "      <td>0.430063</td>\n",
              "      <td>3.683265</td>\n",
              "      <td>1.992316</td>\n",
              "      <td>3.346513</td>\n",
              "      <td>0.499824</td>\n",
              "      <td>0.495080</td>\n",
              "      <td>4.86294</td>\n",
              "      <td>0.498592</td>\n",
              "      <td>0.298813</td>\n",
              "      <td>172.159274</td>\n",
              "      <td>5210.102598</td>\n",
              "      <td>0.497318</td>\n",
              "    </tr>\n",
              "    <tr>\n",
              "      <th>min</th>\n",
              "      <td>0.000000</td>\n",
              "      <td>13.750000</td>\n",
              "      <td>0.000000</td>\n",
              "      <td>1.000000</td>\n",
              "      <td>1.000000</td>\n",
              "      <td>1.000000</td>\n",
              "      <td>0.000000</td>\n",
              "      <td>0.000000</td>\n",
              "      <td>0.000000</td>\n",
              "      <td>0.00000</td>\n",
              "      <td>0.000000</td>\n",
              "      <td>1.000000</td>\n",
              "      <td>0.000000</td>\n",
              "      <td>1.000000</td>\n",
              "      <td>0.000000</td>\n",
              "    </tr>\n",
              "    <tr>\n",
              "      <th>25%</th>\n",
              "      <td>0.000000</td>\n",
              "      <td>22.670000</td>\n",
              "      <td>1.000000</td>\n",
              "      <td>2.000000</td>\n",
              "      <td>4.000000</td>\n",
              "      <td>4.000000</td>\n",
              "      <td>0.165000</td>\n",
              "      <td>0.000000</td>\n",
              "      <td>0.000000</td>\n",
              "      <td>0.00000</td>\n",
              "      <td>0.000000</td>\n",
              "      <td>2.000000</td>\n",
              "      <td>80.000000</td>\n",
              "      <td>1.000000</td>\n",
              "      <td>0.000000</td>\n",
              "    </tr>\n",
              "    <tr>\n",
              "      <th>50%</th>\n",
              "      <td>1.000000</td>\n",
              "      <td>28.625000</td>\n",
              "      <td>2.750000</td>\n",
              "      <td>2.000000</td>\n",
              "      <td>8.000000</td>\n",
              "      <td>4.000000</td>\n",
              "      <td>1.000000</td>\n",
              "      <td>1.000000</td>\n",
              "      <td>0.000000</td>\n",
              "      <td>0.00000</td>\n",
              "      <td>0.000000</td>\n",
              "      <td>2.000000</td>\n",
              "      <td>160.000000</td>\n",
              "      <td>6.000000</td>\n",
              "      <td>0.000000</td>\n",
              "    </tr>\n",
              "    <tr>\n",
              "      <th>75%</th>\n",
              "      <td>1.000000</td>\n",
              "      <td>37.707500</td>\n",
              "      <td>7.207500</td>\n",
              "      <td>2.000000</td>\n",
              "      <td>10.000000</td>\n",
              "      <td>5.000000</td>\n",
              "      <td>2.625000</td>\n",
              "      <td>1.000000</td>\n",
              "      <td>1.000000</td>\n",
              "      <td>3.00000</td>\n",
              "      <td>1.000000</td>\n",
              "      <td>2.000000</td>\n",
              "      <td>272.000000</td>\n",
              "      <td>396.500000</td>\n",
              "      <td>1.000000</td>\n",
              "    </tr>\n",
              "    <tr>\n",
              "      <th>max</th>\n",
              "      <td>1.000000</td>\n",
              "      <td>80.250000</td>\n",
              "      <td>28.000000</td>\n",
              "      <td>3.000000</td>\n",
              "      <td>14.000000</td>\n",
              "      <td>9.000000</td>\n",
              "      <td>28.500000</td>\n",
              "      <td>1.000000</td>\n",
              "      <td>1.000000</td>\n",
              "      <td>67.00000</td>\n",
              "      <td>1.000000</td>\n",
              "      <td>3.000000</td>\n",
              "      <td>2000.000000</td>\n",
              "      <td>100001.000000</td>\n",
              "      <td>1.000000</td>\n",
              "    </tr>\n",
              "  </tbody>\n",
              "</table>\n",
              "</div>\n",
              "      <button class=\"colab-df-convert\" onclick=\"convertToInteractive('df-fbe8193f-89bd-4d5d-b058-cf144f1e0d06')\"\n",
              "              title=\"Convert this dataframe to an interactive table.\"\n",
              "              style=\"display:none;\">\n",
              "        \n",
              "  <svg xmlns=\"http://www.w3.org/2000/svg\" height=\"24px\"viewBox=\"0 0 24 24\"\n",
              "       width=\"24px\">\n",
              "    <path d=\"M0 0h24v24H0V0z\" fill=\"none\"/>\n",
              "    <path d=\"M18.56 5.44l.94 2.06.94-2.06 2.06-.94-2.06-.94-.94-2.06-.94 2.06-2.06.94zm-11 1L8.5 8.5l.94-2.06 2.06-.94-2.06-.94L8.5 2.5l-.94 2.06-2.06.94zm10 10l.94 2.06.94-2.06 2.06-.94-2.06-.94-.94-2.06-.94 2.06-2.06.94z\"/><path d=\"M17.41 7.96l-1.37-1.37c-.4-.4-.92-.59-1.43-.59-.52 0-1.04.2-1.43.59L10.3 9.45l-7.72 7.72c-.78.78-.78 2.05 0 2.83L4 21.41c.39.39.9.59 1.41.59.51 0 1.02-.2 1.41-.59l7.78-7.78 2.81-2.81c.8-.78.8-2.07 0-2.86zM5.41 20L4 18.59l7.72-7.72 1.47 1.35L5.41 20z\"/>\n",
              "  </svg>\n",
              "      </button>\n",
              "      \n",
              "  <style>\n",
              "    .colab-df-container {\n",
              "      display:flex;\n",
              "      flex-wrap:wrap;\n",
              "      gap: 12px;\n",
              "    }\n",
              "\n",
              "    .colab-df-convert {\n",
              "      background-color: #E8F0FE;\n",
              "      border: none;\n",
              "      border-radius: 50%;\n",
              "      cursor: pointer;\n",
              "      display: none;\n",
              "      fill: #1967D2;\n",
              "      height: 32px;\n",
              "      padding: 0 0 0 0;\n",
              "      width: 32px;\n",
              "    }\n",
              "\n",
              "    .colab-df-convert:hover {\n",
              "      background-color: #E2EBFA;\n",
              "      box-shadow: 0px 1px 2px rgba(60, 64, 67, 0.3), 0px 1px 3px 1px rgba(60, 64, 67, 0.15);\n",
              "      fill: #174EA6;\n",
              "    }\n",
              "\n",
              "    [theme=dark] .colab-df-convert {\n",
              "      background-color: #3B4455;\n",
              "      fill: #D2E3FC;\n",
              "    }\n",
              "\n",
              "    [theme=dark] .colab-df-convert:hover {\n",
              "      background-color: #434B5C;\n",
              "      box-shadow: 0px 1px 3px 1px rgba(0, 0, 0, 0.15);\n",
              "      filter: drop-shadow(0px 1px 2px rgba(0, 0, 0, 0.3));\n",
              "      fill: #FFFFFF;\n",
              "    }\n",
              "  </style>\n",
              "\n",
              "      <script>\n",
              "        const buttonEl =\n",
              "          document.querySelector('#df-fbe8193f-89bd-4d5d-b058-cf144f1e0d06 button.colab-df-convert');\n",
              "        buttonEl.style.display =\n",
              "          google.colab.kernel.accessAllowed ? 'block' : 'none';\n",
              "\n",
              "        async function convertToInteractive(key) {\n",
              "          const element = document.querySelector('#df-fbe8193f-89bd-4d5d-b058-cf144f1e0d06');\n",
              "          const dataTable =\n",
              "            await google.colab.kernel.invokeFunction('convertToInteractive',\n",
              "                                                     [key], {});\n",
              "          if (!dataTable) return;\n",
              "\n",
              "          const docLinkHtml = 'Like what you see? Visit the ' +\n",
              "            '<a target=\"_blank\" href=https://colab.research.google.com/notebooks/data_table.ipynb>data table notebook</a>'\n",
              "            + ' to learn more about interactive tables.';\n",
              "          element.innerHTML = '';\n",
              "          dataTable['output_type'] = 'display_data';\n",
              "          await google.colab.output.renderOutput(dataTable, element);\n",
              "          const docLink = document.createElement('div');\n",
              "          docLink.innerHTML = docLinkHtml;\n",
              "          element.appendChild(docLink);\n",
              "        }\n",
              "      </script>\n",
              "    </div>\n",
              "  </div>\n",
              "  "
            ]
          },
          "metadata": {},
          "execution_count": 19
        }
      ]
    },
    {
      "cell_type": "markdown",
      "source": [
        "Los valores de variables catégoricas están dentro del rango, no es necesario corregir rangos."
      ],
      "metadata": {
        "id": "DvSHzm8gEObh"
      }
    },
    {
      "cell_type": "code",
      "source": [
        "# DIVISIÓN DE VARIABLES DE ENTRADA EN CATEGÓRICA, ORDINAL, NUMÉRICA Y BINARIA\n",
        "\n",
        "categorical_vars = ['A4', 'A5', 'A6', 'A12'] #Variables categóricas\n",
        "ordinal_vars = [] #Variables cuantitativas discretizadas\n",
        "quantitative_vars = ['A2', 'A3', 'A7', 'A10', 'A13', 'A14'] #Variables numéricas\n",
        "in_binary_vars = ['A1', 'A8', 'A9', 'A11'] #Variables binarias de entrada\n",
        "out_binary_vars = ['A15'] #Variables binarias de salida"
      ],
      "metadata": {
        "id": "2OeOYY70Bg6V"
      },
      "execution_count": 20,
      "outputs": []
    },
    {
      "cell_type": "code",
      "source": [
        "# CONOCIENDO EL COMPORTAMIENTO DE NUESTRAS VARIABLES\n",
        "\n",
        "variables_a_transformar = quantitative_vars\n",
        "\n",
        "\n",
        "sns.set(rc={'figure.figsize':(20,10)})\n",
        "fig, axes = plt.subplots(5, 5)   \n",
        "\n",
        "  \n",
        "for k in range(0,6):       \n",
        " \n",
        "    # Datos originales \n",
        "    plt.subplot(5,7,k+1) \n",
        "\n",
        "    Transf0 = df[variables_a_transformar[k]]          \n",
        "    plt.hist(Transf0,bins=30)                               \n",
        "\n",
        "    plt.xlabel(variables_a_transformar[k])\n",
        "    if k==0:\n",
        "      plt.ylabel('Originales')\n",
        "    \n",
        "    # Datos transformados con raíz cuadrada \n",
        "    plt.subplot(5,7,k+8)    \n",
        "\n",
        "    Transf1 = np.sqrt(Transf0)          \n",
        "    plt.hist(Transf1, bins=30)               \n",
        "\n",
        "    plt.xlabel(variables_a_transformar[k])\n",
        "    if k==0:\n",
        "      plt.ylabel('Raíz Cuadrada')\n",
        "      \n",
        "    # Datos transformados con logaritmo natural \n",
        "    plt.subplot(5,7,k+15)     \n",
        "\n",
        "    Transf2 =  Transf0  #np.log(Transf0) *************************************** <------------------------------------------ log(0) -infinite         \n",
        "    plt.hist(Transf2,bins=30)          \n",
        "\n",
        "    plt.xlabel(variables_a_transformar[k])\n",
        "    if k==0:\n",
        "      plt.ylabel('Logaritmo')\n",
        "    \n",
        "    # Datos transformados con la potencia de 2 \n",
        "    plt.subplot(5,7,k+22)\n",
        "\n",
        "    Transf3 = np.power(Transf0,2)          \n",
        "    plt.hist(Transf3,bins=30)              \n",
        "\n",
        "    plt.xlabel(variables_a_transformar[k])\n",
        "    if k==0:\n",
        "      plt.ylabel('Potencia 2')\n",
        "    \n",
        "\n",
        "    # Datos transformados con Box-Cox \n",
        "    plt.subplot(5,7,k+29)\n",
        "\n",
        "    Transf4 = Transf0  #power_transform(Transf0.to_frame(),method=\"box-cox\") #np.log(Transf0) ******** <------------------------------------------ Método box cox no acepta 0           \n",
        "    plt.hist(Transf4,bins=30)                                               \n",
        "\n",
        "    plt.xlabel(variables_a_transformar[k])\n",
        "    if k==0:\n",
        "      plt.ylabel('Box-Cox')\n",
        "\n",
        "\n",
        "plt.show()"
      ],
      "metadata": {
        "colab": {
          "base_uri": "https://localhost:8080/",
          "height": 512
        },
        "id": "NUFdNvPwAm7L",
        "outputId": "47673d63-36ec-4a81-dc9b-e1e272df1c44"
      },
      "execution_count": null,
      "outputs": [
        {
          "output_type": "display_data",
          "data": {
            "text/plain": [
              "<Figure size 1440x720 with 30 Axes>"
            ],
            "image/png": "[encoded data removed]"
          },
          "metadata": {}
        }
      ]
    },
    {
      "cell_type": "code",
      "source": [
        "#\n",
        "sns.distplot(df['A15'])"
      ],
      "metadata": {
        "colab": {
          "base_uri": "https://localhost:8080/",
          "height": 523
        },
        "id": "dnyBwYs7n2RT",
        "outputId": "aa069c47-a845-45d1-d913-14941198a933"
      },
      "execution_count": null,
      "outputs": [
        {
          "output_type": "stream",
          "name": "stderr",
          "text": [
            "/usr/local/lib/python3.7/dist-packages/seaborn/distributions.py:2619: FutureWarning: `distplot` is a deprecated function and will be removed in a future version. Please adapt your code to use either `displot` (a figure-level function with similar flexibility) or `histplot` (an axes-level function for histograms).\n",
            "  warnings.warn(msg, FutureWarning)\n"
          ]
        },
        {
          "output_type": "execute_result",
          "data": {
            "text/plain": [
              "<matplotlib.axes._subplots.AxesSubplot at 0x7fd0ef8f3090>"
            ]
          },
          "metadata": {},
          "execution_count": 23
        },
        {
          "output_type": "display_data",
          "data": {
            "text/plain": [
              "<Figure size 1440x720 with 1 Axes>"
            ],
            "image/png": "[encoded data removed]"
          },
          "metadata": {}
        }
      ]
    },
    {
      "cell_type": "code",
      "source": [
        "num_credits = df['A15'].value_counts()\n",
        "num_credits"
      ],
      "metadata": {
        "colab": {
          "base_uri": "https://localhost:8080/"
        },
        "id": "geeEBBGApdjU",
        "outputId": "e7d13103-d95f-4530-e811-ea0481996ff1"
      },
      "execution_count": null,
      "outputs": [
        {
          "output_type": "execute_result",
          "data": {
            "text/plain": [
              "0    383\n",
              "1    307\n",
              "Name: A15, dtype: int64"
            ]
          },
          "metadata": {},
          "execution_count": 24
        }
      ]
    },
    {
      "cell_type": "markdown",
      "source": [
        "Clases ligeramente desbalanceadas, se niegan más créditos de los que se entregan."
      ],
      "metadata": {
        "id": "zt4CdCsEpms7"
      }
    },
    {
      "cell_type": "code",
      "source": [
        "# PIPELINE, ESCALACIÓN DE DATOS CUANTITATIVOS CON EL MÉTODO DE MinMaxScaler,\n",
        "quantitative_pipeline = Pipeline(steps=[('imputer', SimpleImputer(strategy='mean')),('scaler',MinMaxScaler(feature_range=(1,2)))])\n",
        "col_quantitative = quantitative_vars\n",
        "\n",
        "# TRANSFORMACIÓN ONE HOT ENCODER PARA VARIABLES CATEGÓRICAS Y BINARIAS.\n",
        "categorical_pipeline = Pipeline(steps = [(\"imputer\", SimpleImputer(strategy='most_frequent')),('onehot',OneHotEncoder(handle_unknown=\"ignore\"))])\n",
        "col_categorical = categorical_vars\n",
        "\n",
        "binary_pipeline = Pipeline(steps = [(\"imputer\", SimpleImputer(strategy='most_frequent')),('onehot',OneHotEncoder(handle_unknown=\"ignore\"))])\n",
        "col_binary_in = in_binary_vars\n",
        "\n",
        "#No se usan variables ordinals, se quita del cols transformer\n",
        "#ordinal_pipeline = Pipeline(steps = [(\"imputer\", SimpleImputer(strategy='most_frequent'))]) \n",
        "#col_ordinal = ordinal_vars\n",
        "\n",
        "cols_Transformer = ColumnTransformer(transformers = [('quantitative', quantitative_pipeline, col_quantitative),\n",
        "                                                        ('categorical', categorical_pipeline, col_categorical),\n",
        "                                                        ('binary_in', binary_pipeline, col_binary_in), \n",
        "                                                        ], remainder='passthrough')\n"
      ],
      "metadata": {
        "id": "LzH9OeQ8LRu3"
      },
      "execution_count": 21,
      "outputs": []
    },
    {
      "cell_type": "code",
      "source": [
        "#REVISIÓN DE CONFIGURACIÓN\n",
        "X_train_fit = cols_Transformer.fit(Xtrain)\n",
        "print(X_train_fit)\n"
      ],
      "metadata": {
        "colab": {
          "base_uri": "https://localhost:8080/"
        },
        "id": "9ngIfcN4tIF_",
        "outputId": "5dc70f9d-f5dd-4863-d78f-8f814aba01e7"
      },
      "execution_count": 22,
      "outputs": [
        {
          "output_type": "stream",
          "name": "stdout",
          "text": [
            "ColumnTransformer(remainder='passthrough',\n",
            "                  transformers=[('quantitative',\n",
            "                                 Pipeline(steps=[('imputer', SimpleImputer()),\n",
            "                                                 ('scaler',\n",
            "                                                  MinMaxScaler(feature_range=(1,\n",
            "                                                                              2)))]),\n",
            "                                 ['A2', 'A3', 'A7', 'A10', 'A13', 'A14']),\n",
            "                                ('categorical',\n",
            "                                 Pipeline(steps=[('imputer',\n",
            "                                                  SimpleImputer(strategy='most_frequent')),\n",
            "                                                 ('onehot',\n",
            "                                                  OneHotEncoder(handle_unknown='ignore'))]),\n",
            "                                 ['A4', 'A5', 'A6', 'A12']),\n",
            "                                ('binary_in',\n",
            "                                 Pipeline(steps=[('imputer',\n",
            "                                                  SimpleImputer(strategy='most_frequent')),\n",
            "                                                 ('onehot',\n",
            "                                                  OneHotEncoder(handle_unknown='ignore'))]),\n",
            "                                 ['A1', 'A8', 'A9', 'A11'])])\n"
          ]
        }
      ]
    },
    {
      "cell_type": "markdown",
      "source": [
        "#**Ejercicio-3.**\n",
        "\n",
        "Utiliza la función Dummy para modelos de clasificación con la estrategia “stratified” con el conjunto\n",
        "que tienes de datos de entrenamiento y validación. Obtener los valores de partida (baseline) de las \n",
        "siguientes métricas: accuracy, f1-score, precision y recall. ¿Por qué consideras que es adecuado usar\n",
        "la estrategia “stratified” en este caso? \n",
        "\n",
        " "
      ],
      "metadata": {
        "id": "NCunuooTC2W3"
      }
    },
    {
      "cell_type": "code",
      "source": [
        "# HACEMOS LA PARTICIÓN DE LOS DATOS TOMANDO COMO BASE LOS DATOS DE ENTRENAMIENTO Y VALIDACIÓN (Xtrain, Ytrain)\n",
        "# QUE ESTABLECIMOS PREVIAMENTE\n",
        "\n",
        "Xtrain2, Xval, Ytrain2, Yval = train_test_split(Xtrain, Ytrain, train_size = 410, test_size = 176, random_state = 0)\n",
        "\n",
        "# REVISAMOS QUE LA PARTICIÓN HAYA SIDO CORRECTA\n",
        "print(\"Tamaño de las variables de entrada y salida sin partición (X & y)\")\n",
        "print(X.shape, y.shape)\n",
        "\n",
        "print(\"\\n------Partición del Ejercicio 1:------\")\n",
        "\n",
        "print(\"Tamaño de los valores de entrenamiento (Xtrain & Ytrain)\")\n",
        "print(Xtrain.shape, Ytrain.shape)\n",
        "\n",
        "print(\"Tamaño de los valores de prueba (Xtest & Ytest)\")\n",
        "print(Xtest.shape, Ytest.shape)\n",
        "\n",
        "\n",
        "print(\"\\n------Partición actual:------\")\n",
        "\n",
        "print(\"Tamaño de los valores de entrenamiento actuales (Xtrain2 & Ytrain2)\")\n",
        "print(Xtrain2.shape, Ytrain2.shape)\n",
        "\n",
        "print(\"Tamaño de los valores de validación (Xval & Yval)\")\n",
        "print(Xval.shape, Yval.shape)"
      ],
      "metadata": {
        "id": "YXlcSWA-C4Dj",
        "colab": {
          "base_uri": "https://localhost:8080/"
        },
        "outputId": "32079845-e413-4ea8-f997-40734f2ee3ed"
      },
      "execution_count": null,
      "outputs": [
        {
          "output_type": "stream",
          "name": "stdout",
          "text": [
            "Tamaño de las variables de entrada y salida sin partición (X & y)\n",
            "(690, 14) (690,)\n",
            "\n",
            "------Partición del Ejercicio 1:------\n",
            "Tamaño de los valores de entrenamiento (Xtrain & Ytrain)\n",
            "(586, 14) (586,)\n",
            "Tamaño de los valores de prueba (Xtest & Ytest)\n",
            "(104, 14) (104,)\n",
            "\n",
            "------Partición actual:------\n",
            "Tamaño de los valores de entrenamiento actuales (Xtrain2 & Ytrain2)\n",
            "(410, 14) (410,)\n",
            "Tamaño de los valores de validación (Xval & Yval)\n",
            "(176, 14) (176,)\n"
          ]
        }
      ]
    },
    {
      "cell_type": "markdown",
      "source": [
        "Doku:\n",
        "\n",
        "A dummy classifier is a type of classifier which does not generate any insight about the data and classifies the given data using only simple rules. The classifier’s behavior is completely independent of the training data as the trends in the training data are completely ignored and instead uses one of the strategies to predict the class label.\n",
        "\n",
        "It is used only as a simple baseline for the other classifiers i.e. any other classifier is expected to perform better on the given dataset. It is especially useful for datasets where are sure of a class imbalance. It is based on the philosophy that any analytic approach for a classification problem should be better than a random guessing approach.\n",
        "\n",
        "Below are a few strategies used by the dummy classifier to predict a class label –\n",
        "\n",
        "\n",
        "***Stratified:*** It generates predictions by respecting the class distribution of the training data. It is different from the “most frequent” strategy as it instead associates a probability with each data point of being the most frequent class label.s."
      ],
      "metadata": {
        "id": "s6iP4Ll3kfUb"
      }
    },
    {
      "cell_type": "code",
      "source": [
        "dummy_clf = DummyClassifier(strategy=\"most_frequent\")\n",
        "dummy_clf.fit(Xtrain, Ytrain)             #Datos de entrenamiento y validación del ejercicio 1  *************?????????????????\n",
        "\n",
        "print(\"Accuracy from Dummy Classifier (Baseline):\\n\")\n",
        "dummy_clf.score(Xtest, Ytest)             #Valores de partida (baseline)\n"
      ],
      "metadata": {
        "colab": {
          "base_uri": "https://localhost:8080/"
        },
        "id": "pZ2gbc8Sgunm",
        "outputId": "2f8d21ae-81e8-4326-9d89-f8409aa91346"
      },
      "execution_count": null,
      "outputs": [
        {
          "output_type": "stream",
          "name": "stdout",
          "text": [
            "Accuracy from Dummy Classifier (Baseline):\n",
            "\n"
          ]
        },
        {
          "output_type": "execute_result",
          "data": {
            "text/plain": [
              "0.5576923076923077"
            ]
          },
          "metadata": {},
          "execution_count": 28
        }
      ]
    },
    {
      "cell_type": "markdown",
      "source": [
        "El clasificador Dummy es la base para nuestros siguientes modelos, es decir no podemos tener scores menores al dummy ya que este modelo hace predicciones de manera muy sencilla.\n",
        "Es v'alido usar la estrategia \"stratified\" dado que respeta la distribuci'on de las clases de nuestro target y no hace predicciones de manera aleatoria."
      ],
      "metadata": {
        "id": "5qfmfrtDyTSj"
      }
    },
    {
      "cell_type": "code",
      "source": [
        "def get_models():\n",
        "  \n",
        "  modelos = list()\n",
        "  nombres = list()\n",
        "\n",
        "  modelos.append(LogisticRegression(solver='liblinear'))\n",
        "  nombres.append('LR')\n",
        "\n",
        "  modelos.append(DecisionTreeClassifier())\n",
        "  nombres.append('DT')\n",
        "  \n",
        "  modelos.append(RandomForestClassifier())\n",
        "  nombres.append('RF')\n",
        "  \n",
        "  return modelos, nombres"
      ],
      "metadata": {
        "id": "AZ_Uu5VstgR5"
      },
      "execution_count": null,
      "outputs": []
    },
    {
      "cell_type": "code",
      "source": [
        "modelos, nombres = get_models()\n",
        "resultados = list()\n",
        "\n",
        "for i in range(len(modelos)):\n",
        "\n",
        "  kfold = RepeatedStratifiedKFold(n_splits=5, n_repeats=3)\n",
        "  pipeline = Pipeline(steps=[('ct',cols_Transformer),('m',modelos[i])])\n",
        "\n",
        "  mismetricas = {\n",
        "      \"accuracy\": make_scorer(accuracyFunction),\n",
        "      \"precision\": make_scorer(precisionFunction),\n",
        "      \"recall\": make_scorer(recallFunction),\n",
        "      \"f1score\": make_scorer(f1Function),\n",
        "      \"gmean\": make_scorer(gmeanFunction)\n",
        "  }\n",
        "\n",
        "  resultadosOU = cross_validate(pipeline, Xtrain, Ytrain, scoring=mismetricas, cv=kfold, return_train_score=True)\n",
        "  resultados.append(resultadosOU)\n",
        "\n",
        "  print(\"\\nEntrenamiento:\") \n",
        "  print('\\n%s:\\nmean Accuracy: %.3f (%.4f)\\nmean Precision: %.3f (%.4f)\\nmean Recall: %.3f (%.4f)\\nmean F1score: %.3f (%.4f)\\nGmean: %.3f (%.4f)\\n' % (nombres[i], \n",
        "                                                                          np.mean(resultadosOU['train_accuracy']), \n",
        "                                                                          np.std(resultadosOU['train_accuracy']),  \n",
        "                                                                          np.mean(resultadosOU['train_precision']), \n",
        "                                                                          np.std(resultadosOU['train_precision']), \n",
        "                                                                          np.mean(resultadosOU['train_recall']), \n",
        "                                                                          np.std(resultadosOU['train_recall']),\n",
        "                                                                          np.mean(resultadosOU['train_f1score']), \n",
        "                                                                          np.std(resultadosOU['train_f1score']), \n",
        "                                                                          np.mean(resultadosOU['train_gmean']), \n",
        "                                                                          np.std(resultadosOU['train_gmean']) ))\n",
        "  print(\"\\nPrueba:\") \n",
        "  print('\\n%s:\\nmean Accuracy: %.3f (%.4f)\\nmean Precision: %.3f (%.4f)\\nmean Recall: %.3f (%.4f)\\nmean F1score: %.3f (%.4f)\\nGmean: %.3f (%.4f)\\n' % (nombres[i],\n",
        "                                                                          np.mean(resultadosOU['test_accuracy']), \n",
        "                                                                          np.std(resultadosOU['test_accuracy']), \n",
        "                                                                          np.mean(resultadosOU['test_precision']),\n",
        "                                                                          np.std(resultadosOU['test_precision']), \n",
        "                                                                          np.mean(resultadosOU['test_recall']),\n",
        "                                                                          np.std(resultadosOU['test_recall']),\n",
        "                                                                          np.mean(resultadosOU['test_f1score']),\n",
        "                                                                          np.std(resultadosOU['test_f1score']),\n",
        "                                                                          np.mean(resultadosOU['test_gmean']),\n",
        "                                                                          np.std(resultadosOU['test_gmean']) ))"
      ],
      "metadata": {
        "colab": {
          "base_uri": "https://localhost:8080/"
        },
        "id": "yGbDupGPuVCp",
        "outputId": "ff19a217-51e3-46f5-fd8b-48a213ea6412"
      },
      "execution_count": null,
      "outputs": [
        {
          "output_type": "stream",
          "name": "stdout",
          "text": [
            "\n",
            "Entrenamiento:\n",
            "\n",
            "LR:\n",
            "mean Accuracy: 0.881 (0.0105)\n",
            "mean Precision: 0.835 (0.0149)\n",
            "mean Recall: 0.912 (0.0089)\n",
            "mean F1score: 0.872 (0.0107)\n",
            "Gmean: 0.883 (0.0102)\n",
            "\n",
            "\n",
            "Prueba:\n",
            "\n",
            "LR:\n",
            "mean Accuracy: 0.856 (0.0388)\n",
            "mean Precision: 0.817 (0.0546)\n",
            "mean Recall: 0.877 (0.0456)\n",
            "mean F1score: 0.845 (0.0405)\n",
            "Gmean: 0.857 (0.0381)\n",
            "\n",
            "\n",
            "Entrenamiento:\n",
            "\n",
            "DT:\n",
            "mean Accuracy: 1.000 (0.0000)\n",
            "mean Precision: 1.000 (0.0000)\n",
            "mean Recall: 1.000 (0.0000)\n",
            "mean F1score: 1.000 (0.0000)\n",
            "Gmean: 1.000 (0.0000)\n",
            "\n",
            "\n",
            "Prueba:\n",
            "\n",
            "DT:\n",
            "mean Accuracy: 0.811 (0.0385)\n",
            "mean Precision: 0.785 (0.0489)\n",
            "mean Recall: 0.798 (0.0710)\n",
            "mean F1score: 0.789 (0.0446)\n",
            "Gmean: 0.809 (0.0400)\n",
            "\n",
            "\n",
            "Entrenamiento:\n",
            "\n",
            "RF:\n",
            "mean Accuracy: 1.000 (0.0000)\n",
            "mean Precision: 1.000 (0.0000)\n",
            "mean Recall: 1.000 (0.0000)\n",
            "mean F1score: 1.000 (0.0000)\n",
            "Gmean: 1.000 (0.0000)\n",
            "\n",
            "\n",
            "Prueba:\n",
            "\n",
            "RF:\n",
            "mean Accuracy: 0.875 (0.0326)\n",
            "mean Precision: 0.858 (0.0513)\n",
            "mean Recall: 0.866 (0.0453)\n",
            "mean F1score: 0.861 (0.0344)\n",
            "Gmean: 0.873 (0.0320)\n",
            "\n"
          ]
        }
      ]
    },
    {
      "cell_type": "markdown",
      "source": [
        "Las métricas de los anteriores modelos es obviamente mucho mejor que la del modelo base (Baseline) de 0.55."
      ],
      "metadata": {
        "id": "xC50rA_Sxuum"
      }
    },
    {
      "cell_type": "markdown",
      "source": [
        "#**Ejercicio-4.**"
      ],
      "metadata": {
        "id": "chqk9jIDC5Pq"
      }
    },
    {
      "cell_type": "code",
      "source": [
        "# OBTENEMOS LOS PARÁMETROS\n",
        "\n",
        "#from sklearn import svm\n",
        "svm_clasification = svm.SVC()\n",
        "svm_clasification.get_params()"
      ],
      "metadata": {
        "id": "RBVSFwK4C6g9",
        "colab": {
          "base_uri": "https://localhost:8080/"
        },
        "outputId": "71c22498-829e-4d6a-9db0-eb2c58c1edf2"
      },
      "execution_count": null,
      "outputs": [
        {
          "output_type": "execute_result",
          "data": {
            "text/plain": [
              "{'C': 1.0,\n",
              " 'break_ties': False,\n",
              " 'cache_size': 200,\n",
              " 'class_weight': None,\n",
              " 'coef0': 0.0,\n",
              " 'decision_function_shape': 'ovr',\n",
              " 'degree': 3,\n",
              " 'gamma': 'scale',\n",
              " 'kernel': 'rbf',\n",
              " 'max_iter': -1,\n",
              " 'probability': False,\n",
              " 'random_state': None,\n",
              " 'shrinking': True,\n",
              " 'tol': 0.001,\n",
              " 'verbose': False}"
            ]
          },
          "metadata": {},
          "execution_count": 31
        }
      ]
    },
    {
      "cell_type": "markdown",
      "source": [
        "SVM_params = [{'C': [0.1, 1, 10, 100, 1000],\n",
        "               'decision_function_shape': ['ovo', 'ovr'],\n",
        "               'degree': [1,2,3,4],\n",
        "               'gamma': [1, 0.1, 0.01, 0.001, 0.0001],\n",
        "               'kernel': ['rbf', 'poly', 'sigmoid', 'linear'],}]"
      ],
      "metadata": {
        "id": "lTKZjfXKCFWG"
      }
    },
    {
      "cell_type": "code",
      "source": [
        "# OBTENEMOS EL MODELO\n",
        "SVM = svm.SVC()\n",
        "SVM_pipe = Pipeline(steps=[(\"PreparaInfo\", cols_Transformer),(\"model\", SVM)])\n",
        "SVM_kfold= RepeatedStratifiedKFold(n_splits=5, n_repeats=3, random_state=7)\n",
        "\n",
        "\n",
        "# ELEGIMOS PARÁMETROS\n",
        "SVM_params = [{'model__C': [0.1, 1, 10, 100, 1000],\n",
        "               'model__gamma': [1, 0.1, 0.01, 0.001, 0.0001],\n",
        "               'model__kernel': ['rbf', 'sigmoid']}]\n",
        "\n",
        "\n",
        "# BÚSQUEDA POR GRID\n",
        "SVM_bestParams = {}\n",
        "\n",
        "for key, metrica in mismetricas.items():\n",
        "  SVM_grid = GridSearchCV(n_jobs = -1,\n",
        "                        estimator =  SVM_pipe, \n",
        "                        param_grid = SVM_params,\n",
        "                        scoring = metrica,\n",
        "                        cv = SVM_kfold)\n",
        "  \n",
        "  SVM_grid.fit(Xtrain, Ytrain)\n",
        "  SVM_bestScore = SVM_grid.best_score_\n",
        "  SVM_bestParam = SVM_grid.best_params_\n",
        "  SVM_bestParams[metrica] = SVM_grid.best_params_\n",
        "  print('\\nMétrica: {0} '.format(key))\n",
        "  print('El mejor puntaje (score) es:',SVM_bestScore)\n",
        "  print('Los mejores parámetros son:',SVM_bestParam )"
      ],
      "metadata": {
        "id": "7KXnlNzAC69Y",
        "colab": {
          "base_uri": "https://localhost:8080/"
        },
        "outputId": "1c7ffa75-c8b9-4fbe-b33f-d35f13f6ee53"
      },
      "execution_count": null,
      "outputs": [
        {
          "output_type": "stream",
          "name": "stdout",
          "text": [
            "\n",
            "Métrica: accuracy \n",
            "El mejor puntaje (score) es: 0.8560915535258554\n",
            "Los mejores parámetros son: {'model__C': 10, 'model__gamma': 0.1, 'model__kernel': 'rbf'}\n",
            "\n",
            "Métrica: precision \n",
            "El mejor puntaje (score) es: 0.9697394970255613\n",
            "Los mejores parámetros son: {'model__C': 1, 'model__gamma': 0.001, 'model__kernel': 'rbf'}\n",
            "\n",
            "Métrica: recall \n",
            "El mejor puntaje (score) es: 0.9348572789486556\n",
            "Los mejores parámetros son: {'model__C': 1, 'model__gamma': 0.1, 'model__kernel': 'sigmoid'}\n",
            "\n",
            "Métrica: f1score \n",
            "El mejor puntaje (score) es: 0.8481908929581273\n",
            "Los mejores parámetros son: {'model__C': 0.1, 'model__gamma': 0.1, 'model__kernel': 'rbf'}\n",
            "\n",
            "Métrica: gmean \n",
            "El mejor puntaje (score) es: 0.8556264527202216\n",
            "Los mejores parámetros son: {'model__C': 10, 'model__gamma': 0.1, 'model__kernel': 'rbf'}\n"
          ]
        }
      ]
    },
    {
      "cell_type": "markdown",
      "source": [
        "#**Ejercicio-5.**"
      ],
      "metadata": {
        "id": "Rv7KFq-mC7PS"
      }
    },
    {
      "cell_type": "code",
      "source": [
        "# MEJORES PARÁMETROS PARA CADA MÉTRICA\n",
        "diccionario = dict()\n",
        "j=0\n",
        "\n",
        "for i in SVM_bestParams.keys():\n",
        "  SVC_final = svm.SVC(C=SVM_bestParams[i]['model__C'], gamma=SVM_bestParams[i]['model__gamma'], kernel=SVM_bestParams[i]['model__kernel'])\n",
        "  SVM_pipeF = Pipeline(steps=[(\"PreparaInfo\", cols_Transformer),(\"modelo\", SVC_final)])\n",
        "  SVM_kfoldF= RepeatedStratifiedKFold(n_splits=5, n_repeats=3, random_state=7)\n",
        "  SVM_score = cross_validate(SVM_pipeF, Xtrain, Ytrain, scoring=i, cv=SVM_kfoldF, return_train_score=True)\n",
        "  diccionario[i] = SVM_score\n"
      ],
      "metadata": {
        "id": "aMWBFJW--9a4"
      },
      "execution_count": null,
      "outputs": []
    },
    {
      "cell_type": "code",
      "source": [
        "# SE OBTIENEN LOS NOMBRES DE LAS MÉTRICAS\n",
        "listaNames = list()\n",
        "\n",
        "for i in mismetricas.keys():\n",
        "  listaNames.append(i)"
      ],
      "metadata": {
        "id": "nDStBFDLE_6o"
      },
      "execution_count": null,
      "outputs": []
    },
    {
      "cell_type": "code",
      "source": [
        "# BOXPLOT PARA CADA MÉTRICA\n",
        "dataList = list()\n",
        "sns.set(rc={'figure.figsize':(10,7)})\n",
        "for i in diccionario.keys():\n",
        "  data = diccionario[i]['test_score']\n",
        "  dataList.append(data)\n",
        "\n",
        "plt.boxplot(dataList, labels = listaNames, showmeans=True)\n",
        "plt.show"
      ],
      "metadata": {
        "id": "p6qhzYI89yxg",
        "outputId": "0007488c-df05-4081-a7fb-ddf6e91537d1",
        "colab": {
          "base_uri": "https://localhost:8080/",
          "height": 448
        }
      },
      "execution_count": null,
      "outputs": [
        {
          "output_type": "execute_result",
          "data": {
            "text/plain": [
              "<function matplotlib.pyplot.show(*args, **kw)>"
            ]
          },
          "metadata": {},
          "execution_count": 61
        },
        {
          "output_type": "display_data",
          "data": {
            "text/plain": [
              "<Figure size 720x504 with 1 Axes>"
            ],
            "image/png": "[encoded data removed]"
          },
          "metadata": {}
        }
      ]
    },
    {
      "cell_type": "code",
      "source": [
        "# MEJORES PARÁMETROS\n",
        "SVM_final = svm.SVC(C=1, gamma=0.001, kernel='rbf')\n",
        "SVM_pipe = Pipeline(steps=[(\"PreparaInfo\", cols_Transformer),(\"model\", SVM_final)])\n",
        "SVM_score = cross_validate(SVM_pipe, Xtrain, Ytrain, scoring=make_scorer(precisionFunction), cv=SVM_kfold, return_train_score=True)\n",
        "\n",
        "# DIAGRAMA DE CAJAS Y BIGOTES\n",
        "sns.set(rc={'figure.figsize':(10,7)})\n",
        "SVM_df = pd.DataFrame(SVM_score)\n",
        "SVM_df.boxplot()"
      ],
      "metadata": {
        "id": "jaDj3kawC9B6",
        "colab": {
          "base_uri": "https://localhost:8080/",
          "height": 449
        },
        "outputId": "079c40c1-8d6b-404e-d1ea-6c188acf58c7"
      },
      "execution_count": null,
      "outputs": [
        {
          "output_type": "execute_result",
          "data": {
            "text/plain": [
              "<matplotlib.axes._subplots.AxesSubplot at 0x7fd0ea24e890>"
            ]
          },
          "metadata": {},
          "execution_count": 38
        },
        {
          "output_type": "display_data",
          "data": {
            "text/plain": [
              "<Figure size 720x504 with 1 Axes>"
            ],
            "image/png": "[encoded data removed]"
          },
          "metadata": {}
        }
      ]
    },
    {
      "cell_type": "markdown",
      "source": [
        "#**Ejercicio-6.**"
      ],
      "metadata": {
        "id": "W2S7LI0NC9wE"
      }
    },
    {
      "cell_type": "code",
      "source": [
        "def mi_LearningCurvePlot(train_sizes, train_scores, val_scores):\n",
        "    train_mean = np.mean(train_scores, axis=1)\n",
        "    train_std = np.std(train_scores, axis=1)\n",
        "    val_mean = np.mean(val_scores, axis=1)\n",
        "    val_std = np.std(val_scores, axis=1)\n",
        "\n",
        "    plt.figure(figsize=(7,6))\n",
        "    plt.plot(train_sizes, train_mean, color='blue', marker='o', markersize=5, label='Training')\n",
        "    plt.fill_between(train_sizes, train_mean + train_std, train_mean - train_std, alpha=0.1, color='blue')\n",
        "    \n",
        "    plt.plot(train_sizes, val_mean, color='red', marker='+', markersize=5, linestyle='--', label='Validation')\n",
        "    plt.fill_between(train_sizes, val_mean + val_std, val_mean - val_std, alpha=0.1, color='red')\n",
        "    \n",
        "    plt.title('Curvas de Aprendizaje incrementando el tamaño de la muestra')\n",
        "    plt.xlabel('Tamaño del conjunto de entrenamiento')\n",
        "    plt.ylabel('Scoring')\n",
        "    plt.grid()\n",
        "    plt.legend(loc='lower left')\n",
        "    plt.show()"
      ],
      "metadata": {
        "id": "x6uBleJUC_AU"
      },
      "execution_count": 2,
      "outputs": []
    },
    {
      "cell_type": "code",
      "source": [
        "def mi_ModeloYCurvas(Xin):\n",
        "\n",
        "       modelo = svm.SVC()\n",
        "       \n",
        "       MODELS_pipe = Pipeline(steps=[(\"PreparaInfo\", cols_Transformer),(\"model\", modelo)])\n",
        "       kfold = RepeatedStratifiedKFold(n_splits=5, n_repeats=3, random_state=7)\n",
        "\n",
        "       delta_train_sz = np.linspace(0.1, 1.0, 20)\n",
        "\n",
        "       tr_sizes, tr_scores, val_scores = learning_curve(n_jobs = -1,\n",
        "                                                        estimator = MODELS_pipe ,    \n",
        "                                                        X = Xin,\n",
        "                                                        y = Ytrain.values.ravel(),\n",
        "                                                        cv = kfold,\n",
        "                                                        train_sizes = delta_train_sz)\n",
        "       \n",
        "       mi_LearningCurvePlot(tr_sizes, tr_scores, val_scores)"
      ],
      "metadata": {
        "id": "n0P_AcyjC_Dh"
      },
      "execution_count": 5,
      "outputs": []
    },
    {
      "cell_type": "code",
      "source": [
        "# MODELO DE DUMMY CLASSIFIER\n",
        "\n",
        "print('Curvas de aprendizaje del modelo SVC:')\n",
        "mi_ModeloYCurvas(Xtrain)"
      ],
      "metadata": {
        "id": "EG2B_klv2Xki",
        "outputId": "c1360ca5-c4a5-4958-ed8c-396e396ed0ed",
        "colab": {
          "base_uri": "https://localhost:8080/",
          "height": 421
        }
      },
      "execution_count": 23,
      "outputs": [
        {
          "output_type": "stream",
          "name": "stdout",
          "text": [
            "Curvas de aprendizaje del modelo SVC:\n"
          ]
        },
        {
          "output_type": "display_data",
          "data": {
            "text/plain": [
              "<Figure size 504x432 with 1 Axes>"
            ],
            "image/png": "[encoded data removed]"
          },
          "metadata": {
            "needs_background": "light"
          }
        }
      ]
    },
    {
      "cell_type": "markdown",
      "source": [
        "#**Ejercicio-7.**"
      ],
      "metadata": {
        "id": "iCNGx4TQ8CFI"
      }
    },
    {
      "cell_type": "code",
      "source": [
        "None"
      ],
      "metadata": {
        "id": "ewvwUcJX78y1"
      },
      "execution_count": null,
      "outputs": []
    },
    {
      "cell_type": "code",
      "source": [],
      "metadata": {
        "id": "F1aW0dQX8BLL"
      },
      "execution_count": null,
      "outputs": []
    },
    {
      "cell_type": "markdown",
      "source": [
        "#**Ejercicio-8.**"
      ],
      "metadata": {
        "id": "tzQn5NR78GFg"
      }
    },
    {
      "cell_type": "code",
      "source": [
        "None"
      ],
      "metadata": {
        "id": "EBKcp0278IQV"
      },
      "execution_count": null,
      "outputs": []
    },
    {
      "cell_type": "code",
      "source": [],
      "metadata": {
        "id": "vp8S0PFs8IMR"
      },
      "execution_count": null,
      "outputs": []
    },
    {
      "cell_type": "markdown",
      "source": [
        "#**Ejercicio-9.**"
      ],
      "metadata": {
        "id": "mASNrZWs8JTh"
      }
    },
    {
      "cell_type": "code",
      "source": [
        "None"
      ],
      "metadata": {
        "id": "X6HJP9hb8LCp"
      },
      "execution_count": null,
      "outputs": []
    },
    {
      "cell_type": "code",
      "source": [],
      "metadata": {
        "id": "Xr6oe1VF8K_A"
      },
      "execution_count": null,
      "outputs": []
    },
    {
      "cell_type": "markdown",
      "source": [
        "#**Ejercicio-10.**"
      ],
      "metadata": {
        "id": "VUIcDshs8MzG"
      }
    },
    {
      "cell_type": "code",
      "source": [
        "None"
      ],
      "metadata": {
        "id": "0lKNJNIt8N88"
      },
      "execution_count": null,
      "outputs": []
    },
    {
      "cell_type": "code",
      "source": [],
      "metadata": {
        "id": "Inkq5YQe8PED"
      },
      "execution_count": null,
      "outputs": []
    },
    {
      "cell_type": "markdown",
      "source": [
        "###**Fin de la Actividad de la semana 8.**"
      ],
      "metadata": {
        "id": "7ql_r2G-DB_m"
      }
    }
  ]
}