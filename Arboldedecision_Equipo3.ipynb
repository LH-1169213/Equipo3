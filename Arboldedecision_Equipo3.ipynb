{
  "nbformat": 4,
  "nbformat_minor": 0,
  "metadata": {
    "colab": {
      "provenance": [],
      "collapsed_sections": [],
      "include_colab_link": true
    },
    "kernelspec": {
      "display_name": "Python 3",
      "name": "python3"
    }
  },
  "cells": [
    {
      "cell_type": "markdown",
      "metadata": {
        "id": "view-in-github",
        "colab_type": "text"
      },
      "source": [
        "<a href=\"https://colab.research.google.com/github/LH-1169213/Equipo3/blob/main/Arboldedecision_Equipo3.ipynb\" target=\"_parent\"><img src=\"https://colab.research.google.com/assets/colab-badge.svg\" alt=\"Open In Colab\"/></a>"
      ]
    },
    {
      "cell_type": "markdown",
      "source": [
        "#**Maestría en Inteligencia Artificial Aplicada**\n",
        "##**Curso: Inteligencia Artificial y Aprendizaje Automático**\n",
        "###Tecnológico de Monterrey\n",
        "###Prof Luis Eduardo Falcón Morales\n",
        "\n",
        "## **Adtividad de la Semana 6**\n",
        "###**Árboles de decisión y bosque aleatorio.**\n"
      ],
      "metadata": {
        "id": "VFj0sSM06dYa"
      }
    },
    {
      "cell_type": "markdown",
      "source": [
        "**Nombres y matrículas de los integrantes del equipo:**\n",
        "\n",
        "*   Samara García González A01273001\n",
        "\n",
        "*   Laura Elena Hernández Mata A01169213\n",
        "*   Evelyn Aylin Rendon Medina A01748750\n",
        "\n",
        "*   Emmanuel González Calitl A01320739\n",
        "*   \n"
      ],
      "metadata": {
        "id": "Qgrvy0RGB9XI"
      }
    },
    {
      "cell_type": "markdown",
      "source": [
        "En cada sección deberás incluir todas las líneas de código necesarias para responder a cada uno de los ejercicios."
      ],
      "metadata": {
        "id": "FrJ2ahMODVj1"
      }
    },
    {
      "cell_type": "code",
      "source": [
        "# Incluye aquí todos módulos, librerías y paquetes que requieras.\n",
        "import pandas as pd\n",
        "import numpy as np\n",
        "import matplotlib.pyplot as plt #borrar si no se usa\n",
        "import seaborn as sns #borrar si no se usa\n",
        "\n",
        "from sklearn.pipeline import Pipeline\n",
        "from sklearn.model_selection import KFold\n",
        "from sklearn.compose import ColumnTransformer\n",
        "from sklearn.preprocessing import power_transform\n",
        "from sklearn.preprocessing import FunctionTransformer\n",
        "\n",
        "\n",
        "from sklearn.impute import SimpleImputer\n",
        "from sklearn.preprocessing import MinMaxScaler  \n",
        "from sklearn.linear_model import LogisticRegression\n",
        "\n",
        "from sklearn.model_selection import train_test_split # Xtv, Xtest, ytv, ytest = train_test_split(X, y, test_size=0.15, random_state=0)\n",
        "from sklearn.preprocessing import StandardScaler   #borrar si no se usa\n",
        "from sklearn.model_selection import RepeatedStratifiedKFold\n",
        "from sklearn.model_selection import learning_curve, validation_curve\n",
        "from sklearn.model_selection import  cross_validate\n",
        "\n",
        "from sklearn.preprocessing import OneHotEncoder\n",
        "from sklearn.tree import DecisionTreeClassifier\n",
        "from sklearn.ensemble import RandomForestClassifier\n",
        "from sklearn.model_selection import cross_val_score\n",
        "\n",
        "from sklearn.metrics import recall_score #SÓLO PARA VALIDACIÓN\n",
        "from sklearn.metrics import f1_score #SÓLO PARA VALIDACIÓN\n",
        "from sklearn.metrics import make_scorer #SÓLO PARA VALIDACIÓN\n",
        "from imblearn.metrics import geometric_mean_score #SÓLO PARA VALIDACIÓN\n",
        "from sklearn.metrics import confusion_matrix #SÓLO PARA VALIDACIÓN\n",
        "\n",
        "from sklearn import svm, datasets #borrar si no se usa\n",
        "from sklearn.model_selection import GridSearchCV\n"
      ],
      "metadata": {
        "id": "exXsscs-Dh-2"
      },
      "execution_count": 1,
      "outputs": []
    },
    {
      "cell_type": "markdown",
      "metadata": {
        "id": "X25brD-gQdZM"
      },
      "source": [
        "#**Ejercicio-1.** "
      ]
    },
    {
      "cell_type": "markdown",
      "source": [
        "## Carga los datos"
      ],
      "metadata": {
        "id": "AhW8T977Jgsc"
      }
    },
    {
      "cell_type": "code",
      "source": [
        "#OBTENIENDO DATASET\n",
        "DataOriginal = pd.read_csv(\"https://raw.githubusercontent.com/LH-1169213/Equipo3/main/SouthGermanCredit.asc\",sep = \" \")\n",
        "DataOriginal.head()"
      ],
      "metadata": {
        "colab": {
          "base_uri": "https://localhost:8080/",
          "height": 299
        },
        "id": "6ehBfL1RLSeB",
        "outputId": "58aa3326-aa44-4c39-e56c-5e54749de14b"
      },
      "execution_count": 2,
      "outputs": [
        {
          "output_type": "execute_result",
          "data": {
            "text/plain": [
              "   laufkont  laufzeit  moral  verw  hoehe  sparkont  beszeit  rate  famges  \\\n",
              "0         1        18      4     2   1049         1        2     4       2   \n",
              "1         1         9      4     0   2799         1        3     2       3   \n",
              "2         2        12      2     9    841         2        4     2       2   \n",
              "3         1        12      4     0   2122         1        3     3       3   \n",
              "4         1        12      4     0   2171         1        3     4       3   \n",
              "\n",
              "   buerge  ...  verm  alter  weitkred  wohn  bishkred  beruf  pers  telef  \\\n",
              "0       1  ...     2     21         3     1         1      3     2      1   \n",
              "1       1  ...     1     36         3     1         2      3     1      1   \n",
              "2       1  ...     1     23         3     1         1      2     2      1   \n",
              "3       1  ...     1     39         3     1         2      2     1      1   \n",
              "4       1  ...     2     38         1     2         2      2     2      1   \n",
              "\n",
              "   gastarb  kredit  \n",
              "0        2       1  \n",
              "1        2       1  \n",
              "2        2       1  \n",
              "3        1       1  \n",
              "4        1       1  \n",
              "\n",
              "[5 rows x 21 columns]"
            ],
            "text/html": [
              "\n",
              "  <div id=\"df-936412c0-5a73-427b-acc3-85a63b3718df\">\n",
              "    <div class=\"colab-df-container\">\n",
              "      <div>\n",
              "<style scoped>\n",
              "    .dataframe tbody tr th:only-of-type {\n",
              "        vertical-align: middle;\n",
              "    }\n",
              "\n",
              "    .dataframe tbody tr th {\n",
              "        vertical-align: top;\n",
              "    }\n",
              "\n",
              "    .dataframe thead th {\n",
              "        text-align: right;\n",
              "    }\n",
              "</style>\n",
              "<table border=\"1\" class=\"dataframe\">\n",
              "  <thead>\n",
              "    <tr style=\"text-align: right;\">\n",
              "      <th></th>\n",
              "      <th>laufkont</th>\n",
              "      <th>laufzeit</th>\n",
              "      <th>moral</th>\n",
              "      <th>verw</th>\n",
              "      <th>hoehe</th>\n",
              "      <th>sparkont</th>\n",
              "      <th>beszeit</th>\n",
              "      <th>rate</th>\n",
              "      <th>famges</th>\n",
              "      <th>buerge</th>\n",
              "      <th>...</th>\n",
              "      <th>verm</th>\n",
              "      <th>alter</th>\n",
              "      <th>weitkred</th>\n",
              "      <th>wohn</th>\n",
              "      <th>bishkred</th>\n",
              "      <th>beruf</th>\n",
              "      <th>pers</th>\n",
              "      <th>telef</th>\n",
              "      <th>gastarb</th>\n",
              "      <th>kredit</th>\n",
              "    </tr>\n",
              "  </thead>\n",
              "  <tbody>\n",
              "    <tr>\n",
              "      <th>0</th>\n",
              "      <td>1</td>\n",
              "      <td>18</td>\n",
              "      <td>4</td>\n",
              "      <td>2</td>\n",
              "      <td>1049</td>\n",
              "      <td>1</td>\n",
              "      <td>2</td>\n",
              "      <td>4</td>\n",
              "      <td>2</td>\n",
              "      <td>1</td>\n",
              "      <td>...</td>\n",
              "      <td>2</td>\n",
              "      <td>21</td>\n",
              "      <td>3</td>\n",
              "      <td>1</td>\n",
              "      <td>1</td>\n",
              "      <td>3</td>\n",
              "      <td>2</td>\n",
              "      <td>1</td>\n",
              "      <td>2</td>\n",
              "      <td>1</td>\n",
              "    </tr>\n",
              "    <tr>\n",
              "      <th>1</th>\n",
              "      <td>1</td>\n",
              "      <td>9</td>\n",
              "      <td>4</td>\n",
              "      <td>0</td>\n",
              "      <td>2799</td>\n",
              "      <td>1</td>\n",
              "      <td>3</td>\n",
              "      <td>2</td>\n",
              "      <td>3</td>\n",
              "      <td>1</td>\n",
              "      <td>...</td>\n",
              "      <td>1</td>\n",
              "      <td>36</td>\n",
              "      <td>3</td>\n",
              "      <td>1</td>\n",
              "      <td>2</td>\n",
              "      <td>3</td>\n",
              "      <td>1</td>\n",
              "      <td>1</td>\n",
              "      <td>2</td>\n",
              "      <td>1</td>\n",
              "    </tr>\n",
              "    <tr>\n",
              "      <th>2</th>\n",
              "      <td>2</td>\n",
              "      <td>12</td>\n",
              "      <td>2</td>\n",
              "      <td>9</td>\n",
              "      <td>841</td>\n",
              "      <td>2</td>\n",
              "      <td>4</td>\n",
              "      <td>2</td>\n",
              "      <td>2</td>\n",
              "      <td>1</td>\n",
              "      <td>...</td>\n",
              "      <td>1</td>\n",
              "      <td>23</td>\n",
              "      <td>3</td>\n",
              "      <td>1</td>\n",
              "      <td>1</td>\n",
              "      <td>2</td>\n",
              "      <td>2</td>\n",
              "      <td>1</td>\n",
              "      <td>2</td>\n",
              "      <td>1</td>\n",
              "    </tr>\n",
              "    <tr>\n",
              "      <th>3</th>\n",
              "      <td>1</td>\n",
              "      <td>12</td>\n",
              "      <td>4</td>\n",
              "      <td>0</td>\n",
              "      <td>2122</td>\n",
              "      <td>1</td>\n",
              "      <td>3</td>\n",
              "      <td>3</td>\n",
              "      <td>3</td>\n",
              "      <td>1</td>\n",
              "      <td>...</td>\n",
              "      <td>1</td>\n",
              "      <td>39</td>\n",
              "      <td>3</td>\n",
              "      <td>1</td>\n",
              "      <td>2</td>\n",
              "      <td>2</td>\n",
              "      <td>1</td>\n",
              "      <td>1</td>\n",
              "      <td>1</td>\n",
              "      <td>1</td>\n",
              "    </tr>\n",
              "    <tr>\n",
              "      <th>4</th>\n",
              "      <td>1</td>\n",
              "      <td>12</td>\n",
              "      <td>4</td>\n",
              "      <td>0</td>\n",
              "      <td>2171</td>\n",
              "      <td>1</td>\n",
              "      <td>3</td>\n",
              "      <td>4</td>\n",
              "      <td>3</td>\n",
              "      <td>1</td>\n",
              "      <td>...</td>\n",
              "      <td>2</td>\n",
              "      <td>38</td>\n",
              "      <td>1</td>\n",
              "      <td>2</td>\n",
              "      <td>2</td>\n",
              "      <td>2</td>\n",
              "      <td>2</td>\n",
              "      <td>1</td>\n",
              "      <td>1</td>\n",
              "      <td>1</td>\n",
              "    </tr>\n",
              "  </tbody>\n",
              "</table>\n",
              "<p>5 rows × 21 columns</p>\n",
              "</div>\n",
              "      <button class=\"colab-df-convert\" onclick=\"convertToInteractive('df-936412c0-5a73-427b-acc3-85a63b3718df')\"\n",
              "              title=\"Convert this dataframe to an interactive table.\"\n",
              "              style=\"display:none;\">\n",
              "        \n",
              "  <svg xmlns=\"http://www.w3.org/2000/svg\" height=\"24px\"viewBox=\"0 0 24 24\"\n",
              "       width=\"24px\">\n",
              "    <path d=\"M0 0h24v24H0V0z\" fill=\"none\"/>\n",
              "    <path d=\"M18.56 5.44l.94 2.06.94-2.06 2.06-.94-2.06-.94-.94-2.06-.94 2.06-2.06.94zm-11 1L8.5 8.5l.94-2.06 2.06-.94-2.06-.94L8.5 2.5l-.94 2.06-2.06.94zm10 10l.94 2.06.94-2.06 2.06-.94-2.06-.94-.94-2.06-.94 2.06-2.06.94z\"/><path d=\"M17.41 7.96l-1.37-1.37c-.4-.4-.92-.59-1.43-.59-.52 0-1.04.2-1.43.59L10.3 9.45l-7.72 7.72c-.78.78-.78 2.05 0 2.83L4 21.41c.39.39.9.59 1.41.59.51 0 1.02-.2 1.41-.59l7.78-7.78 2.81-2.81c.8-.78.8-2.07 0-2.86zM5.41 20L4 18.59l7.72-7.72 1.47 1.35L5.41 20z\"/>\n",
              "  </svg>\n",
              "      </button>\n",
              "      \n",
              "  <style>\n",
              "    .colab-df-container {\n",
              "      display:flex;\n",
              "      flex-wrap:wrap;\n",
              "      gap: 12px;\n",
              "    }\n",
              "\n",
              "    .colab-df-convert {\n",
              "      background-color: #E8F0FE;\n",
              "      border: none;\n",
              "      border-radius: 50%;\n",
              "      cursor: pointer;\n",
              "      display: none;\n",
              "      fill: #1967D2;\n",
              "      height: 32px;\n",
              "      padding: 0 0 0 0;\n",
              "      width: 32px;\n",
              "    }\n",
              "\n",
              "    .colab-df-convert:hover {\n",
              "      background-color: #E2EBFA;\n",
              "      box-shadow: 0px 1px 2px rgba(60, 64, 67, 0.3), 0px 1px 3px 1px rgba(60, 64, 67, 0.15);\n",
              "      fill: #174EA6;\n",
              "    }\n",
              "\n",
              "    [theme=dark] .colab-df-convert {\n",
              "      background-color: #3B4455;\n",
              "      fill: #D2E3FC;\n",
              "    }\n",
              "\n",
              "    [theme=dark] .colab-df-convert:hover {\n",
              "      background-color: #434B5C;\n",
              "      box-shadow: 0px 1px 3px 1px rgba(0, 0, 0, 0.15);\n",
              "      filter: drop-shadow(0px 1px 2px rgba(0, 0, 0, 0.3));\n",
              "      fill: #FFFFFF;\n",
              "    }\n",
              "  </style>\n",
              "\n",
              "      <script>\n",
              "        const buttonEl =\n",
              "          document.querySelector('#df-936412c0-5a73-427b-acc3-85a63b3718df button.colab-df-convert');\n",
              "        buttonEl.style.display =\n",
              "          google.colab.kernel.accessAllowed ? 'block' : 'none';\n",
              "\n",
              "        async function convertToInteractive(key) {\n",
              "          const element = document.querySelector('#df-936412c0-5a73-427b-acc3-85a63b3718df');\n",
              "          const dataTable =\n",
              "            await google.colab.kernel.invokeFunction('convertToInteractive',\n",
              "                                                     [key], {});\n",
              "          if (!dataTable) return;\n",
              "\n",
              "          const docLinkHtml = 'Like what you see? Visit the ' +\n",
              "            '<a target=\"_blank\" href=https://colab.research.google.com/notebooks/data_table.ipynb>data table notebook</a>'\n",
              "            + ' to learn more about interactive tables.';\n",
              "          element.innerHTML = '';\n",
              "          dataTable['output_type'] = 'display_data';\n",
              "          await google.colab.output.renderOutput(dataTable, element);\n",
              "          const docLink = document.createElement('div');\n",
              "          docLink.innerHTML = docLinkHtml;\n",
              "          element.appendChild(docLink);\n",
              "        }\n",
              "      </script>\n",
              "    </div>\n",
              "  </div>\n",
              "  "
            ]
          },
          "metadata": {},
          "execution_count": 2
        }
      ]
    },
    {
      "cell_type": "markdown",
      "source": [
        "## Sustituye los nombres de las columnas del alemán al inglés de acuerdo a como se indica en la página de la UCI."
      ],
      "metadata": {
        "id": "rA9eU3lRJnhx"
      }
    },
    {
      "cell_type": "code",
      "source": [
        "#HACEMOS UNA COPIA PARA CAMBIAR HEADERS\n",
        "df = DataOriginal\n",
        "df = df.rename(columns={\"laufkont\":\"status\",\n",
        "                        \"laufzeit\":\"duration\",\n",
        "                        \"moral\":\"credit_history\",\n",
        "                        \"verw\":\"purpose\",\n",
        "                        \"hoehe\":\"amount\",\n",
        "                        \"sparkont\":\"savings\",\n",
        "                        \"beszeit\":\"employment_duration\",\n",
        "                        \"rate\":\"installment_rate\",\n",
        "                        \"famges\":\"personal_status_sex\",\n",
        "                        \"buerge\":\"other_debtors\",\n",
        "                        \"wohnzeit\":\"present_residence\",\n",
        "                        \"verm\":\"property\",\n",
        "                        \"alter\":\"age\",\n",
        "                        \"weitkred\":\"other_installment_plans\",\n",
        "                        \"wohn\":\"housing\",\n",
        "                        \"bishkred\":\"number_credits\",\n",
        "                        \"beruf\":\"job\",\n",
        "                        \"pers\":\"people_liable\",\n",
        "                        \"telef\":\"telephone\",\n",
        "                        \"gastarb\":\"foreign_worker\",\n",
        "                        \"kredit\":\"credit_risk\"})\n",
        "df.head()"
      ],
      "metadata": {
        "colab": {
          "base_uri": "https://localhost:8080/",
          "height": 299
        },
        "id": "XdNVcG4KVQ91",
        "outputId": "09736ab8-caa5-4081-a775-18c830c692ab"
      },
      "execution_count": 3,
      "outputs": [
        {
          "output_type": "execute_result",
          "data": {
            "text/plain": [
              "   status  duration  credit_history  purpose  amount  savings  \\\n",
              "0       1        18               4        2    1049        1   \n",
              "1       1         9               4        0    2799        1   \n",
              "2       2        12               2        9     841        2   \n",
              "3       1        12               4        0    2122        1   \n",
              "4       1        12               4        0    2171        1   \n",
              "\n",
              "   employment_duration  installment_rate  personal_status_sex  other_debtors  \\\n",
              "0                    2                 4                    2              1   \n",
              "1                    3                 2                    3              1   \n",
              "2                    4                 2                    2              1   \n",
              "3                    3                 3                    3              1   \n",
              "4                    3                 4                    3              1   \n",
              "\n",
              "   ...  property  age  other_installment_plans  housing  number_credits  job  \\\n",
              "0  ...         2   21                        3        1               1    3   \n",
              "1  ...         1   36                        3        1               2    3   \n",
              "2  ...         1   23                        3        1               1    2   \n",
              "3  ...         1   39                        3        1               2    2   \n",
              "4  ...         2   38                        1        2               2    2   \n",
              "\n",
              "   people_liable  telephone  foreign_worker  credit_risk  \n",
              "0              2          1               2            1  \n",
              "1              1          1               2            1  \n",
              "2              2          1               2            1  \n",
              "3              1          1               1            1  \n",
              "4              2          1               1            1  \n",
              "\n",
              "[5 rows x 21 columns]"
            ],
            "text/html": [
              "\n",
              "  <div id=\"df-3f7f481c-35be-43fe-81c6-207b4f8f7d7d\">\n",
              "    <div class=\"colab-df-container\">\n",
              "      <div>\n",
              "<style scoped>\n",
              "    .dataframe tbody tr th:only-of-type {\n",
              "        vertical-align: middle;\n",
              "    }\n",
              "\n",
              "    .dataframe tbody tr th {\n",
              "        vertical-align: top;\n",
              "    }\n",
              "\n",
              "    .dataframe thead th {\n",
              "        text-align: right;\n",
              "    }\n",
              "</style>\n",
              "<table border=\"1\" class=\"dataframe\">\n",
              "  <thead>\n",
              "    <tr style=\"text-align: right;\">\n",
              "      <th></th>\n",
              "      <th>status</th>\n",
              "      <th>duration</th>\n",
              "      <th>credit_history</th>\n",
              "      <th>purpose</th>\n",
              "      <th>amount</th>\n",
              "      <th>savings</th>\n",
              "      <th>employment_duration</th>\n",
              "      <th>installment_rate</th>\n",
              "      <th>personal_status_sex</th>\n",
              "      <th>other_debtors</th>\n",
              "      <th>...</th>\n",
              "      <th>property</th>\n",
              "      <th>age</th>\n",
              "      <th>other_installment_plans</th>\n",
              "      <th>housing</th>\n",
              "      <th>number_credits</th>\n",
              "      <th>job</th>\n",
              "      <th>people_liable</th>\n",
              "      <th>telephone</th>\n",
              "      <th>foreign_worker</th>\n",
              "      <th>credit_risk</th>\n",
              "    </tr>\n",
              "  </thead>\n",
              "  <tbody>\n",
              "    <tr>\n",
              "      <th>0</th>\n",
              "      <td>1</td>\n",
              "      <td>18</td>\n",
              "      <td>4</td>\n",
              "      <td>2</td>\n",
              "      <td>1049</td>\n",
              "      <td>1</td>\n",
              "      <td>2</td>\n",
              "      <td>4</td>\n",
              "      <td>2</td>\n",
              "      <td>1</td>\n",
              "      <td>...</td>\n",
              "      <td>2</td>\n",
              "      <td>21</td>\n",
              "      <td>3</td>\n",
              "      <td>1</td>\n",
              "      <td>1</td>\n",
              "      <td>3</td>\n",
              "      <td>2</td>\n",
              "      <td>1</td>\n",
              "      <td>2</td>\n",
              "      <td>1</td>\n",
              "    </tr>\n",
              "    <tr>\n",
              "      <th>1</th>\n",
              "      <td>1</td>\n",
              "      <td>9</td>\n",
              "      <td>4</td>\n",
              "      <td>0</td>\n",
              "      <td>2799</td>\n",
              "      <td>1</td>\n",
              "      <td>3</td>\n",
              "      <td>2</td>\n",
              "      <td>3</td>\n",
              "      <td>1</td>\n",
              "      <td>...</td>\n",
              "      <td>1</td>\n",
              "      <td>36</td>\n",
              "      <td>3</td>\n",
              "      <td>1</td>\n",
              "      <td>2</td>\n",
              "      <td>3</td>\n",
              "      <td>1</td>\n",
              "      <td>1</td>\n",
              "      <td>2</td>\n",
              "      <td>1</td>\n",
              "    </tr>\n",
              "    <tr>\n",
              "      <th>2</th>\n",
              "      <td>2</td>\n",
              "      <td>12</td>\n",
              "      <td>2</td>\n",
              "      <td>9</td>\n",
              "      <td>841</td>\n",
              "      <td>2</td>\n",
              "      <td>4</td>\n",
              "      <td>2</td>\n",
              "      <td>2</td>\n",
              "      <td>1</td>\n",
              "      <td>...</td>\n",
              "      <td>1</td>\n",
              "      <td>23</td>\n",
              "      <td>3</td>\n",
              "      <td>1</td>\n",
              "      <td>1</td>\n",
              "      <td>2</td>\n",
              "      <td>2</td>\n",
              "      <td>1</td>\n",
              "      <td>2</td>\n",
              "      <td>1</td>\n",
              "    </tr>\n",
              "    <tr>\n",
              "      <th>3</th>\n",
              "      <td>1</td>\n",
              "      <td>12</td>\n",
              "      <td>4</td>\n",
              "      <td>0</td>\n",
              "      <td>2122</td>\n",
              "      <td>1</td>\n",
              "      <td>3</td>\n",
              "      <td>3</td>\n",
              "      <td>3</td>\n",
              "      <td>1</td>\n",
              "      <td>...</td>\n",
              "      <td>1</td>\n",
              "      <td>39</td>\n",
              "      <td>3</td>\n",
              "      <td>1</td>\n",
              "      <td>2</td>\n",
              "      <td>2</td>\n",
              "      <td>1</td>\n",
              "      <td>1</td>\n",
              "      <td>1</td>\n",
              "      <td>1</td>\n",
              "    </tr>\n",
              "    <tr>\n",
              "      <th>4</th>\n",
              "      <td>1</td>\n",
              "      <td>12</td>\n",
              "      <td>4</td>\n",
              "      <td>0</td>\n",
              "      <td>2171</td>\n",
              "      <td>1</td>\n",
              "      <td>3</td>\n",
              "      <td>4</td>\n",
              "      <td>3</td>\n",
              "      <td>1</td>\n",
              "      <td>...</td>\n",
              "      <td>2</td>\n",
              "      <td>38</td>\n",
              "      <td>1</td>\n",
              "      <td>2</td>\n",
              "      <td>2</td>\n",
              "      <td>2</td>\n",
              "      <td>2</td>\n",
              "      <td>1</td>\n",
              "      <td>1</td>\n",
              "      <td>1</td>\n",
              "    </tr>\n",
              "  </tbody>\n",
              "</table>\n",
              "<p>5 rows × 21 columns</p>\n",
              "</div>\n",
              "      <button class=\"colab-df-convert\" onclick=\"convertToInteractive('df-3f7f481c-35be-43fe-81c6-207b4f8f7d7d')\"\n",
              "              title=\"Convert this dataframe to an interactive table.\"\n",
              "              style=\"display:none;\">\n",
              "        \n",
              "  <svg xmlns=\"http://www.w3.org/2000/svg\" height=\"24px\"viewBox=\"0 0 24 24\"\n",
              "       width=\"24px\">\n",
              "    <path d=\"M0 0h24v24H0V0z\" fill=\"none\"/>\n",
              "    <path d=\"M18.56 5.44l.94 2.06.94-2.06 2.06-.94-2.06-.94-.94-2.06-.94 2.06-2.06.94zm-11 1L8.5 8.5l.94-2.06 2.06-.94-2.06-.94L8.5 2.5l-.94 2.06-2.06.94zm10 10l.94 2.06.94-2.06 2.06-.94-2.06-.94-.94-2.06-.94 2.06-2.06.94z\"/><path d=\"M17.41 7.96l-1.37-1.37c-.4-.4-.92-.59-1.43-.59-.52 0-1.04.2-1.43.59L10.3 9.45l-7.72 7.72c-.78.78-.78 2.05 0 2.83L4 21.41c.39.39.9.59 1.41.59.51 0 1.02-.2 1.41-.59l7.78-7.78 2.81-2.81c.8-.78.8-2.07 0-2.86zM5.41 20L4 18.59l7.72-7.72 1.47 1.35L5.41 20z\"/>\n",
              "  </svg>\n",
              "      </button>\n",
              "      \n",
              "  <style>\n",
              "    .colab-df-container {\n",
              "      display:flex;\n",
              "      flex-wrap:wrap;\n",
              "      gap: 12px;\n",
              "    }\n",
              "\n",
              "    .colab-df-convert {\n",
              "      background-color: #E8F0FE;\n",
              "      border: none;\n",
              "      border-radius: 50%;\n",
              "      cursor: pointer;\n",
              "      display: none;\n",
              "      fill: #1967D2;\n",
              "      height: 32px;\n",
              "      padding: 0 0 0 0;\n",
              "      width: 32px;\n",
              "    }\n",
              "\n",
              "    .colab-df-convert:hover {\n",
              "      background-color: #E2EBFA;\n",
              "      box-shadow: 0px 1px 2px rgba(60, 64, 67, 0.3), 0px 1px 3px 1px rgba(60, 64, 67, 0.15);\n",
              "      fill: #174EA6;\n",
              "    }\n",
              "\n",
              "    [theme=dark] .colab-df-convert {\n",
              "      background-color: #3B4455;\n",
              "      fill: #D2E3FC;\n",
              "    }\n",
              "\n",
              "    [theme=dark] .colab-df-convert:hover {\n",
              "      background-color: #434B5C;\n",
              "      box-shadow: 0px 1px 3px 1px rgba(0, 0, 0, 0.15);\n",
              "      filter: drop-shadow(0px 1px 2px rgba(0, 0, 0, 0.3));\n",
              "      fill: #FFFFFF;\n",
              "    }\n",
              "  </style>\n",
              "\n",
              "      <script>\n",
              "        const buttonEl =\n",
              "          document.querySelector('#df-3f7f481c-35be-43fe-81c6-207b4f8f7d7d button.colab-df-convert');\n",
              "        buttonEl.style.display =\n",
              "          google.colab.kernel.accessAllowed ? 'block' : 'none';\n",
              "\n",
              "        async function convertToInteractive(key) {\n",
              "          const element = document.querySelector('#df-3f7f481c-35be-43fe-81c6-207b4f8f7d7d');\n",
              "          const dataTable =\n",
              "            await google.colab.kernel.invokeFunction('convertToInteractive',\n",
              "                                                     [key], {});\n",
              "          if (!dataTable) return;\n",
              "\n",
              "          const docLinkHtml = 'Like what you see? Visit the ' +\n",
              "            '<a target=\"_blank\" href=https://colab.research.google.com/notebooks/data_table.ipynb>data table notebook</a>'\n",
              "            + ' to learn more about interactive tables.';\n",
              "          element.innerHTML = '';\n",
              "          dataTable['output_type'] = 'display_data';\n",
              "          await google.colab.output.renderOutput(dataTable, element);\n",
              "          const docLink = document.createElement('div');\n",
              "          docLink.innerHTML = docLinkHtml;\n",
              "          element.appendChild(docLink);\n",
              "        }\n",
              "      </script>\n",
              "    </div>\n",
              "  </div>\n",
              "  "
            ]
          },
          "metadata": {},
          "execution_count": 3
        }
      ]
    },
    {
      "cell_type": "code",
      "source": [
        "# CONOCIENDO EL DATASET\n",
        "df.info()"
      ],
      "metadata": {
        "colab": {
          "base_uri": "https://localhost:8080/"
        },
        "id": "NAFda1gcG-mo",
        "outputId": "c16ad93a-4721-4934-a56b-27e587ef1b7a"
      },
      "execution_count": 4,
      "outputs": [
        {
          "output_type": "stream",
          "name": "stdout",
          "text": [
            "<class 'pandas.core.frame.DataFrame'>\n",
            "RangeIndex: 1000 entries, 0 to 999\n",
            "Data columns (total 21 columns):\n",
            " #   Column                   Non-Null Count  Dtype\n",
            "---  ------                   --------------  -----\n",
            " 0   status                   1000 non-null   int64\n",
            " 1   duration                 1000 non-null   int64\n",
            " 2   credit_history           1000 non-null   int64\n",
            " 3   purpose                  1000 non-null   int64\n",
            " 4   amount                   1000 non-null   int64\n",
            " 5   savings                  1000 non-null   int64\n",
            " 6   employment_duration      1000 non-null   int64\n",
            " 7   installment_rate         1000 non-null   int64\n",
            " 8   personal_status_sex      1000 non-null   int64\n",
            " 9   other_debtors            1000 non-null   int64\n",
            " 10  present_residence        1000 non-null   int64\n",
            " 11  property                 1000 non-null   int64\n",
            " 12  age                      1000 non-null   int64\n",
            " 13  other_installment_plans  1000 non-null   int64\n",
            " 14  housing                  1000 non-null   int64\n",
            " 15  number_credits           1000 non-null   int64\n",
            " 16  job                      1000 non-null   int64\n",
            " 17  people_liable            1000 non-null   int64\n",
            " 18  telephone                1000 non-null   int64\n",
            " 19  foreign_worker           1000 non-null   int64\n",
            " 20  credit_risk              1000 non-null   int64\n",
            "dtypes: int64(21)\n",
            "memory usage: 164.2 KB\n"
          ]
        }
      ]
    },
    {
      "cell_type": "markdown",
      "source": [
        "#**Ejercicio-2.**"
      ],
      "metadata": {
        "id": "xZhr2hkECzVv"
      }
    },
    {
      "cell_type": "markdown",
      "source": [
        "## Define como la variable X a todas las variables de entrada y a la variable Y como la variable de salida. "
      ],
      "metadata": {
        "id": "ii1YCmVHKhSm"
      }
    },
    {
      "cell_type": "code",
      "source": [
        "# DEFINICIÓN DE VARIABLES\n",
        "\n",
        "X = [\"status\",\"credit_history\",\"purpose\",\"savings\",\"employment_duration\" , \"installment_rate\", \"personal_status_sex\",\"other_debtors\",\"property\",\"job\", \"people_liable\",\"age\",\"other_installment_plans\",\"housing\", \"amount\",\"number_credits\", \"duration\", \"telephone\",\"foreign_worker\"]#Variables de entrada \n",
        "y = [\"credit_risk\"]#VARIABLE DE SALIDA\n"
      ],
      "metadata": {
        "id": "kGfAoOPkC1PP"
      },
      "execution_count": 5,
      "outputs": []
    },
    {
      "cell_type": "markdown",
      "source": [
        "## Realiza una partición de los datos en el conjunto de entrenamiento del 85% y el de prueba de 15%."
      ],
      "metadata": {
        "id": "wd0mUeS0KaMz"
      }
    },
    {
      "cell_type": "code",
      "source": [
        "# PARTICIÓN DE DATOS (ENTRENAMIENTO 85%, PRUEBA 15%)\n",
        "\n",
        "Xtrain, Xtest, Ytrain, Ytest =  train_test_split(df[X],df[y], test_size = 0.15,shuffle = False)"
      ],
      "metadata": {
        "id": "GOydw5OGC1MJ"
      },
      "execution_count": 6,
      "outputs": []
    },
    {
      "cell_type": "markdown",
      "source": [
        "#**Ejercicio-3.**"
      ],
      "metadata": {
        "id": "NCunuooTC2W3"
      }
    },
    {
      "cell_type": "markdown",
      "source": [
        "Como una primera aproximación (baseline) realizarás las siguientes transformaciones mínimas para generar los primeros modelos. En la misma página de la UCI se indica el tipo de variable de cada uno de los factores. Definen cuatro tipo de variables: categórica (categorical), ordinal (discretized quantitative), numérica (quantitative) y binaria (binary). Con base a dicha información realiza un Pipeline que incluya al menos las siguientes transformaciones:"
      ],
      "metadata": {
        "id": "H3VcsjQvQNOC"
      }
    },
    {
      "cell_type": "markdown",
      "source": [
        "## 3a. Imputación a todas las variables de entrada, diferenciando entre el tipo de cada variable"
      ],
      "metadata": {
        "id": "eZuAyRC7Kzo0"
      }
    },
    {
      "cell_type": "code",
      "source": [
        "# DIVISIÓN DE VARIABLES EN CATEGÓRICA, ORDINAL, NUMÉRICA Y BINARIA\n",
        "\n",
        "categorical_vars = ['status','credit_history','purpose','savings','personal_status_sex','other_debtors','other_installment_plans','housing'] #Variables categóricas\n",
        "ordinal_vars = ['employment_duration','installment_rate','present_residence','property','number_credits','job'] #Variables cuantitativas discretizadas\n",
        "quantitative_vars = ['duration','amount','age'] #Variables numéricas\n",
        "binary_vars = ['people_liable','telephone','foreign_worker'] #Variables binarias\n",
        "binary_out = ['credit_risk'] #Variable de salida, tipo binaria"
      ],
      "metadata": {
        "id": "YXlcSWA-C4Dj"
      },
      "execution_count": 7,
      "outputs": []
    },
    {
      "cell_type": "code",
      "source": [
        "# BÚSQUEDA DE NULOS\n",
        "\n",
        "df.isnull().sum()"
      ],
      "metadata": {
        "id": "BKI80-YdC4HN",
        "colab": {
          "base_uri": "https://localhost:8080/"
        },
        "outputId": "e66f5ccd-feeb-4835-8229-dfa293bc520a"
      },
      "execution_count": 8,
      "outputs": [
        {
          "output_type": "execute_result",
          "data": {
            "text/plain": [
              "status                     0\n",
              "duration                   0\n",
              "credit_history             0\n",
              "purpose                    0\n",
              "amount                     0\n",
              "savings                    0\n",
              "employment_duration        0\n",
              "installment_rate           0\n",
              "personal_status_sex        0\n",
              "other_debtors              0\n",
              "present_residence          0\n",
              "property                   0\n",
              "age                        0\n",
              "other_installment_plans    0\n",
              "housing                    0\n",
              "number_credits             0\n",
              "job                        0\n",
              "people_liable              0\n",
              "telephone                  0\n",
              "foreign_worker             0\n",
              "credit_risk                0\n",
              "dtype: int64"
            ]
          },
          "metadata": {},
          "execution_count": 8
        }
      ]
    },
    {
      "cell_type": "code",
      "source": [
        "df.replace('?', np.nan, inplace=True)"
      ],
      "metadata": {
        "id": "q1xZkAiPSx3-"
      },
      "execution_count": 9,
      "outputs": []
    },
    {
      "cell_type": "code",
      "source": [
        "df.isnull().sum()"
      ],
      "metadata": {
        "colab": {
          "base_uri": "https://localhost:8080/"
        },
        "id": "wnry5LLES-B-",
        "outputId": "be7fff69-0542-4960-a84d-ae3e5fb7b652"
      },
      "execution_count": 10,
      "outputs": [
        {
          "output_type": "execute_result",
          "data": {
            "text/plain": [
              "status                     0\n",
              "duration                   0\n",
              "credit_history             0\n",
              "purpose                    0\n",
              "amount                     0\n",
              "savings                    0\n",
              "employment_duration        0\n",
              "installment_rate           0\n",
              "personal_status_sex        0\n",
              "other_debtors              0\n",
              "present_residence          0\n",
              "property                   0\n",
              "age                        0\n",
              "other_installment_plans    0\n",
              "housing                    0\n",
              "number_credits             0\n",
              "job                        0\n",
              "people_liable              0\n",
              "telephone                  0\n",
              "foreign_worker             0\n",
              "credit_risk                0\n",
              "dtype: int64"
            ]
          },
          "metadata": {},
          "execution_count": 10
        }
      ]
    },
    {
      "cell_type": "code",
      "source": [
        "df.replace(' ', np.nan, inplace=True)"
      ],
      "metadata": {
        "id": "5xuW_9oVXULM"
      },
      "execution_count": 11,
      "outputs": []
    },
    {
      "cell_type": "code",
      "source": [
        "df.isnull().sum()"
      ],
      "metadata": {
        "colab": {
          "base_uri": "https://localhost:8080/"
        },
        "id": "9RoDIi28XY6z",
        "outputId": "d5950060-a84a-4d9b-b02c-d0467343885f"
      },
      "execution_count": 12,
      "outputs": [
        {
          "output_type": "execute_result",
          "data": {
            "text/plain": [
              "status                     0\n",
              "duration                   0\n",
              "credit_history             0\n",
              "purpose                    0\n",
              "amount                     0\n",
              "savings                    0\n",
              "employment_duration        0\n",
              "installment_rate           0\n",
              "personal_status_sex        0\n",
              "other_debtors              0\n",
              "present_residence          0\n",
              "property                   0\n",
              "age                        0\n",
              "other_installment_plans    0\n",
              "housing                    0\n",
              "number_credits             0\n",
              "job                        0\n",
              "people_liable              0\n",
              "telephone                  0\n",
              "foreign_worker             0\n",
              "credit_risk                0\n",
              "dtype: int64"
            ]
          },
          "metadata": {},
          "execution_count": 12
        }
      ]
    },
    {
      "cell_type": "code",
      "source": [
        "# NO ENCONTRAMOS VALORES VACÍOS, NI \"?\", NI ATÍPICOS, SIN EMBARGO, DECIDIMOS COLOCAR \n",
        "# UN PASO DE IMPUTACIÓN CON LA FINALIDAD DE ESTRUCTURAR EL PROCESO PARA PREVENIRLO EN\n",
        "# CASO DE QUE SE PRESENTE CUANDO SE INTEGRE MÁS INFORMACIÓN EN EL FUTURO.\n",
        "\n",
        "# IMPUTACIÓN DE DATOS\n",
        "\n",
        "# SE DECIDIÓ IMPUTAR VARIABLES CUANTITATIVAS CON PROMEDIO, YA QUE ESTO EVITARÍA EL SESGO EN NUESTRO MODELO\n",
        "imputed_quantitative = SimpleImputer(strategy='mean')\n",
        "imputed_quantitative = imputed_quantitative.fit_transform(Xtrain[quantitative_vars], Ytrain)\n",
        "\n",
        "# SE OPTÓ POR LA MODA PARA VARIABLES CATEGÓRICAS, YA QUE AL SER LA OPCIÓN MÁS FRECUENTE DISMINUYE EL SESGO EN EL MODELO\n",
        "imputed_categorical = SimpleImputer(strategy='most_frequent')\n",
        "imputed_categorical = imputed_categorical.fit_transform(Xtrain[categorical_vars], Ytrain)\n",
        "\n",
        "# LA IMPUTACIÓN PARA VARIABLES BINARIAS, AL IGUAL QUE LAS CATEGÓRICAS, SE REALIZA POR MODA PARA DISMINUIR EL SESGO\n",
        "imputed_binary = SimpleImputer(strategy='most_frequent')\n",
        "imputed_binary = imputed_binary.fit_transform(Xtrain[binary_vars], Ytrain)"
      ],
      "metadata": {
        "id": "q9vWyFDAUZ3R"
      },
      "execution_count": 13,
      "outputs": []
    },
    {
      "cell_type": "markdown",
      "source": [
        "## 3 b&c. Realiza un análisis de las variables numéricas (quantitative) de entrada y aplica una transformación que escale a todas ellas en un rango equiparable. Aplica la transformación One-Hot encoding  a las variables de entrada de tipo categórico y binaria."
      ],
      "metadata": {
        "id": "9zHUsykwLozc"
      }
    },
    {
      "cell_type": "code",
      "source": [
        "# PIPELINE, ESCALACIÓN DE DATOS CUANTITATIVOS CON EL MÉTODO DE MinMaxScaler, Y\n",
        "# TRANSFORMACIÓN ONE HOT ENCODER PARA VARIABLES CATEGÓRICAS Y BINARIAS.\n",
        "\n",
        "quantitative_pipeline = Pipeline(steps=[('imputer', SimpleImputer(strategy='mean')),('scaler',MinMaxScaler())])\n",
        "col_quantitative = quantitative_vars\n",
        "\n",
        "categorical_pipeline = Pipeline(steps = [(\"imputer\", SimpleImputer(strategy='most_frequent')),('onehot',OneHotEncoder(handle_unknown=\"ignore\"))])\n",
        "col_categorical = categorical_vars\n",
        "\n",
        "binary_pipeline = Pipeline(steps = [(\"imputer\", SimpleImputer(strategy='most_frequent')),('onehot',OneHotEncoder(handle_unknown=\"ignore\"))])\n",
        "col_binary = binary_vars\n",
        "\n",
        "cols_Transformer = ColumnTransformer(transformers = [('quantitative', quantitative_pipeline, col_quantitative),\n",
        "                                                        ('categorical', categorical_pipeline, col_categorical),\n",
        "                                                        ('binary', binary_pipeline, col_binary)\n",
        "                                                        ], remainder='passthrough')"
      ],
      "metadata": {
        "id": "vQrM-UBqWd_m"
      },
      "execution_count": 14,
      "outputs": []
    },
    {
      "cell_type": "code",
      "source": [
        "#REVISIÓN DE CONFIGURACIÓN\n",
        "X_train_fit = cols_Transformer.fit(Xtrain)\n",
        "print(X_train_fit)"
      ],
      "metadata": {
        "colab": {
          "base_uri": "https://localhost:8080/"
        },
        "id": "BiLVyDPKoB4i",
        "outputId": "fe1cf76c-ce04-4988-f8ca-a73ad32a7875"
      },
      "execution_count": 16,
      "outputs": [
        {
          "output_type": "stream",
          "name": "stdout",
          "text": [
            "ColumnTransformer(remainder='passthrough',\n",
            "                  transformers=[('quantitative',\n",
            "                                 Pipeline(steps=[('imputer', SimpleImputer()),\n",
            "                                                 ('scaler', MinMaxScaler())]),\n",
            "                                 ['duration', 'amount', 'age']),\n",
            "                                ('categorical',\n",
            "                                 Pipeline(steps=[('imputer',\n",
            "                                                  SimpleImputer(strategy='most_frequent')),\n",
            "                                                 ('onehot',\n",
            "                                                  OneHotEncoder(handle_unknown='ignore'))]),\n",
            "                                 ['status', 'credit_history', 'purpose',\n",
            "                                  'savings', 'personal_status_sex',\n",
            "                                  'other_debtors', 'other_installment_plans',\n",
            "                                  'housing']),\n",
            "                                ('binary',\n",
            "                                 Pipeline(steps=[('imputer',\n",
            "                                                  SimpleImputer(strategy='most_frequent')),\n",
            "                                                 ('onehot',\n",
            "                                                  OneHotEncoder(handle_unknown='ignore'))]),\n",
            "                                 ['people_liable', 'telephone',\n",
            "                                  'foreign_worker'])])\n"
          ]
        }
      ]
    },
    {
      "cell_type": "markdown",
      "source": [
        "## 3c. Justifica por qué una variable binaria requeriría que se le aplique  la transformación one-hot encoding."
      ],
      "metadata": {
        "id": "FHxQJcmPMHOd"
      }
    },
    {
      "cell_type": "markdown",
      "source": [
        "El One-hot enconding lo que hace es transformar las variables categóricas en columnas dummy binarias (es decir si cumplen con el valor o no). Si bien las variables binarias ya cumplen con estas características, el One-hot enconding también es útil para mejorar las predicciones y rendimiento del modelo. Por lo tanto, la justificación de aplicar One-hot encoding para variables binarias es que ayudaremos a la escalabilidad de la información y a mejorar la eficiencia del modelo."
      ],
      "metadata": {
        "id": "fsHvsPcaMMTZ"
      }
    },
    {
      "cell_type": "markdown",
      "source": [
        "#**Ejercicio-4.**"
      ],
      "metadata": {
        "id": "chqk9jIDC5Pq"
      }
    },
    {
      "cell_type": "markdown",
      "source": [
        "Llevarás un entrenamiento usando validación cruzada entre los siguientes tres modelos de aprendizaje automático: Regresión Logística, Árbol de Decisión y Bosque Aleatorio. Deberás llevar a cabo el entrenamiento de los tres de manera conjunta usando un ciclo FOR. Recuerda aplicar las transformaciones que definiste en tu Pipeline. El entrenamiento debe ser con las \n",
        "siguientes características: "
      ],
      "metadata": {
        "id": "e3nexw6vPamT"
      }
    },
    {
      "cell_type": "markdown",
      "source": [
        "## 4 a-c. Usa los parámetros predeterminados de cada modelo. En cada iteración deben calcularse todas las siguientes métricas: accuracy, precision, recall, f1-score y Gmean. Usar validación cruzada estratificada con 5 particiones y con 3 repeticiones. "
      ],
      "metadata": {
        "id": "jkav--B2QeRW"
      }
    },
    {
      "cell_type": "code",
      "source": [
        "#Métricas valores de Entrenamiento:\n",
        "\n",
        "#FUNCION PRECISIÓN \n",
        "def precisionFunction(Yreal, Yestimada):\n",
        "  vn, fp, fn, vp=confusion_matrix(Yreal, Yestimada).ravel()\n",
        "  precision = vp / ( vp+fp)\n",
        "  return precision\n",
        "#FUNCIÓN RECALL\n",
        "def recallFunction(Yreal, Yestimada):\n",
        "  vn, fp, fn, vp=confusion_matrix(Yreal, Yestimada).ravel()\n",
        "  recall = vp / (vp+fn)\n",
        "  return recall\n",
        "#FUNCIÓN F1 SCORE\n",
        "def f1Function(Yreal, Yestimada):\n",
        "  vn, fp, fn, vp=confusion_matrix(Yreal, Yestimada).ravel()\n",
        "  f1score = 2*vp / (2*vp+fp+fn)\n",
        "  return f1score\n",
        "#FUNCIÓN ESPECIFICIDAD\n",
        "def especificidadFunction(Yreal, Yestimada):\n",
        "  vn, fp, fn, vp=confusion_matrix(Yreal, Yestimada).ravel()\n",
        "  especificidad = vn / (vn+fp)\n",
        "  return especificidad\n",
        "#FUNCIÓN GMEAN\n",
        "def gmeanFunction(Yreal, Yestimada):\n",
        " vp, fp, fn, vp=confusion_matrix(Yreal, Yestimada).ravel()\n",
        " gmean = np.sqrt(recallFunction(Yreal, Yestimada) * especificidadFunction(Yreal, Yestimada))\n",
        " return gmean\n",
        "#FUNCIÓN ACCURACY\n",
        "def accuracyFunction(Yreal, Yestimada):\n",
        "  vn, fp, fn, vp = confusion_matrix(Yreal, Yestimada).ravel()\n",
        "  accuracy = (vp+vn)/(vp+vn+fp+fn)\n",
        "  return accuracy"
      ],
      "metadata": {
        "id": "iZxUqPWZU0FS"
      },
      "execution_count": 17,
      "outputs": []
    },
    {
      "cell_type": "markdown",
      "source": [
        "## 4d. Imprimir el valor de todas estas métricas, tanto para los datos de entrenamiento, como para los de validación. Así como los diagramas de caja y bigotes de los tres modelos con la métrica “recall”."
      ],
      "metadata": {
        "id": "9zvprpwJoWJq"
      }
    },
    {
      "cell_type": "code",
      "source": [
        "#ENTRENAMIENTO DE LOS MODELOS EN UN CICLO FOR\n",
        "LR = LogisticRegression(solver='liblinear')\n",
        "DTC = DecisionTreeClassifier() \n",
        "RF = RandomForestClassifier()\n",
        "\n",
        "modelos = [LR, DTC, RF]\n",
        "modelosNombres = ['Regresión Logística', 'Árbol de decisión', 'Bosque Aleatorio']\n",
        "scores = list()\n",
        "\n",
        "for i in range(len(modelos)):\n",
        "  MODELS_pipe = Pipeline(steps = [\n",
        "    ('tranformacion', cols_Transformer),\n",
        "    (modelosNombres[i], modelos[i])\n",
        "    ])\n",
        "  \n",
        "  validacion = cross_validate(\n",
        "      estimator=MODELS_pipe, X=Xtrain, y=Ytrain.values.ravel(),\n",
        "      scoring = {'precision': make_scorer(precisionFunction),\n",
        "                 'accuracy': make_scorer(accuracyFunction),\n",
        "                 'recall': make_scorer(recallFunction),\n",
        "                 'f1': make_scorer(f1Function),\n",
        "                 'especificidad': make_scorer(especificidadFunction),\n",
        "                 'gmean': make_scorer(gmeanFunction)}, return_train_score=True)\n",
        "\n",
        "  scores.append(validacion)\n",
        "  \n",
        "  print('Entrenamiento')\n",
        "  print('%s:\\nAccuracy: %.3f (%.4f)\\nPrecision: %.3f (%.4f)\\nRecall: %.3f (%.4f)\\nFOneScore: %.3f (%.4f)\\nGmean: %.3f (%.4f)\\n' % (modelosNombres[i],\n",
        "                                                                          np.mean(validacion['train_accuracy']),\n",
        "                                                                          np.std(validacion['train_accuracy']), \n",
        "                                                                          np.mean(validacion['train_precision']),\n",
        "                                                                          np.std(validacion['train_precision']), \n",
        "                                                                          np.mean(validacion['train_recall']),\n",
        "                                                                          np.std(validacion['train_recall']),  \n",
        "                                                                          np.mean(validacion['train_f1']),\n",
        "                                                                          np.std(validacion['train_f1']),\n",
        "                                                                          np.mean(validacion['train_gmean']),\n",
        "                                                                          np.std(validacion['train_gmean']),    \n",
        "                                                                          ))\n",
        "  \n",
        "  \n",
        "  print('Validación')\n",
        "  print('%s:\\nAccuracy: %.3f (%.4f)\\nPrecision: %.3f (%.4f)\\nRecall: %.3f (%.4f)\\nFOneScore: %.3f (%.4f)\\nGmean: %.3f (%.4f)\\n' % (modelosNombres[i],\n",
        "                                                                          np.mean(validacion['test_accuracy']),\n",
        "                                                                          np.std(validacion['test_accuracy']), \n",
        "                                                                          np.mean(validacion['test_precision']),\n",
        "                                                                          np.std(validacion['test_precision']), \n",
        "                                                                          np.mean(validacion['test_recall']),\n",
        "                                                                          np.std(validacion['test_recall']),  \n",
        "                                                                          np.mean(validacion['test_f1']),\n",
        "                                                                          np.std(validacion['test_f1']),\n",
        "                                                                          np.mean(validacion['test_gmean']),\n",
        "                                                                          np.std(validacion['test_gmean']),    \n",
        "                                                                          ))"
      ],
      "metadata": {
        "colab": {
          "base_uri": "https://localhost:8080/"
        },
        "id": "28V7VpoGUP-Z",
        "outputId": "50b0b271-06d2-49db-8fbe-a3edf0417b6c"
      },
      "execution_count": 18,
      "outputs": [
        {
          "output_type": "stream",
          "name": "stdout",
          "text": [
            "Entrenamiento\n",
            "Regresión Logística:\n",
            "Accuracy: 0.844 (0.0107)\n",
            "Precision: 0.859 (0.0111)\n",
            "Recall: 0.969 (0.0033)\n",
            "FOneScore: 0.911 (0.0055)\n",
            "Gmean: 0.497 (0.0609)\n",
            "\n",
            "Validación\n",
            "Regresión Logística:\n",
            "Accuracy: 0.804 (0.0299)\n",
            "Precision: 0.844 (0.0044)\n",
            "Recall: 0.934 (0.0408)\n",
            "FOneScore: 0.886 (0.0201)\n",
            "Gmean: 0.423 (0.0325)\n",
            "\n",
            "Entrenamiento\n",
            "Árbol de decisión:\n",
            "Accuracy: 1.000 (0.0000)\n",
            "Precision: 1.000 (0.0000)\n",
            "Recall: 1.000 (0.0000)\n",
            "FOneScore: 1.000 (0.0000)\n",
            "Gmean: 1.000 (0.0000)\n",
            "\n",
            "Validación\n",
            "Árbol de decisión:\n",
            "Accuracy: 0.755 (0.0438)\n",
            "Precision: 0.853 (0.0093)\n",
            "Recall: 0.849 (0.0590)\n",
            "FOneScore: 0.850 (0.0320)\n",
            "Gmean: 0.518 (0.0423)\n",
            "\n",
            "Entrenamiento\n",
            "Bosque Aleatorio:\n",
            "Accuracy: 1.000 (0.0000)\n",
            "Precision: 1.000 (0.0000)\n",
            "Recall: 1.000 (0.0000)\n",
            "FOneScore: 1.000 (0.0000)\n",
            "Gmean: 1.000 (0.0000)\n",
            "\n",
            "Validación\n",
            "Bosque Aleatorio:\n",
            "Accuracy: 0.819 (0.0282)\n",
            "Precision: 0.834 (0.0075)\n",
            "Recall: 0.974 (0.0374)\n",
            "FOneScore: 0.898 (0.0181)\n",
            "Gmean: 0.266 (0.1387)\n",
            "\n"
          ]
        }
      ]
    },
    {
      "cell_type": "code",
      "source": [
        "#DIAGRAMA DE CAJAS Y BIGOTES ENTRENAMIENTO\n",
        "sns.set(rc={'figure.figsize':(10,7)})\n",
        "\n",
        "Aux = list()\n",
        "for value in range (len(scores)):\n",
        "  box = scores[value]['train_recall']\n",
        "  Aux.append(scores[value]['train_recall'])\n",
        "plt.boxplot(Aux, labels=modelosNombres, showmeans=True)\n",
        "\n",
        "plt.show()"
      ],
      "metadata": {
        "colab": {
          "base_uri": "https://localhost:8080/",
          "height": 431
        },
        "id": "393DZ_ib9Hv5",
        "outputId": "25b6940f-533d-46b5-fe6d-134ef2c9f2e9"
      },
      "execution_count": 19,
      "outputs": [
        {
          "output_type": "display_data",
          "data": {
            "text/plain": [
              "<Figure size 720x504 with 1 Axes>"
            ],
            "image/png": "[encoded data removed]"
          },
          "metadata": {}
        }
      ]
    },
    {
      "cell_type": "code",
      "source": [
        "#DIAGRAMA DE CAJAS Y BIGOTES DE VALIDACIÓN\n",
        "sns.set(rc={'figure.figsize':(10,7)})\n",
        "\n",
        "Aux = list()\n",
        "for value in range (len(scores)):\n",
        "  box = scores[value]['test_recall']\n",
        "  Aux.append(scores[value]['test_recall'])\n",
        "plt.boxplot(Aux, labels=modelosNombres, showmeans=True)\n",
        "\n",
        "plt.show()"
      ],
      "metadata": {
        "colab": {
          "base_uri": "https://localhost:8080/",
          "height": 431
        },
        "id": "01UOW0eHoPMK",
        "outputId": "da201762-8103-4a93-c67d-59077042ea39"
      },
      "execution_count": 20,
      "outputs": [
        {
          "output_type": "display_data",
          "data": {
            "text/plain": [
              "<Figure size 720x504 with 1 Axes>"
            ],
            "image/png": "[encoded data removed]"
          },
          "metadata": {}
        }
      ]
    },
    {
      "cell_type": "markdown",
      "source": [
        "# 4d. ¿Alguno de los modelos está subentrenado o sobreentrenado? Justifica tu respuesta. "
      ],
      "metadata": {
        "id": "L_scR3twooRT"
      }
    },
    {
      "cell_type": "markdown",
      "source": [
        "Sí, los modelos de árbol de decisión y bosque aleatorio están sobreentrenados, ya que en la media y desviación estándar los resultados en el entrenamiento se aprecian como 1 y 0 respectivamente, lo cual quiere decir que se está ajustando al 100% a los valores de entrada. Por su parte, el de regresión logística parece que está subentrenado, en tanto que los resultados de las métricas tales la desviación estándar incrementa considerablemente al correr el modelo en los datos de validación. Igualmente, al revisar el box plot, se puede apreciar que se tienen outlayers tanto en la regresión logística como en el bosque aleatorio para los datos de validación; y la media aparece fuera de la caja. En el bosque aleatorio, los resultados en la prueba de validación se comportan mejor que en los datos de prueba. "
      ],
      "metadata": {
        "id": "NJ4noP_Fow8X"
      }
    },
    {
      "cell_type": "markdown",
      "source": [
        "## 4e. Obtengamos algunas de las llamadas curvas de aprendizaje para algunos de estos casos."
      ],
      "metadata": {
        "id": "qRFf38k6pyGt"
      }
    },
    {
      "cell_type": "markdown",
      "source": [
        "4ei. Obtener las curvas de aprendizaje (learning_curve) en la cual se va incrementando el tamaño de la muestra para el modelo de regresión Logística con su hiperparámetros predeterminados. Utilizar al menos 20 puntos en la partición de los conjuntos de entrenamiento y la métrica “f1-score”, como evaluación del \n",
        "desempeño de dicha función “learning_curve()”. "
      ],
      "metadata": {
        "id": "vi4nXJ1Dp5ha"
      }
    },
    {
      "cell_type": "code",
      "source": [
        "def mi_LearningCurvePlot(train_sizes, train_scores, val_scores):\n",
        "    train_mean = np.mean(train_scores, axis=1)\n",
        "    train_std = np.std(train_scores, axis=1)\n",
        "    val_mean = np.mean(val_scores, axis=1)\n",
        "    val_std = np.std(val_scores, axis=1)\n",
        "\n",
        "    plt.figure(figsize=(7,6))\n",
        "    plt.plot(train_sizes, train_mean, color='blue', marker='o', markersize=5, label='Training')\n",
        "    plt.fill_between(train_sizes, train_mean + train_std, train_mean - train_std, alpha=0.1, color='blue')\n",
        "    \n",
        "    plt.plot(train_sizes, val_mean, color='red', marker='+', markersize=5, linestyle='--', label='Validation')\n",
        "    plt.fill_between(train_sizes, val_mean + val_std, val_mean - val_std, alpha=0.1, color='red')\n",
        "    \n",
        "    plt.title('Curvas de Aprendizaje incrementando el tamaño de la muestra')\n",
        "    plt.xlabel('Tamaño del conjunto de entrenamiento')\n",
        "    plt.ylabel('Exactitud (accuracy)')\n",
        "    plt.grid()\n",
        "    plt.legend(loc='lower left')\n",
        "    plt.show()"
      ],
      "metadata": {
        "id": "QPeAbvA4ehN0"
      },
      "execution_count": 21,
      "outputs": []
    },
    {
      "cell_type": "code",
      "source": [
        "def mi_ModeloYCurvas(Xin):\n",
        "\n",
        "       modelo = LogisticRegression(solver='liblinear')\n",
        "       MODELS_pipe = Pipeline(steps = [('tranformación', cols_Transformer),(\"LR\", modelo)])\n",
        "\n",
        "       kfold = RepeatedStratifiedKFold(n_splits=5, n_repeats=3)\n",
        "\n",
        "       delta_train_sz = np.linspace(0.1, 1.0, 20)\n",
        "\n",
        "       tr_sizes, tr_scores, val_scores = learning_curve(estimator = MODELS_pipe ,    \n",
        "                                                        X = Xin,\n",
        "                                                        y = Ytrain.values.ravel(),\n",
        "                                                        cv = kfold ,\n",
        "                                                        train_sizes = delta_train_sz, \n",
        "                                                        scoring = make_scorer(f1Function))\n",
        "       \n",
        "       mi_LearningCurvePlot(tr_sizes, tr_scores, val_scores)"
      ],
      "metadata": {
        "id": "n0NG_xJ0ekr5"
      },
      "execution_count": 22,
      "outputs": []
    },
    {
      "cell_type": "code",
      "source": [
        "# MODELO DE REGRESIÓN LOGÍSTICA\n",
        "\n",
        "print('Curvas de aprendizaje del modelo lineal:')\n",
        "mi_ModeloYCurvas(Xtrain)"
      ],
      "metadata": {
        "id": "E0TG57g_epaT",
        "colab": {
          "base_uri": "https://localhost:8080/",
          "height": 427
        },
        "outputId": "586c1ca2-3767-4f0b-ef88-a951c63bb954"
      },
      "execution_count": 24,
      "outputs": [
        {
          "output_type": "stream",
          "name": "stdout",
          "text": [
            "Curvas de aprendizaje del modelo lineal:\n"
          ]
        },
        {
          "output_type": "display_data",
          "data": {
            "text/plain": [
              "<Figure size 504x432 with 1 Axes>"
            ],
            "image/png": "[encoded data removed]"
          },
          "metadata": {}
        }
      ]
    },
    {
      "cell_type": "markdown",
      "source": [
        "4eii. Obtener las curvas de validación (validation_curve) en la cual se va incrementando la complejidad del hiperparámetro “max_depth” para el modelo de árbol de decisión con sus hiperparámetros predeterminados. Utilizar valores de máxima profundidad desde 1 hasta 20 y con la métrica “f1-score” para la evaluación del desempeño del modelo. "
      ],
      "metadata": {
        "id": "jG_NcrmyqcGd"
      }
    },
    {
      "cell_type": "code",
      "source": [
        "def create_validation_curve (x_val,y_val,param_name,cv_entrada,scoring):\n",
        "  modelo = DecisionTreeClassifier()\n",
        "  pipe = Pipeline(steps=[(\"Preparainfo\",cols_Transformer),(\"model\",modelo)])\n",
        "  rango_param = np.linspace(1, 20, 20,dtype=\"int\")\n",
        "  t_scores, v_scores = validation_curve(\n",
        "      estimator=pipe,\n",
        "      X=x_val, y=y_val, \n",
        "      param_name=f\"model__{param_name}\",\n",
        "      param_range=rango_param, cv=cv_entrada, \n",
        "      scoring=scoring,\n",
        "  )\n",
        "\n",
        "  return rango_param, t_scores, v_scores"
      ],
      "metadata": {
        "id": "P9NdskAMql_0"
      },
      "execution_count": 25,
      "outputs": []
    },
    {
      "cell_type": "code",
      "source": [
        "from scipy.stats import alpha\n",
        "kfold = RepeatedStratifiedKFold(n_splits=5, n_repeats=3)\n",
        "\n",
        "param_range,train_score, validation_score = create_validation_curve(Xtrain,Ytrain,\"max_depth\",kfold,make_scorer(f1Function))\n",
        "train_mean = np.mean(train_score, axis=1)\n",
        "train_std = np.std(train_score, axis=1)\n",
        "test_mean = np.mean(validation_score, axis=1)\n",
        "test_std = np.std(validation_score, axis=1)\n",
        "\n",
        "plt.subplots(1, figsize=(7,7))\n",
        "plt.plot(param_range, train_mean, label=\"Training score\", color=\"black\")\n",
        "plt.plot(param_range, test_mean, label=\"Cross-validation score\", color=\"dimgrey\")\n",
        "\n",
        "plt.fill_between(param_range, train_mean - train_std, train_mean + train_std, color=\"green\",alpha=0.5)\n",
        "plt.fill_between(param_range, test_mean - test_std, test_mean + test_std, color=\"red\",alpha=0.5)\n",
        " \n",
        "plt.title(\"Validation Curve With Random Forest\")\n",
        "plt.xlabel(\"Number Of Trees\")\n",
        "plt.ylabel(\"F1 Score\")\n",
        "plt.tight_layout()\n",
        "plt.legend(loc=\"best\")\n",
        "plt.show()"
      ],
      "metadata": {
        "colab": {
          "base_uri": "https://localhost:8080/",
          "height": 509
        },
        "id": "_j1uYVoyqoQr",
        "outputId": "c2d64b09-7808-49d0-9a3b-dba2b7e4f11b"
      },
      "execution_count": 26,
      "outputs": [
        {
          "output_type": "display_data",
          "data": {
            "text/plain": [
              "<Figure size 504x504 with 1 Axes>"
            ],
            "image/png": "[encoded data removed]"
          },
          "metadata": {}
        }
      ]
    },
    {
      "cell_type": "markdown",
      "source": [
        "4eiii. Obtener las curvas de aprendizaje (learning_curve) en la cual se va incrementando el tamaño de la muestra para el modelo de regresión bosque aleatorio (random forest) con su hiperparámetros predeterminados. Utilizar al menos 20 puntos en la partición de los conjuntos de entrenamiento y la métrica “recall”, como evaluación del desempeño del modelo. \n"
      ],
      "metadata": {
        "id": "9sYXkyWcqmW5"
      }
    },
    {
      "cell_type": "code",
      "source": [
        "def CurvaRF(Xin):\n",
        "  RF = RandomForestClassifier() \n",
        "  pipe = Pipeline(steps=[(\"PreparaInfo\", cols_Transformer),(\"RF\", RF)])\n",
        "  kfold = RepeatedStratifiedKFold(n_splits=5, n_repeats=3)  \n",
        "  delta_train_sz = np.linspace(.1, 1, 20)\n",
        "  tr_sizes, tr_scores, val_scores = learning_curve(estimator = pipe ,    \n",
        "                                                        X = Xin,\n",
        "                                                        y = Ytrain.values.ravel(),\n",
        "                                                        cv = kfold,\n",
        "                                                        train_sizes = delta_train_sz ,\n",
        "                                                        scoring=make_scorer(recallFunction))\n",
        "\n",
        "  mi_LearningCurvePlot(tr_sizes, tr_scores, val_scores)"
      ],
      "metadata": {
        "id": "QuuDO6d8qmjX"
      },
      "execution_count": 30,
      "outputs": []
    },
    {
      "cell_type": "code",
      "source": [
        "CurvaRF(Xtrain)"
      ],
      "metadata": {
        "colab": {
          "base_uri": "https://localhost:8080/",
          "height": 410
        },
        "id": "XJ0Exwqkquhb",
        "outputId": "792362e4-31e7-49ac-ba44-effe73d4e752"
      },
      "execution_count": 31,
      "outputs": [
        {
          "output_type": "display_data",
          "data": {
            "text/plain": [
              "<Figure size 504x432 with 1 Axes>"
            ],
            "image/png": "[encoded data removed]"
          },
          "metadata": {}
        }
      ]
    },
    {
      "cell_type": "markdown",
      "source": [
        "#**Ejercicio-5.**"
      ],
      "metadata": {
        "id": "Rv7KFq-mC7PS"
      }
    },
    {
      "cell_type": "markdown",
      "source": [
        "## Finalmente veamos la manera de mejorar los valores de los hiperparámetros de cada modelo, así como el problema del sobreentrenamiento de algunos de ellos. Para ello deberás usar el método GridSearchCV() de scikit-learn. \n",
        "\n",
        "Recuerda que este método hace una búsqueda de los mejores hiperparámetros de un modelo mediante el llamada formato de malla y aplicando validación cruzada. En cada caso puedes incrementar el máximo de iteraciones,”max_iter” para que tengas la convergencia adecuada para todas las combinaciones en cada modelo. Recuerda también aplicar las transformaciones que definiste en tu Pipeline. Para fines de este ejercicio se ha seleccionado para cada modelo una métrica diferente, que permita irte familiarizando con ellas. Puedes consultar su documentación de GridSearchCV en la siguiente liga:  \n",
        "\n",
        "[texto del enlace](https://scikit-learn.org/stable/modules/generated/sklearn.model_selection.GridSearchCV.html )\n",
        " "
      ],
      "metadata": {
        "id": "R9-dnWuP61mP"
      }
    },
    {
      "cell_type": "markdown",
      "source": [
        "## 5a. Para el modelo de regresión logística realizar el entrenamiento buscando sus mejores hiperparámetros con GridSearchCV(). \n",
        "Los hiperparámetros que debes incluir en su búsqueda deben ser al menos los siguientes: C, solver, class_weight y penalty. En este caso deberás usar la métrica (scoring) “f1-score”. \n",
        "\n",
        "Imprime la mejor combinación de parámetros obtenidos, así como el valor del mejor desempeño (score) obtenido con la métrica f1. ¿Cuál es la utilidad de la métrica “f1-score”? Incluye tus conclusiones. \n",
        "\n",
        "NOTA: Toma en cuenta que no todas las combinaciones de solver” y “penalty” son posibles, para que lo tomes en cuenta al momento de realizar la búsqueda. Revisa la documentación. "
      ],
      "metadata": {
        "id": "BOj-gWnf6_z1"
      }
    },
    {
      "cell_type": "code",
      "source": [
        "modelo_CV = LogisticRegression(max_iter=9000, random_state=1) \n",
        "mi_pipeCV = Pipeline(steps=[(\"PreparaInfo\", cols_Transformer),(\"model\", modelo_CV)])\n",
        "mi_kfoldCV = RepeatedStratifiedKFold(n_splits=5, n_repeats=3)\n",
        "parametroC= [0.01, 0.1, 1, 10, 100, 1000]\n",
        "ParametrosGR = [{'model__penalty': ['l1'], 'model__solver': [ 'saga'], 'model__class_weight':['balanced', None], 'model__C': parametroC},\n",
        "                  {'model__penalty': ['l2'], 'model__solver': ['newton-cg', 'lbfgs', 'liblinear', 'sag', 'saga'], 'model__class_weight':['balanced', None], 'model__C': parametroC},\n",
        "                  {'model__penalty': ['elasticnet'], 'model__solver': ['saga'], 'model__class_weight':['balanced', None], 'model__C': parametroC, 'model__l1_ratio': [0.5]},\n",
        "                 ]\n",
        "\n",
        "gridFinal=  GridSearchCV (estimator =  mi_pipeCV, \n",
        "                            param_grid = ParametrosGR,\n",
        "                            scoring = make_scorer(f1Function),\n",
        "                            cv = mi_kfoldCV)\n",
        "\n",
        "gridFinal.fit(Xtrain, np.ravel(Ytrain))\n",
        "best_score = gridFinal.best_score_\n",
        "best_param = gridFinal.best_params_\n",
        "print(\"El mejor score es:\", best_score)\n",
        "print(\"El mejor parámetro es:\", best_param)"
      ],
      "metadata": {
        "colab": {
          "base_uri": "https://localhost:8080/"
        },
        "id": "_oa7QpPv78MG",
        "outputId": "4a295cef-4468-4d6f-83f6-dfb3e3ccfded"
      },
      "execution_count": 37,
      "outputs": [
        {
          "output_type": "stream",
          "name": "stdout",
          "text": [
            "El mejor score es: 0.9047716956382994\n",
            "El mejor parámetro es: {'model__C': 0.1, 'model__class_weight': None, 'model__penalty': 'l2', 'model__solver': 'newton-cg'}\n"
          ]
        }
      ]
    },
    {
      "cell_type": "markdown",
      "source": [
        "# 5b. Con los mejores valores de los hiperparámetros encontrados con la métrica “f1-score” para el modelo de regresión logística, obtener las curvas de aprendizaje (learning curve), incrementando el tamaño del conjunto de entrenamiento al menos 20 veces. Si lo crees adecuado, puedes hacer los ajustes que consideres adecuados para mejorar el resultado y evitar el sobreentrenamiento o el subentrenamiento. "
      ],
      "metadata": {
        "id": "2pKbP9Bn_r-L"
      }
    },
    {
      "cell_type": "code",
      "source": [
        "def graf_CV (Xin, parametro_C, penalizacion, resolutor):\n",
        "  modelo_CV = LogisticRegression(C=parametro_C, solver=resolutor, penalty=penalizacion, max_iter=8000, random_state=1)\n",
        "  pipe_CV = Pipeline(steps=[(\"PreparaInfo\", cols_Transformer),(\"RegresionLogistica\", modelo_CV)])\n",
        "  kfold_CV = RepeatedStratifiedKFold(n_splits=5, n_repeats=3)\n",
        "  train_size_CV = np.linspace(0.1, 1.0, 20)\n",
        "  tr_sizes, tr_scores, val_scores = learning_curve(estimator = pipe_CV ,    \n",
        "                                                        X = Xin,\n",
        "                                                        y = Ytrain.values.ravel(),\n",
        "                                                        cv = kfold_CV,\n",
        "                                                        train_sizes = train_size_CV ,\n",
        "                                                        scoring=make_scorer(f1Function))\n",
        "\n",
        "  mi_LearningCurvePlot(tr_sizes, tr_scores, val_scores)\n",
        "\n",
        "graf_CV(Xtrain, 0.1,'l2','saga')"
      ],
      "metadata": {
        "colab": {
          "base_uri": "https://localhost:8080/",
          "height": 410
        },
        "id": "ky71iZtl__-R",
        "outputId": "711cd860-d7a5-4e1c-cc87-a3ac508a780a"
      },
      "execution_count": 40,
      "outputs": [
        {
          "output_type": "display_data",
          "data": {
            "text/plain": [
              "<Figure size 504x432 with 1 Axes>"
            ],
            "image/png": "[encoded data removed]"
          },
          "metadata": {}
        }
      ]
    },
    {
      "cell_type": "markdown",
      "source": [
        "## 5c. Para el modelo de árbol de decisión (decision tree) realizar el entrenamiento buscando sus mejores hiperparámetros con GridSearchCV(). \n",
        "\n",
        "Los hiperparámetros que debes incluir en su búsqueda deben ser al menos los siguientes: ccp_alpha, criterion, max_depth, min_samples_split y class_weight. En este caso deberás usar la métrica (scoring) “precision”.  "
      ],
      "metadata": {
        "id": "6tCuWeldB6jp"
      }
    },
    {
      "cell_type": "code",
      "source": [
        "modelo_CV = DecisionTreeClassifier() \n",
        "mi_pipeCV = Pipeline(steps=[(\"PreparaInfo\", cols_Transformer),(\"model\", modelo_CV)]) \n",
        "mi_kfoldCV = RepeatedStratifiedKFold(n_splits=5, n_repeats=3)\n",
        "\n",
        "ParametrosGR = {'model__ccp_alpha':[0.01, 0.001, .0001, .00001],  \n",
        "              'model__criterion': ['gini', 'entropy'], \n",
        "              'model__max_depth':[2, 4, 6, 8, 10, 12], \n",
        "              'model__min_samples_split':[2, 4, 6,8,10], \n",
        "              'model__class_weight': ['balanced', None]}\n",
        "\n",
        "ArbolFinal=  GridSearchCV (estimator =  mi_pipeCV, \n",
        "                            param_grid = ParametrosGR,\n",
        "                            scoring = make_scorer(precisionFunction),\n",
        "                            cv = mi_kfoldCV)\n",
        "ArbolFinal.fit(Xtrain, np.ravel(Ytrain))"
      ],
      "metadata": {
        "colab": {
          "base_uri": "https://localhost:8080/"
        },
        "id": "qm_z4bhwB5yi",
        "outputId": "05cbf777-93e5-4b72-e9bb-1092b1812bbd"
      },
      "execution_count": 41,
      "outputs": [
        {
          "output_type": "execute_result",
          "data": {
            "text/plain": [
              "GridSearchCV(cv=RepeatedStratifiedKFold(n_repeats=3, n_splits=5, random_state=None),\n",
              "             estimator=Pipeline(steps=[('PreparaInfo',\n",
              "                                        ColumnTransformer(remainder='passthrough',\n",
              "                                                          transformers=[('quantitative',\n",
              "                                                                         Pipeline(steps=[('imputer',\n",
              "                                                                                          SimpleImputer()),\n",
              "                                                                                         ('scaler',\n",
              "                                                                                          MinMaxScaler())]),\n",
              "                                                                         ['duration',\n",
              "                                                                          'amount',\n",
              "                                                                          'age']),\n",
              "                                                                        ('categorical',\n",
              "                                                                         Pipeline(steps=[('imputer',\n",
              "                                                                                          SimpleImpute...\n",
              "                                                                                          OneHotEncoder(handle_unknown='ignore'))]),\n",
              "                                                                         ['people_liable',\n",
              "                                                                          'telephone',\n",
              "                                                                          'foreign_worker'])])),\n",
              "                                       ('model', DecisionTreeClassifier())]),\n",
              "             param_grid={'model__ccp_alpha': [0.01, 0.001, 0.0001, 1e-05],\n",
              "                         'model__class_weight': ['balanced', None],\n",
              "                         'model__criterion': ['gini', 'entropy'],\n",
              "                         'model__max_depth': [2, 4, 6, 8, 10, 12],\n",
              "                         'model__min_samples_split': [2, 4, 6, 8, 10]},\n",
              "             scoring=make_scorer(precisionFunction))"
            ]
          },
          "metadata": {},
          "execution_count": 41
        }
      ]
    },
    {
      "cell_type": "markdown",
      "source": [
        "## 5c. Imprime la mejor combinación de parámetros obtenidos, así como el valor del mejor desempeño (score) obtenido con la métrica “precision”."
      ],
      "metadata": {
        "id": "C-PN4_cIDsjE"
      }
    },
    {
      "cell_type": "code",
      "source": [
        "best_score = ArbolFinal.best_score_\n",
        "best_param = ArbolFinal.best_params_\n",
        "print(\"El mejor escor es:\", best_score)\n",
        "print(\"El mejor parametro es:\", best_param)"
      ],
      "metadata": {
        "colab": {
          "base_uri": "https://localhost:8080/"
        },
        "id": "gmvbR6brC7Eq",
        "outputId": "1f1b26ff-be00-47c7-fcd7-6397eb16241c"
      },
      "execution_count": 42,
      "outputs": [
        {
          "output_type": "stream",
          "name": "stdout",
          "text": [
            "El mejor escor es: 0.9179185022569396\n",
            "El mejor parametro es: {'model__ccp_alpha': 0.01, 'model__class_weight': 'balanced', 'model__criterion': 'entropy', 'model__max_depth': 2, 'model__min_samples_split': 2}\n"
          ]
        }
      ]
    },
    {
      "cell_type": "markdown",
      "source": [
        "## 5c. ¿Cuál es la utilidad de la métrica “precision”? Incluye tus conclusiones. "
      ],
      "metadata": {
        "id": "cmwcUuSpDuf3"
      }
    },
    {
      "cell_type": "markdown",
      "source": [],
      "metadata": {
        "id": "_a4lYTp2DypC"
      }
    },
    {
      "cell_type": "markdown",
      "source": [
        "## 5d. Con los mejores valores de los hiperparámetros encontrados con la métrica “precision” para el modelo de árbol de pecisión, obtener las curvas de aprendizaje (learning curve), incrementando el tamaño del conjunto de entrenamiento al menos 20 veces. \n",
        "\n",
        "Si lo crees adecuado, puedes hacer los ajustes que consideres adecuados para mejorar el resultado y evitar el sobreentrenamiento o el subentrenamiento. "
      ],
      "metadata": {
        "id": "HJ_AsB2vDzsR"
      }
    },
    {
      "cell_type": "code",
      "source": [
        "def mi_curvaRF(Xin2):\n",
        "  modeloDT2 = DecisionTreeClassifier(ccp_alpha=ArbolFinal.best_params_.get('model__ccp_alpha'),\n",
        "                                     criterion=ArbolFinal.best_params_.get('model__criterion'),\n",
        "                                     max_depth=ArbolFinal.best_params_.get('model__max_depth'),\n",
        "                                     min_samples_split=ArbolFinal.best_params_.get('model__min_samples_split')) \n",
        "   \n",
        "  mi_pipe = Pipeline(steps=[(\"PreparaInfo\", cols_Transformer),(\"ModeloDecisionTree\", modeloDT2)])\n",
        "  mi_kfold = RepeatedStratifiedKFold(n_splits=5, n_repeats=3)  \n",
        "  delta_train_sz = np.linspace(.1, 1, 20) \n",
        "  tr_sizes, tr_scores, val_scores = learning_curve(estimator = mi_pipe ,    \n",
        "                                                        X = Xin2,\n",
        "                                                        y = Ytrain,\n",
        "                                                        cv = mi_kfold ,\n",
        "                                                        train_sizes = delta_train_sz ,\n",
        "                                                        scoring=make_scorer(precisionFunction)) \n",
        "  mi_LearningCurvePlot(tr_sizes, tr_scores, val_scores) \n",
        "mi_curvaRF(Xtrain)"
      ],
      "metadata": {
        "colab": {
          "base_uri": "https://localhost:8080/",
          "height": 410
        },
        "id": "noaqDsZ0DzLj",
        "outputId": "c897b426-605c-4321-c766-ce66b7004112"
      },
      "execution_count": 43,
      "outputs": [
        {
          "output_type": "display_data",
          "data": {
            "text/plain": [
              "<Figure size 504x432 with 1 Axes>"
            ],
            "image/png": "[encoded data removed]"
          },
          "metadata": {}
        }
      ]
    },
    {
      "cell_type": "markdown",
      "source": [
        "## 5e. Para el modelo de bosque aleatorio (random forest) realizar el entrenamiento buscando sus mejores hiperparámetros con GridSearchCV(). Los hiperparámetros que debes incluir en su búsqueda deben ser al menos los siguientes: ccp_alpha, criterion, max_depth, min_samples_split y class_weight. En este caso deberás usar la métrica (scoring) “recall”. "
      ],
      "metadata": {
        "id": "36V-07cmE6TH"
      }
    },
    {
      "cell_type": "code",
      "source": [
        "modelo_CV = RandomForestClassifier() \n",
        "mi_pipeCV = Pipeline(steps=[(\"PreparaInfo\", cols_Transformer),(\"model\", modelo_CV)]) \n",
        "mi_kfoldCV = RepeatedStratifiedKFold(n_splits=5, n_repeats=3)\n",
        "\n",
        "ParametrosGRRF = {'model__ccp_alpha':[0.01, 0.001, .0001, .00001],  \n",
        "              'model__criterion': ['gini', 'entropy'], \n",
        "              'model__max_depth':[2, 4, 6, 8, 10, 12], \n",
        "              'model__min_samples_split':[2, 4, 6,8,10], \n",
        "              'model__class_weight': ['balanced', None]}\n",
        "\n",
        "BosqueFinal=  GridSearchCV (estimator =  mi_pipeCV, \n",
        "                            param_grid = ParametrosGRRF,\n",
        "                            scoring = make_scorer(recallFunction),\n",
        "                            cv = mi_kfoldCV)\n",
        "BosqueFinal.fit(Xtrain, np.ravel(Ytrain))"
      ],
      "metadata": {
        "colab": {
          "base_uri": "https://localhost:8080/"
        },
        "id": "E32RjR2ZFFUD",
        "outputId": "fc947a4c-631a-4fda-9933-717d277185bb"
      },
      "execution_count": 45,
      "outputs": [
        {
          "output_type": "execute_result",
          "data": {
            "text/plain": [
              "GridSearchCV(cv=RepeatedStratifiedKFold(n_repeats=3, n_splits=5, random_state=None),\n",
              "             estimator=Pipeline(steps=[('PreparaInfo',\n",
              "                                        ColumnTransformer(remainder='passthrough',\n",
              "                                                          transformers=[('quantitative',\n",
              "                                                                         Pipeline(steps=[('imputer',\n",
              "                                                                                          SimpleImputer()),\n",
              "                                                                                         ('scaler',\n",
              "                                                                                          MinMaxScaler())]),\n",
              "                                                                         ['duration',\n",
              "                                                                          'amount',\n",
              "                                                                          'age']),\n",
              "                                                                        ('categorical',\n",
              "                                                                         Pipeline(steps=[('imputer',\n",
              "                                                                                          SimpleImpute...\n",
              "                                                                                          OneHotEncoder(handle_unknown='ignore'))]),\n",
              "                                                                         ['people_liable',\n",
              "                                                                          'telephone',\n",
              "                                                                          'foreign_worker'])])),\n",
              "                                       ('model', RandomForestClassifier())]),\n",
              "             param_grid={'model__ccp_alpha': [0.01, 0.001, 0.0001, 1e-05],\n",
              "                         'model__class_weight': ['balanced', None],\n",
              "                         'model__criterion': ['gini', 'entropy'],\n",
              "                         'model__max_depth': [2, 4, 6, 8, 10, 12],\n",
              "                         'model__min_samples_split': [2, 4, 6, 8, 10]},\n",
              "             scoring=make_scorer(recallFunction))"
            ]
          },
          "metadata": {},
          "execution_count": 45
        }
      ]
    },
    {
      "cell_type": "markdown",
      "source": [
        "## 5e. Imprime la mejor combinación de parámetros obtenidos, así como el valor del mejor desempeño (score) obtenido con la métrica “recall”. \n",
        "\n",
        "NOTA: Toma en cuenta que el método de random forest pude tardar varios minutos en llevar a cabo  "
      ],
      "metadata": {
        "id": "jkagFCkYFrfX"
      }
    },
    {
      "cell_type": "code",
      "source": [
        "#Imprimimos los mejores valores\n",
        "print(\"best_score:\", BosqueFinal.best_score_)\n",
        "print(\"best_param:\", BosqueFinal.best_params_)"
      ],
      "metadata": {
        "colab": {
          "base_uri": "https://localhost:8080/"
        },
        "id": "ZtPu8_emFuNx",
        "outputId": "faa38817-d474-498a-bb22-9ccf19445f97"
      },
      "execution_count": 46,
      "outputs": [
        {
          "output_type": "stream",
          "name": "stdout",
          "text": [
            "best_score: 1.0\n",
            "best_param: {'model__ccp_alpha': 0.01, 'model__class_weight': None, 'model__criterion': 'gini', 'model__max_depth': 2, 'model__min_samples_split': 2}\n"
          ]
        }
      ]
    },
    {
      "cell_type": "markdown",
      "source": [
        "## 5e. ¿Cuál es la utilidad de la métrica “recall”? Incluye tus conclusiones.  "
      ],
      "metadata": {
        "id": "nmN1NQpWGhzC"
      }
    },
    {
      "cell_type": "markdown",
      "source": [],
      "metadata": {
        "id": "czj8CRO3GiJ9"
      }
    },
    {
      "cell_type": "markdown",
      "source": [
        "# 5f. Con los mejores valores de los hiperparámetros encontrados con la métrica “recall” para el modelo de bosque aleatorio, obtener las curvas de validación (validation curve), incrementando la complejidad del modelo a través del hiperparámetro “max_depth” con al menos 10 valores. \n",
        "\n",
        "Si lo crees adecuado, puedes hacer los ajustes que consideres adecuados para mejorar el resultado y evitar el sobreentrenamiento o el subentrenamiento. "
      ],
      "metadata": {
        "id": "Ag6oY2jPFxHL"
      }
    },
    {
      "cell_type": "code",
      "source": [
        "modeloRF = RandomForestClassifier(ccp_alpha=BosqueFinal.best_params_.get('model__ccp_alpha'),\n",
        "                                 criterion=BosqueFinal.best_params_.get('model__criterion'),\n",
        "                                 max_depth=10, \n",
        "                                 min_samples_split=BosqueFinal.best_params_.get('model__min_samples_split')) \n",
        "\n",
        "mi_pipe = Pipeline(steps=[(\"PreparaInfo\", cols_Transformer),(\"ModeloRandomForest\", modeloRF)])\n",
        "mi_kfold = RepeatedStratifiedKFold(n_splits=5, n_repeats=3)\n",
        "delta_train_sz = np.linspace(1,20,20, dtype=int) \n",
        "\n",
        "tr_scores, val_scores = validation_curve(estimator = mi_pipe ,\n",
        "                                                    X = Xtrain,\n",
        "                                                    y = Ytrain.values.ravel(),\n",
        "                                                    param_name=f\"ModeloRandomForest__max_depth\",\n",
        "                                                    param_range = delta_train_sz,\n",
        "                                                    cv = mi_kfold ,\n",
        "                                                    scoring=make_scorer(recallFunction))\n",
        "\n",
        "validation_curve(delta_train_sz, tr_scores, val_scores)"
      ],
      "metadata": {
        "id": "tnDYO63mGoXb"
      },
      "execution_count": null,
      "outputs": []
    },
    {
      "cell_type": "markdown",
      "source": [
        "# **MANU, ACÁ DEJÉ TU CÓDIGO**"
      ],
      "metadata": {
        "id": "K4JsRPGmIq4y"
      }
    },
    {
      "cell_type": "code",
      "source": [
        "#Los hiperparámetros que debes incluir en su búsqueda deben ser al menos los siguientes: C, solver, class_weight y penalty. En este caso deberás usar la métrica (scoring) “f1-score”\n",
        "#Regresión Logísitica:\n",
        "RegresionLogistica = LogisticRegression()\n",
        "RegresionLogistica.get_params()\n",
        "\n",
        "parametrosRL = {\"C\": (1.0, 0.8),\n",
        "              \"solver\": ('lbfgs','liblinear', 'newton-cg'),\n",
        "              'class_weight': ('balanced', 'None'),\n",
        "              \"penalty\": ('l1', 'l2')}\n",
        "\n",
        "rejillaLR = GridSearchCV(RegresionLogistica, parametrosRL, scoring = \"f1\")\n",
        "\n",
        "rejillaLR.fit(df[df.columns[:-1]].values, df[\"credit_risk\"].values)\n",
        "\n",
        "\n"
      ],
      "metadata": {
        "id": "jaDj3kawC9B6",
        "colab": {
          "base_uri": "https://localhost:8080/"
        },
        "outputId": "30a7d6a7-1487-4175-f28c-b730db978fc6"
      },
      "execution_count": 32,
      "outputs": [
        {
          "output_type": "stream",
          "name": "stderr",
          "text": [
            "/usr/local/lib/python3.7/dist-packages/sklearn/linear_model/_logistic.py:818: ConvergenceWarning: lbfgs failed to converge (status=1):\n",
            "STOP: TOTAL NO. of ITERATIONS REACHED LIMIT.\n",
            "\n",
            "Increase the number of iterations (max_iter) or scale the data as shown in:\n",
            "    https://scikit-learn.org/stable/modules/preprocessing.html\n",
            "Please also refer to the documentation for alternative solver options:\n",
            "    https://scikit-learn.org/stable/modules/linear_model.html#logistic-regression\n",
            "  extra_warning_msg=_LOGISTIC_SOLVER_CONVERGENCE_MSG,\n",
            "/usr/local/lib/python3.7/dist-packages/sklearn/linear_model/_logistic.py:818: ConvergenceWarning: lbfgs failed to converge (status=1):\n",
            "STOP: TOTAL NO. of ITERATIONS REACHED LIMIT.\n",
            "\n",
            "Increase the number of iterations (max_iter) or scale the data as shown in:\n",
            "    https://scikit-learn.org/stable/modules/preprocessing.html\n",
            "Please also refer to the documentation for alternative solver options:\n",
            "    https://scikit-learn.org/stable/modules/linear_model.html#logistic-regression\n",
            "  extra_warning_msg=_LOGISTIC_SOLVER_CONVERGENCE_MSG,\n",
            "/usr/local/lib/python3.7/dist-packages/sklearn/linear_model/_logistic.py:818: ConvergenceWarning: lbfgs failed to converge (status=1):\n",
            "STOP: TOTAL NO. of ITERATIONS REACHED LIMIT.\n",
            "\n",
            "Increase the number of iterations (max_iter) or scale the data as shown in:\n",
            "    https://scikit-learn.org/stable/modules/preprocessing.html\n",
            "Please also refer to the documentation for alternative solver options:\n",
            "    https://scikit-learn.org/stable/modules/linear_model.html#logistic-regression\n",
            "  extra_warning_msg=_LOGISTIC_SOLVER_CONVERGENCE_MSG,\n",
            "/usr/local/lib/python3.7/dist-packages/sklearn/linear_model/_logistic.py:818: ConvergenceWarning: lbfgs failed to converge (status=1):\n",
            "STOP: TOTAL NO. of ITERATIONS REACHED LIMIT.\n",
            "\n",
            "Increase the number of iterations (max_iter) or scale the data as shown in:\n",
            "    https://scikit-learn.org/stable/modules/preprocessing.html\n",
            "Please also refer to the documentation for alternative solver options:\n",
            "    https://scikit-learn.org/stable/modules/linear_model.html#logistic-regression\n",
            "  extra_warning_msg=_LOGISTIC_SOLVER_CONVERGENCE_MSG,\n",
            "/usr/local/lib/python3.7/dist-packages/sklearn/linear_model/_logistic.py:818: ConvergenceWarning: lbfgs failed to converge (status=1):\n",
            "STOP: TOTAL NO. of ITERATIONS REACHED LIMIT.\n",
            "\n",
            "Increase the number of iterations (max_iter) or scale the data as shown in:\n",
            "    https://scikit-learn.org/stable/modules/preprocessing.html\n",
            "Please also refer to the documentation for alternative solver options:\n",
            "    https://scikit-learn.org/stable/modules/linear_model.html#logistic-regression\n",
            "  extra_warning_msg=_LOGISTIC_SOLVER_CONVERGENCE_MSG,\n",
            "/usr/local/lib/python3.7/dist-packages/sklearn/linear_model/_logistic.py:818: ConvergenceWarning: lbfgs failed to converge (status=1):\n",
            "STOP: TOTAL NO. of ITERATIONS REACHED LIMIT.\n",
            "\n",
            "Increase the number of iterations (max_iter) or scale the data as shown in:\n",
            "    https://scikit-learn.org/stable/modules/preprocessing.html\n",
            "Please also refer to the documentation for alternative solver options:\n",
            "    https://scikit-learn.org/stable/modules/linear_model.html#logistic-regression\n",
            "  extra_warning_msg=_LOGISTIC_SOLVER_CONVERGENCE_MSG,\n",
            "/usr/local/lib/python3.7/dist-packages/sklearn/linear_model/_logistic.py:818: ConvergenceWarning: lbfgs failed to converge (status=1):\n",
            "STOP: TOTAL NO. of ITERATIONS REACHED LIMIT.\n",
            "\n",
            "Increase the number of iterations (max_iter) or scale the data as shown in:\n",
            "    https://scikit-learn.org/stable/modules/preprocessing.html\n",
            "Please also refer to the documentation for alternative solver options:\n",
            "    https://scikit-learn.org/stable/modules/linear_model.html#logistic-regression\n",
            "  extra_warning_msg=_LOGISTIC_SOLVER_CONVERGENCE_MSG,\n",
            "/usr/local/lib/python3.7/dist-packages/sklearn/linear_model/_logistic.py:818: ConvergenceWarning: lbfgs failed to converge (status=1):\n",
            "STOP: TOTAL NO. of ITERATIONS REACHED LIMIT.\n",
            "\n",
            "Increase the number of iterations (max_iter) or scale the data as shown in:\n",
            "    https://scikit-learn.org/stable/modules/preprocessing.html\n",
            "Please also refer to the documentation for alternative solver options:\n",
            "    https://scikit-learn.org/stable/modules/linear_model.html#logistic-regression\n",
            "  extra_warning_msg=_LOGISTIC_SOLVER_CONVERGENCE_MSG,\n",
            "/usr/local/lib/python3.7/dist-packages/sklearn/linear_model/_logistic.py:818: ConvergenceWarning: lbfgs failed to converge (status=1):\n",
            "STOP: TOTAL NO. of ITERATIONS REACHED LIMIT.\n",
            "\n",
            "Increase the number of iterations (max_iter) or scale the data as shown in:\n",
            "    https://scikit-learn.org/stable/modules/preprocessing.html\n",
            "Please also refer to the documentation for alternative solver options:\n",
            "    https://scikit-learn.org/stable/modules/linear_model.html#logistic-regression\n",
            "  extra_warning_msg=_LOGISTIC_SOLVER_CONVERGENCE_MSG,\n",
            "/usr/local/lib/python3.7/dist-packages/sklearn/linear_model/_logistic.py:818: ConvergenceWarning: lbfgs failed to converge (status=1):\n",
            "STOP: TOTAL NO. of ITERATIONS REACHED LIMIT.\n",
            "\n",
            "Increase the number of iterations (max_iter) or scale the data as shown in:\n",
            "    https://scikit-learn.org/stable/modules/preprocessing.html\n",
            "Please also refer to the documentation for alternative solver options:\n",
            "    https://scikit-learn.org/stable/modules/linear_model.html#logistic-regression\n",
            "  extra_warning_msg=_LOGISTIC_SOLVER_CONVERGENCE_MSG,\n",
            "/usr/local/lib/python3.7/dist-packages/sklearn/linear_model/_logistic.py:818: ConvergenceWarning: lbfgs failed to converge (status=1):\n",
            "STOP: TOTAL NO. of ITERATIONS REACHED LIMIT.\n",
            "\n",
            "Increase the number of iterations (max_iter) or scale the data as shown in:\n",
            "    https://scikit-learn.org/stable/modules/preprocessing.html\n",
            "Please also refer to the documentation for alternative solver options:\n",
            "    https://scikit-learn.org/stable/modules/linear_model.html#logistic-regression\n",
            "  extra_warning_msg=_LOGISTIC_SOLVER_CONVERGENCE_MSG,\n",
            "/usr/local/lib/python3.7/dist-packages/sklearn/linear_model/_logistic.py:818: ConvergenceWarning: lbfgs failed to converge (status=1):\n",
            "STOP: TOTAL NO. of ITERATIONS REACHED LIMIT.\n",
            "\n",
            "Increase the number of iterations (max_iter) or scale the data as shown in:\n",
            "    https://scikit-learn.org/stable/modules/preprocessing.html\n",
            "Please also refer to the documentation for alternative solver options:\n",
            "    https://scikit-learn.org/stable/modules/linear_model.html#logistic-regression\n",
            "  extra_warning_msg=_LOGISTIC_SOLVER_CONVERGENCE_MSG,\n",
            "/usr/local/lib/python3.7/dist-packages/sklearn/linear_model/_logistic.py:818: ConvergenceWarning: lbfgs failed to converge (status=1):\n",
            "STOP: TOTAL NO. of ITERATIONS REACHED LIMIT.\n",
            "\n",
            "Increase the number of iterations (max_iter) or scale the data as shown in:\n",
            "    https://scikit-learn.org/stable/modules/preprocessing.html\n",
            "Please also refer to the documentation for alternative solver options:\n",
            "    https://scikit-learn.org/stable/modules/linear_model.html#logistic-regression\n",
            "  extra_warning_msg=_LOGISTIC_SOLVER_CONVERGENCE_MSG,\n",
            "/usr/local/lib/python3.7/dist-packages/sklearn/linear_model/_logistic.py:818: ConvergenceWarning: lbfgs failed to converge (status=1):\n",
            "STOP: TOTAL NO. of ITERATIONS REACHED LIMIT.\n",
            "\n",
            "Increase the number of iterations (max_iter) or scale the data as shown in:\n",
            "    https://scikit-learn.org/stable/modules/preprocessing.html\n",
            "Please also refer to the documentation for alternative solver options:\n",
            "    https://scikit-learn.org/stable/modules/linear_model.html#logistic-regression\n",
            "  extra_warning_msg=_LOGISTIC_SOLVER_CONVERGENCE_MSG,\n",
            "/usr/local/lib/python3.7/dist-packages/sklearn/linear_model/_logistic.py:818: ConvergenceWarning: lbfgs failed to converge (status=1):\n",
            "STOP: TOTAL NO. of ITERATIONS REACHED LIMIT.\n",
            "\n",
            "Increase the number of iterations (max_iter) or scale the data as shown in:\n",
            "    https://scikit-learn.org/stable/modules/preprocessing.html\n",
            "Please also refer to the documentation for alternative solver options:\n",
            "    https://scikit-learn.org/stable/modules/linear_model.html#logistic-regression\n",
            "  extra_warning_msg=_LOGISTIC_SOLVER_CONVERGENCE_MSG,\n",
            "/usr/local/lib/python3.7/dist-packages/scipy/optimize/linesearch.py:478: LineSearchWarning: The line search algorithm did not converge\n",
            "  warn('The line search algorithm did not converge', LineSearchWarning)\n",
            "/usr/local/lib/python3.7/dist-packages/scipy/optimize/linesearch.py:327: LineSearchWarning: The line search algorithm did not converge\n",
            "  warn('The line search algorithm did not converge', LineSearchWarning)\n",
            "/usr/local/lib/python3.7/dist-packages/sklearn/linear_model/_logistic.py:818: ConvergenceWarning: lbfgs failed to converge (status=1):\n",
            "STOP: TOTAL NO. of ITERATIONS REACHED LIMIT.\n",
            "\n",
            "Increase the number of iterations (max_iter) or scale the data as shown in:\n",
            "    https://scikit-learn.org/stable/modules/preprocessing.html\n",
            "Please also refer to the documentation for alternative solver options:\n",
            "    https://scikit-learn.org/stable/modules/linear_model.html#logistic-regression\n",
            "  extra_warning_msg=_LOGISTIC_SOLVER_CONVERGENCE_MSG,\n",
            "/usr/local/lib/python3.7/dist-packages/sklearn/linear_model/_logistic.py:818: ConvergenceWarning: lbfgs failed to converge (status=1):\n",
            "STOP: TOTAL NO. of ITERATIONS REACHED LIMIT.\n",
            "\n",
            "Increase the number of iterations (max_iter) or scale the data as shown in:\n",
            "    https://scikit-learn.org/stable/modules/preprocessing.html\n",
            "Please also refer to the documentation for alternative solver options:\n",
            "    https://scikit-learn.org/stable/modules/linear_model.html#logistic-regression\n",
            "  extra_warning_msg=_LOGISTIC_SOLVER_CONVERGENCE_MSG,\n",
            "/usr/local/lib/python3.7/dist-packages/sklearn/linear_model/_logistic.py:818: ConvergenceWarning: lbfgs failed to converge (status=1):\n",
            "STOP: TOTAL NO. of ITERATIONS REACHED LIMIT.\n",
            "\n",
            "Increase the number of iterations (max_iter) or scale the data as shown in:\n",
            "    https://scikit-learn.org/stable/modules/preprocessing.html\n",
            "Please also refer to the documentation for alternative solver options:\n",
            "    https://scikit-learn.org/stable/modules/linear_model.html#logistic-regression\n",
            "  extra_warning_msg=_LOGISTIC_SOLVER_CONVERGENCE_MSG,\n",
            "/usr/local/lib/python3.7/dist-packages/sklearn/linear_model/_logistic.py:818: ConvergenceWarning: lbfgs failed to converge (status=1):\n",
            "STOP: TOTAL NO. of ITERATIONS REACHED LIMIT.\n",
            "\n",
            "Increase the number of iterations (max_iter) or scale the data as shown in:\n",
            "    https://scikit-learn.org/stable/modules/preprocessing.html\n",
            "Please also refer to the documentation for alternative solver options:\n",
            "    https://scikit-learn.org/stable/modules/linear_model.html#logistic-regression\n",
            "  extra_warning_msg=_LOGISTIC_SOLVER_CONVERGENCE_MSG,\n",
            "/usr/local/lib/python3.7/dist-packages/sklearn/linear_model/_logistic.py:818: ConvergenceWarning: lbfgs failed to converge (status=1):\n",
            "STOP: TOTAL NO. of ITERATIONS REACHED LIMIT.\n",
            "\n",
            "Increase the number of iterations (max_iter) or scale the data as shown in:\n",
            "    https://scikit-learn.org/stable/modules/preprocessing.html\n",
            "Please also refer to the documentation for alternative solver options:\n",
            "    https://scikit-learn.org/stable/modules/linear_model.html#logistic-regression\n",
            "  extra_warning_msg=_LOGISTIC_SOLVER_CONVERGENCE_MSG,\n",
            "/usr/local/lib/python3.7/dist-packages/scipy/optimize/linesearch.py:478: LineSearchWarning: The line search algorithm did not converge\n",
            "  warn('The line search algorithm did not converge', LineSearchWarning)\n",
            "/usr/local/lib/python3.7/dist-packages/scipy/optimize/linesearch.py:327: LineSearchWarning: The line search algorithm did not converge\n",
            "  warn('The line search algorithm did not converge', LineSearchWarning)\n",
            "/usr/local/lib/python3.7/dist-packages/sklearn/model_selection/_validation.py:372: FitFailedWarning: \n",
            "60 fits failed out of a total of 120.\n",
            "The score on these train-test partitions for these parameters will be set to nan.\n",
            "If these failures are not expected, you can try to debug them by setting error_score='raise'.\n",
            "\n",
            "Below are more details about the failures:\n",
            "--------------------------------------------------------------------------------\n",
            "20 fits failed with the following error:\n",
            "Traceback (most recent call last):\n",
            "  File \"/usr/local/lib/python3.7/dist-packages/sklearn/model_selection/_validation.py\", line 680, in _fit_and_score\n",
            "    estimator.fit(X_train, y_train, **fit_params)\n",
            "  File \"/usr/local/lib/python3.7/dist-packages/sklearn/linear_model/_logistic.py\", line 1461, in fit\n",
            "    solver = _check_solver(self.solver, self.penalty, self.dual)\n",
            "  File \"/usr/local/lib/python3.7/dist-packages/sklearn/linear_model/_logistic.py\", line 449, in _check_solver\n",
            "    % (solver, penalty)\n",
            "ValueError: Solver lbfgs supports only 'l2' or 'none' penalties, got l1 penalty.\n",
            "\n",
            "--------------------------------------------------------------------------------\n",
            "20 fits failed with the following error:\n",
            "Traceback (most recent call last):\n",
            "  File \"/usr/local/lib/python3.7/dist-packages/sklearn/model_selection/_validation.py\", line 680, in _fit_and_score\n",
            "    estimator.fit(X_train, y_train, **fit_params)\n",
            "  File \"/usr/local/lib/python3.7/dist-packages/sklearn/linear_model/_logistic.py\", line 1461, in fit\n",
            "    solver = _check_solver(self.solver, self.penalty, self.dual)\n",
            "  File \"/usr/local/lib/python3.7/dist-packages/sklearn/linear_model/_logistic.py\", line 449, in _check_solver\n",
            "    % (solver, penalty)\n",
            "ValueError: Solver newton-cg supports only 'l2' or 'none' penalties, got l1 penalty.\n",
            "\n",
            "--------------------------------------------------------------------------------\n",
            "20 fits failed with the following error:\n",
            "Traceback (most recent call last):\n",
            "  File \"/usr/local/lib/python3.7/dist-packages/sklearn/model_selection/_validation.py\", line 680, in _fit_and_score\n",
            "    estimator.fit(X_train, y_train, **fit_params)\n",
            "  File \"/usr/local/lib/python3.7/dist-packages/sklearn/linear_model/_logistic.py\", line 1541, in fit\n",
            "    sample_weight=sample_weight,\n",
            "  File \"/usr/local/lib/python3.7/dist-packages/sklearn/svm/_base.py\", line 1150, in _fit_liblinear\n",
            "    class_weight_ = compute_class_weight(class_weight, classes=classes_, y=y)\n",
            "  File \"/usr/local/lib/python3.7/dist-packages/sklearn/utils/class_weight.py\", line 59, in compute_class_weight\n",
            "    \"class_weight must be dict, 'balanced', or None, got: %r\" % class_weight\n",
            "ValueError: class_weight must be dict, 'balanced', or None, got: 'None'\n",
            "\n",
            "  warnings.warn(some_fits_failed_message, FitFailedWarning)\n",
            "/usr/local/lib/python3.7/dist-packages/sklearn/model_selection/_search.py:972: UserWarning: One or more of the test scores are non-finite: [       nan 0.75463941        nan 0.76125418 0.75690023 0.74827673\n",
            "        nan        nan        nan 0.82589993        nan 0.81658985\n",
            "        nan 0.75578401        nan 0.76070953 0.75649513 0.74765133\n",
            "        nan        nan        nan 0.82446069        nan 0.81709854]\n",
            "  category=UserWarning,\n",
            "/usr/local/lib/python3.7/dist-packages/sklearn/linear_model/_logistic.py:818: ConvergenceWarning: lbfgs failed to converge (status=1):\n",
            "STOP: TOTAL NO. of ITERATIONS REACHED LIMIT.\n",
            "\n",
            "Increase the number of iterations (max_iter) or scale the data as shown in:\n",
            "    https://scikit-learn.org/stable/modules/preprocessing.html\n",
            "Please also refer to the documentation for alternative solver options:\n",
            "    https://scikit-learn.org/stable/modules/linear_model.html#logistic-regression\n",
            "  extra_warning_msg=_LOGISTIC_SOLVER_CONVERGENCE_MSG,\n"
          ]
        },
        {
          "output_type": "execute_result",
          "data": {
            "text/plain": [
              "GridSearchCV(estimator=LogisticRegression(),\n",
              "             param_grid={'C': (1.0, 0.8), 'class_weight': ('balanced', 'None'),\n",
              "                         'penalty': ('l1', 'l2'),\n",
              "                         'solver': ('lbfgs', 'liblinear', 'newton-cg')},\n",
              "             scoring='f1')"
            ]
          },
          "metadata": {},
          "execution_count": 32
        }
      ]
    },
    {
      "cell_type": "code",
      "source": [
        "sorted(rejillaLR.cv_results_.keys())"
      ],
      "metadata": {
        "colab": {
          "base_uri": "https://localhost:8080/"
        },
        "id": "ZTB4MkyVje92",
        "outputId": "d50363e1-9f12-4802-f4ef-48bf9966b7cd"
      },
      "execution_count": null,
      "outputs": [
        {
          "output_type": "execute_result",
          "data": {
            "text/plain": [
              "['mean_fit_time',\n",
              " 'mean_score_time',\n",
              " 'mean_test_score',\n",
              " 'param_C',\n",
              " 'param_class_weight',\n",
              " 'param_penalty',\n",
              " 'param_solver',\n",
              " 'params',\n",
              " 'rank_test_score',\n",
              " 'split0_test_score',\n",
              " 'split1_test_score',\n",
              " 'split2_test_score',\n",
              " 'split3_test_score',\n",
              " 'split4_test_score',\n",
              " 'std_fit_time',\n",
              " 'std_score_time',\n",
              " 'std_test_score']"
            ]
          },
          "metadata": {},
          "execution_count": 68
        }
      ]
    },
    {
      "cell_type": "code",
      "source": [
        "rejillaLR.cv_results_['params']"
      ],
      "metadata": {
        "colab": {
          "base_uri": "https://localhost:8080/"
        },
        "id": "qST-TL9Zjs1p",
        "outputId": "52ab7739-3ee2-4a84-dbea-6d69366ac585"
      },
      "execution_count": null,
      "outputs": [
        {
          "output_type": "execute_result",
          "data": {
            "text/plain": [
              "[{'C': 1.0, 'class_weight': 'balanced', 'penalty': 'l1', 'solver': 'lbfgs'},\n",
              " {'C': 1.0,\n",
              "  'class_weight': 'balanced',\n",
              "  'penalty': 'l1',\n",
              "  'solver': 'liblinear'},\n",
              " {'C': 1.0,\n",
              "  'class_weight': 'balanced',\n",
              "  'penalty': 'l1',\n",
              "  'solver': 'newton-cg'},\n",
              " {'C': 1.0, 'class_weight': 'balanced', 'penalty': 'l2', 'solver': 'lbfgs'},\n",
              " {'C': 1.0,\n",
              "  'class_weight': 'balanced',\n",
              "  'penalty': 'l2',\n",
              "  'solver': 'liblinear'},\n",
              " {'C': 1.0,\n",
              "  'class_weight': 'balanced',\n",
              "  'penalty': 'l2',\n",
              "  'solver': 'newton-cg'},\n",
              " {'C': 1.0, 'class_weight': 'None', 'penalty': 'l1', 'solver': 'lbfgs'},\n",
              " {'C': 1.0, 'class_weight': 'None', 'penalty': 'l1', 'solver': 'liblinear'},\n",
              " {'C': 1.0, 'class_weight': 'None', 'penalty': 'l1', 'solver': 'newton-cg'},\n",
              " {'C': 1.0, 'class_weight': 'None', 'penalty': 'l2', 'solver': 'lbfgs'},\n",
              " {'C': 1.0, 'class_weight': 'None', 'penalty': 'l2', 'solver': 'liblinear'},\n",
              " {'C': 1.0, 'class_weight': 'None', 'penalty': 'l2', 'solver': 'newton-cg'},\n",
              " {'C': 0.8, 'class_weight': 'balanced', 'penalty': 'l1', 'solver': 'lbfgs'},\n",
              " {'C': 0.8,\n",
              "  'class_weight': 'balanced',\n",
              "  'penalty': 'l1',\n",
              "  'solver': 'liblinear'},\n",
              " {'C': 0.8,\n",
              "  'class_weight': 'balanced',\n",
              "  'penalty': 'l1',\n",
              "  'solver': 'newton-cg'},\n",
              " {'C': 0.8, 'class_weight': 'balanced', 'penalty': 'l2', 'solver': 'lbfgs'},\n",
              " {'C': 0.8,\n",
              "  'class_weight': 'balanced',\n",
              "  'penalty': 'l2',\n",
              "  'solver': 'liblinear'},\n",
              " {'C': 0.8,\n",
              "  'class_weight': 'balanced',\n",
              "  'penalty': 'l2',\n",
              "  'solver': 'newton-cg'},\n",
              " {'C': 0.8, 'class_weight': 'None', 'penalty': 'l1', 'solver': 'lbfgs'},\n",
              " {'C': 0.8, 'class_weight': 'None', 'penalty': 'l1', 'solver': 'liblinear'},\n",
              " {'C': 0.8, 'class_weight': 'None', 'penalty': 'l1', 'solver': 'newton-cg'},\n",
              " {'C': 0.8, 'class_weight': 'None', 'penalty': 'l2', 'solver': 'lbfgs'},\n",
              " {'C': 0.8, 'class_weight': 'None', 'penalty': 'l2', 'solver': 'liblinear'},\n",
              " {'C': 0.8, 'class_weight': 'None', 'penalty': 'l2', 'solver': 'newton-cg'}]"
            ]
          },
          "metadata": {},
          "execution_count": 69
        }
      ]
    },
    {
      "cell_type": "code",
      "source": [
        "#Decision Tree:\n",
        "\"\"\"\"Los hiperparámetros que debes incluir \n",
        "en su búsqueda deben ser al menos los siguientes: ccp_alpha, criterion, max_depth, \n",
        "min_samples_split y class_weight. En este caso deberás usar la métrica (scoring) \n",
        "“precision”\"\"\"\n",
        "\n",
        "ArbolDec = DecisionTreeClassifier()\n",
        "ArbolDec.get_params()\n",
        "\n",
        "parametrosArbolDec = {\"ccp_alpha\": np.array([0.0]),\n",
        "              \"criterion\": ('gini','entropy'),\n",
        "              \"min_samples_split\":(2,3),\n",
        "              }\n",
        "\n",
        "rejillaArbolDec = GridSearchCV(ArbolDec, parametrosArbolDec, scoring = \"precision\")\n",
        "\n"
      ],
      "metadata": {
        "id": "7F9K93QwflGQ"
      },
      "execution_count": null,
      "outputs": []
    },
    {
      "cell_type": "code",
      "source": [
        "\"\"\" Para el modelo de bosque aleatorio (random forest) realizar el entrenamiento buscando \n",
        "sus mejores hiperparámetros con GridSearchCV(). Los hiperparámetros que debes incluir \n",
        "en su búsqueda deben ser al menos los siguientes: ccp_alpha, criterion, max_depth, \n",
        "min_samples_split y class_weight. En este caso deberás usar la métrica (scoring) “recall”. \n",
        "Imprime la mejor combinación de parámetros obtenidos, así como el valor del mejor \n",
        "desempeño (score) obtenido con la métrica “recall”. ¿Cuál es la utilidad de la métrica \n",
        "“recall”? Incluye tus conclusiones.  \"\"\"\n",
        "\n",
        "\"\"\"parametros = {\"ccp_alpha\":,\n",
        "              \"criterion\": (\"gini\", \"entropy\"),\n",
        "              \"max_depth\":,\n",
        "              \"min_samples_split\":\n",
        "              \"class_weight\": \"\"\"\n",
        "\n",
        "bosque = RandomForestClassifier()\n",
        "bosque.get_params()\n",
        "parametros = {\"criterion\": (\"gini\", \"entropy\"),\n",
        "              \"n_estimators\": (10, 20 ,30),\n",
        "              \"max_samples\": (1/3, 2/3)}\n",
        "\n",
        "rejillaBosque = GridSearchCV(bosque, parametros, scoring = \"accuracy\")\n",
        "\n",
        "rejillaBosque.fit(df[df.columns[:-1]].values, \n",
        "            df[\"credit_risk\"].values)"
      ],
      "metadata": {
        "id": "4tQxQROVC9Us",
        "colab": {
          "base_uri": "https://localhost:8080/"
        },
        "outputId": "28f3f149-bffa-4ca8-bafe-0e976a5bd08e"
      },
      "execution_count": null,
      "outputs": [
        {
          "output_type": "execute_result",
          "data": {
            "text/plain": [
              "GridSearchCV(estimator=RandomForestClassifier(),\n",
              "             param_grid={'criterion': ('gini', 'entropy'),\n",
              "                         'max_samples': (0.3333333333333333,\n",
              "                                         0.6666666666666666),\n",
              "                         'n_estimators': (10, 20, 30)},\n",
              "             scoring='accuracy')"
            ]
          },
          "metadata": {},
          "execution_count": 62
        }
      ]
    },
    {
      "cell_type": "code",
      "source": [
        "sorted(rejillaBosque.cv_results_.keys())"
      ],
      "metadata": {
        "colab": {
          "base_uri": "https://localhost:8080/"
        },
        "id": "X0CTnmRd7-BT",
        "outputId": "95d63b0a-e028-4dd1-8d31-2079c600659d"
      },
      "execution_count": null,
      "outputs": [
        {
          "output_type": "execute_result",
          "data": {
            "text/plain": [
              "['mean_fit_time',\n",
              " 'mean_score_time',\n",
              " 'mean_test_score',\n",
              " 'param_criterion',\n",
              " 'param_max_samples',\n",
              " 'param_n_estimators',\n",
              " 'params',\n",
              " 'rank_test_score',\n",
              " 'split0_test_score',\n",
              " 'split1_test_score',\n",
              " 'split2_test_score',\n",
              " 'split3_test_score',\n",
              " 'split4_test_score',\n",
              " 'std_fit_time',\n",
              " 'std_score_time',\n",
              " 'std_test_score']"
            ]
          },
          "metadata": {},
          "execution_count": 63
        }
      ]
    },
    {
      "cell_type": "code",
      "source": [],
      "metadata": {
        "id": "qUU1I7HycEyH"
      },
      "execution_count": null,
      "outputs": []
    },
    {
      "cell_type": "markdown",
      "source": [
        "#**Ejercicio-6.**"
      ],
      "metadata": {
        "id": "W2S7LI0NC9wE"
      }
    },
    {
      "cell_type": "markdown",
      "source": [
        "## Para cada uno de estos tres modelos, con las métricas que se consideraron en cada caso y usando el conjunto de Prueba que no has utilizado hasta ahora, obtener los modelos finales como se te indica a continuación. \n",
        "\n",
        "Deberás usar además como conjunto de entrenamiento el llamado modelo de entrenamiento \"aumentado” que consiste en las datos que estuviste utilizando para entrenamiento y validación:  "
      ],
      "metadata": {
        "id": "lcQtaB0QI60N"
      }
    },
    {
      "cell_type": "markdown",
      "source": [
        "## 6a. Obtener el  modelo de regresión logística con los mejores parámetros que hayas encontrado con la métrica f1-score utilizada. \n",
        "\n",
        "Imprimir el valor de dicha métrica e incluye tus conclusiones finales para este caso. Incluir un gráfico del árbol de decisión final obtenido."
      ],
      "metadata": {
        "id": "GQ6H8oggJKiv"
      }
    },
    {
      "cell_type": "code",
      "source": [
        "None"
      ],
      "metadata": {
        "id": "x6uBleJUC_AU"
      },
      "execution_count": null,
      "outputs": []
    },
    {
      "cell_type": "markdown",
      "source": [
        "## 6b. Obtener el  modelo de árbol de decisiones con los mejores parámetros que hayas encontrado con la métrica “precision” utilizada. Imprimir el valor de dicha métrica e incluye tus conclusiones finales para este caso. "
      ],
      "metadata": {
        "id": "AGfACb6bJV66"
      }
    },
    {
      "cell_type": "code",
      "source": [],
      "metadata": {
        "id": "n0P_AcyjC_Dh"
      },
      "execution_count": null,
      "outputs": []
    },
    {
      "cell_type": "markdown",
      "source": [
        "## 6c. Obtener el  modelo de bosque aleatorio con los mejores parámetros que hayas encontrado con la métrica “recall” utilizada. Imprimir el valor de dicha métrica."
      ],
      "metadata": {
        "id": "z2UjHP-3JtIw"
      }
    },
    {
      "cell_type": "code",
      "source": [],
      "metadata": {
        "id": "wimVaVE6J1sY"
      },
      "execution_count": null,
      "outputs": []
    },
    {
      "cell_type": "markdown",
      "source": [
        "## Incluye tus conclusiones finales para este caso. "
      ],
      "metadata": {
        "id": "2lI8iMIVJ1H5"
      }
    },
    {
      "cell_type": "markdown",
      "source": [],
      "metadata": {
        "id": "PexgCjSBJ7Oj"
      }
    },
    {
      "cell_type": "markdown",
      "source": [
        "###**Fin de la Actividad de la semana 6.**"
      ],
      "metadata": {
        "id": "7ql_r2G-DB_m"
      }
    }
  ]
}