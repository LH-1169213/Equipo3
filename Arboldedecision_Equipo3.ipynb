{
  "nbformat": 4,
  "nbformat_minor": 0,
  "metadata": {
    "colab": {
      "provenance": [],
      "collapsed_sections": [],
      "include_colab_link": true
    },
    "kernelspec": {
      "display_name": "Python 3",
      "name": "python3"
    }
  },
  "cells": [
    {
      "cell_type": "markdown",
      "metadata": {
        "id": "view-in-github",
        "colab_type": "text"
      },
      "source": [
        "<a href=\"https://colab.research.google.com/github/LH-1169213/Equipo3/blob/main/Arboldedecision_Equipo3.ipynb\" target=\"_parent\"><img src=\"https://colab.research.google.com/assets/colab-badge.svg\" alt=\"Open In Colab\"/></a>"
      ]
    },
    {
      "cell_type": "markdown",
      "source": [
        "#**Maestría en Inteligencia Artificial Aplicada**\n",
        "##**Curso: Inteligencia Artificial y Aprendizaje Automático**\n",
        "###Tecnológico de Monterrey\n",
        "###Prof Luis Eduardo Falcón Morales\n",
        "\n",
        "## **Adtividad de la Semana 6**\n",
        "###**Árboles de decisión y bosque aleatorio.**\n"
      ],
      "metadata": {
        "id": "VFj0sSM06dYa"
      }
    },
    {
      "cell_type": "markdown",
      "source": [
        "**Nombres y matrículas de los integrantes del equipo:**\n",
        "\n",
        "*   Samara García González A01273001\n",
        "\n",
        "*   Laura Elena Hernández Mata A01169213\n",
        "*   Evelyn Aylin Rendon Medina A01748750\n",
        "\n",
        "*   Emmanuel González Calitl A01320739\n",
        "*   \n"
      ],
      "metadata": {
        "id": "Qgrvy0RGB9XI"
      }
    },
    {
      "cell_type": "markdown",
      "source": [
        "En cada sección deberás incluir todas las líneas de código necesarias para responder a cada uno de los ejercicios."
      ],
      "metadata": {
        "id": "FrJ2ahMODVj1"
      }
    },
    {
      "cell_type": "code",
      "source": [
        "# Incluye aquí todos módulos, librerías y paquetes que requieras.\n",
        "import pandas as pd\n",
        "import numpy as np\n",
        "import matplotlib.pyplot as plt #borrar si no se usa\n",
        "import seaborn as sns #borrar si no se usa\n",
        "\n",
        "from sklearn.pipeline import Pipeline\n",
        "from sklearn.model_selection import KFold\n",
        "from sklearn.compose import ColumnTransformer\n",
        "from sklearn.preprocessing import power_transform\n",
        "from sklearn.preprocessing import FunctionTransformer\n",
        "\n",
        "\n",
        "from sklearn.impute import SimpleImputer\n",
        "from sklearn.preprocessing import MinMaxScaler  \n",
        "from sklearn.linear_model import LogisticRegression\n",
        "\n",
        "from sklearn.model_selection import train_test_split # Xtv, Xtest, ytv, ytest = train_test_split(X, y, test_size=0.15, random_state=0)\n",
        "from sklearn.preprocessing import StandardScaler   #borrar si no se usa\n",
        "from sklearn.model_selection import RepeatedStratifiedKFold\n",
        "from sklearn.model_selection import learning_curve, validation_curve\n",
        "from sklearn.model_selection import  cross_validate\n",
        "\n",
        "from sklearn.preprocessing import OneHotEncoder\n",
        "from sklearn.tree import DecisionTreeClassifier\n",
        "from sklearn.ensemble import RandomForestClassifier\n",
        "from sklearn.model_selection import cross_val_score\n",
        "\n",
        "from sklearn.metrics import recall_score #SÓLO PARA VALIDACIÓN\n",
        "from sklearn.metrics import f1_score #SÓLO PARA VALIDACIÓN\n",
        "from sklearn.metrics import make_scorer #SÓLO PARA VALIDACIÓN\n",
        "from imblearn.metrics import geometric_mean_score #SÓLO PARA VALIDACIÓN\n",
        "from sklearn.metrics import confusion_matrix #SÓLO PARA VALIDACIÓN\n",
        "\n",
        "from sklearn import svm, datasets #borrar si no se usa\n",
        "from sklearn.model_selection import GridSearchCV\n"
      ],
      "metadata": {
        "id": "exXsscs-Dh-2"
      },
      "execution_count": 1,
      "outputs": []
    },
    {
      "cell_type": "markdown",
      "metadata": {
        "id": "X25brD-gQdZM"
      },
      "source": [
        "#**Ejercicio-1.** "
      ]
    },
    {
      "cell_type": "markdown",
      "source": [
        "## Carga los datos"
      ],
      "metadata": {
        "id": "AhW8T977Jgsc"
      }
    },
    {
      "cell_type": "code",
      "source": [
        "#OBTENIENDO DATASET\n",
        "DataOriginal = pd.read_csv(\"https://raw.githubusercontent.com/LH-1169213/Equipo3/main/SouthGermanCredit.asc\",sep = \" \")\n",
        "DataOriginal.head()"
      ],
      "metadata": {
        "colab": {
          "base_uri": "https://localhost:8080/",
          "height": 235
        },
        "id": "6ehBfL1RLSeB",
        "outputId": "c8e66ae1-7968-45d5-f9e4-51eddf7dbbb2"
      },
      "execution_count": 2,
      "outputs": [
        {
          "output_type": "execute_result",
          "data": {
            "text/plain": [
              "   laufkont  laufzeit  moral  verw  hoehe  sparkont  beszeit  rate  famges  \\\n",
              "0         1        18      4     2   1049         1        2     4       2   \n",
              "1         1         9      4     0   2799         1        3     2       3   \n",
              "2         2        12      2     9    841         2        4     2       2   \n",
              "3         1        12      4     0   2122         1        3     3       3   \n",
              "4         1        12      4     0   2171         1        3     4       3   \n",
              "\n",
              "   buerge  ...  verm  alter  weitkred  wohn  bishkred  beruf  pers  telef  \\\n",
              "0       1  ...     2     21         3     1         1      3     2      1   \n",
              "1       1  ...     1     36         3     1         2      3     1      1   \n",
              "2       1  ...     1     23         3     1         1      2     2      1   \n",
              "3       1  ...     1     39         3     1         2      2     1      1   \n",
              "4       1  ...     2     38         1     2         2      2     2      1   \n",
              "\n",
              "   gastarb  kredit  \n",
              "0        2       1  \n",
              "1        2       1  \n",
              "2        2       1  \n",
              "3        1       1  \n",
              "4        1       1  \n",
              "\n",
              "[5 rows x 21 columns]"
            ],
            "text/html": [
              "\n",
              "  <div id=\"df-42144045-4974-4fea-8049-2a4435bfc07b\">\n",
              "    <div class=\"colab-df-container\">\n",
              "      <div>\n",
              "<style scoped>\n",
              "    .dataframe tbody tr th:only-of-type {\n",
              "        vertical-align: middle;\n",
              "    }\n",
              "\n",
              "    .dataframe tbody tr th {\n",
              "        vertical-align: top;\n",
              "    }\n",
              "\n",
              "    .dataframe thead th {\n",
              "        text-align: right;\n",
              "    }\n",
              "</style>\n",
              "<table border=\"1\" class=\"dataframe\">\n",
              "  <thead>\n",
              "    <tr style=\"text-align: right;\">\n",
              "      <th></th>\n",
              "      <th>laufkont</th>\n",
              "      <th>laufzeit</th>\n",
              "      <th>moral</th>\n",
              "      <th>verw</th>\n",
              "      <th>hoehe</th>\n",
              "      <th>sparkont</th>\n",
              "      <th>beszeit</th>\n",
              "      <th>rate</th>\n",
              "      <th>famges</th>\n",
              "      <th>buerge</th>\n",
              "      <th>...</th>\n",
              "      <th>verm</th>\n",
              "      <th>alter</th>\n",
              "      <th>weitkred</th>\n",
              "      <th>wohn</th>\n",
              "      <th>bishkred</th>\n",
              "      <th>beruf</th>\n",
              "      <th>pers</th>\n",
              "      <th>telef</th>\n",
              "      <th>gastarb</th>\n",
              "      <th>kredit</th>\n",
              "    </tr>\n",
              "  </thead>\n",
              "  <tbody>\n",
              "    <tr>\n",
              "      <th>0</th>\n",
              "      <td>1</td>\n",
              "      <td>18</td>\n",
              "      <td>4</td>\n",
              "      <td>2</td>\n",
              "      <td>1049</td>\n",
              "      <td>1</td>\n",
              "      <td>2</td>\n",
              "      <td>4</td>\n",
              "      <td>2</td>\n",
              "      <td>1</td>\n",
              "      <td>...</td>\n",
              "      <td>2</td>\n",
              "      <td>21</td>\n",
              "      <td>3</td>\n",
              "      <td>1</td>\n",
              "      <td>1</td>\n",
              "      <td>3</td>\n",
              "      <td>2</td>\n",
              "      <td>1</td>\n",
              "      <td>2</td>\n",
              "      <td>1</td>\n",
              "    </tr>\n",
              "    <tr>\n",
              "      <th>1</th>\n",
              "      <td>1</td>\n",
              "      <td>9</td>\n",
              "      <td>4</td>\n",
              "      <td>0</td>\n",
              "      <td>2799</td>\n",
              "      <td>1</td>\n",
              "      <td>3</td>\n",
              "      <td>2</td>\n",
              "      <td>3</td>\n",
              "      <td>1</td>\n",
              "      <td>...</td>\n",
              "      <td>1</td>\n",
              "      <td>36</td>\n",
              "      <td>3</td>\n",
              "      <td>1</td>\n",
              "      <td>2</td>\n",
              "      <td>3</td>\n",
              "      <td>1</td>\n",
              "      <td>1</td>\n",
              "      <td>2</td>\n",
              "      <td>1</td>\n",
              "    </tr>\n",
              "    <tr>\n",
              "      <th>2</th>\n",
              "      <td>2</td>\n",
              "      <td>12</td>\n",
              "      <td>2</td>\n",
              "      <td>9</td>\n",
              "      <td>841</td>\n",
              "      <td>2</td>\n",
              "      <td>4</td>\n",
              "      <td>2</td>\n",
              "      <td>2</td>\n",
              "      <td>1</td>\n",
              "      <td>...</td>\n",
              "      <td>1</td>\n",
              "      <td>23</td>\n",
              "      <td>3</td>\n",
              "      <td>1</td>\n",
              "      <td>1</td>\n",
              "      <td>2</td>\n",
              "      <td>2</td>\n",
              "      <td>1</td>\n",
              "      <td>2</td>\n",
              "      <td>1</td>\n",
              "    </tr>\n",
              "    <tr>\n",
              "      <th>3</th>\n",
              "      <td>1</td>\n",
              "      <td>12</td>\n",
              "      <td>4</td>\n",
              "      <td>0</td>\n",
              "      <td>2122</td>\n",
              "      <td>1</td>\n",
              "      <td>3</td>\n",
              "      <td>3</td>\n",
              "      <td>3</td>\n",
              "      <td>1</td>\n",
              "      <td>...</td>\n",
              "      <td>1</td>\n",
              "      <td>39</td>\n",
              "      <td>3</td>\n",
              "      <td>1</td>\n",
              "      <td>2</td>\n",
              "      <td>2</td>\n",
              "      <td>1</td>\n",
              "      <td>1</td>\n",
              "      <td>1</td>\n",
              "      <td>1</td>\n",
              "    </tr>\n",
              "    <tr>\n",
              "      <th>4</th>\n",
              "      <td>1</td>\n",
              "      <td>12</td>\n",
              "      <td>4</td>\n",
              "      <td>0</td>\n",
              "      <td>2171</td>\n",
              "      <td>1</td>\n",
              "      <td>3</td>\n",
              "      <td>4</td>\n",
              "      <td>3</td>\n",
              "      <td>1</td>\n",
              "      <td>...</td>\n",
              "      <td>2</td>\n",
              "      <td>38</td>\n",
              "      <td>1</td>\n",
              "      <td>2</td>\n",
              "      <td>2</td>\n",
              "      <td>2</td>\n",
              "      <td>2</td>\n",
              "      <td>1</td>\n",
              "      <td>1</td>\n",
              "      <td>1</td>\n",
              "    </tr>\n",
              "  </tbody>\n",
              "</table>\n",
              "<p>5 rows × 21 columns</p>\n",
              "</div>\n",
              "      <button class=\"colab-df-convert\" onclick=\"convertToInteractive('df-42144045-4974-4fea-8049-2a4435bfc07b')\"\n",
              "              title=\"Convert this dataframe to an interactive table.\"\n",
              "              style=\"display:none;\">\n",
              "        \n",
              "  <svg xmlns=\"http://www.w3.org/2000/svg\" height=\"24px\"viewBox=\"0 0 24 24\"\n",
              "       width=\"24px\">\n",
              "    <path d=\"M0 0h24v24H0V0z\" fill=\"none\"/>\n",
              "    <path d=\"M18.56 5.44l.94 2.06.94-2.06 2.06-.94-2.06-.94-.94-2.06-.94 2.06-2.06.94zm-11 1L8.5 8.5l.94-2.06 2.06-.94-2.06-.94L8.5 2.5l-.94 2.06-2.06.94zm10 10l.94 2.06.94-2.06 2.06-.94-2.06-.94-.94-2.06-.94 2.06-2.06.94z\"/><path d=\"M17.41 7.96l-1.37-1.37c-.4-.4-.92-.59-1.43-.59-.52 0-1.04.2-1.43.59L10.3 9.45l-7.72 7.72c-.78.78-.78 2.05 0 2.83L4 21.41c.39.39.9.59 1.41.59.51 0 1.02-.2 1.41-.59l7.78-7.78 2.81-2.81c.8-.78.8-2.07 0-2.86zM5.41 20L4 18.59l7.72-7.72 1.47 1.35L5.41 20z\"/>\n",
              "  </svg>\n",
              "      </button>\n",
              "      \n",
              "  <style>\n",
              "    .colab-df-container {\n",
              "      display:flex;\n",
              "      flex-wrap:wrap;\n",
              "      gap: 12px;\n",
              "    }\n",
              "\n",
              "    .colab-df-convert {\n",
              "      background-color: #E8F0FE;\n",
              "      border: none;\n",
              "      border-radius: 50%;\n",
              "      cursor: pointer;\n",
              "      display: none;\n",
              "      fill: #1967D2;\n",
              "      height: 32px;\n",
              "      padding: 0 0 0 0;\n",
              "      width: 32px;\n",
              "    }\n",
              "\n",
              "    .colab-df-convert:hover {\n",
              "      background-color: #E2EBFA;\n",
              "      box-shadow: 0px 1px 2px rgba(60, 64, 67, 0.3), 0px 1px 3px 1px rgba(60, 64, 67, 0.15);\n",
              "      fill: #174EA6;\n",
              "    }\n",
              "\n",
              "    [theme=dark] .colab-df-convert {\n",
              "      background-color: #3B4455;\n",
              "      fill: #D2E3FC;\n",
              "    }\n",
              "\n",
              "    [theme=dark] .colab-df-convert:hover {\n",
              "      background-color: #434B5C;\n",
              "      box-shadow: 0px 1px 3px 1px rgba(0, 0, 0, 0.15);\n",
              "      filter: drop-shadow(0px 1px 2px rgba(0, 0, 0, 0.3));\n",
              "      fill: #FFFFFF;\n",
              "    }\n",
              "  </style>\n",
              "\n",
              "      <script>\n",
              "        const buttonEl =\n",
              "          document.querySelector('#df-42144045-4974-4fea-8049-2a4435bfc07b button.colab-df-convert');\n",
              "        buttonEl.style.display =\n",
              "          google.colab.kernel.accessAllowed ? 'block' : 'none';\n",
              "\n",
              "        async function convertToInteractive(key) {\n",
              "          const element = document.querySelector('#df-42144045-4974-4fea-8049-2a4435bfc07b');\n",
              "          const dataTable =\n",
              "            await google.colab.kernel.invokeFunction('convertToInteractive',\n",
              "                                                     [key], {});\n",
              "          if (!dataTable) return;\n",
              "\n",
              "          const docLinkHtml = 'Like what you see? Visit the ' +\n",
              "            '<a target=\"_blank\" href=https://colab.research.google.com/notebooks/data_table.ipynb>data table notebook</a>'\n",
              "            + ' to learn more about interactive tables.';\n",
              "          element.innerHTML = '';\n",
              "          dataTable['output_type'] = 'display_data';\n",
              "          await google.colab.output.renderOutput(dataTable, element);\n",
              "          const docLink = document.createElement('div');\n",
              "          docLink.innerHTML = docLinkHtml;\n",
              "          element.appendChild(docLink);\n",
              "        }\n",
              "      </script>\n",
              "    </div>\n",
              "  </div>\n",
              "  "
            ]
          },
          "metadata": {},
          "execution_count": 2
        }
      ]
    },
    {
      "cell_type": "markdown",
      "source": [
        "## Sustituye los nombres de las columnas del alemán al inglés de acuerdo a como se indica en la página de la UCI."
      ],
      "metadata": {
        "id": "rA9eU3lRJnhx"
      }
    },
    {
      "cell_type": "code",
      "source": [
        "#HACEMOS UNA COPIA PARA CAMBIAR HEADERS\n",
        "df = DataOriginal\n",
        "df = df.rename(columns={\"laufkont\":\"status\",\n",
        "                        \"laufzeit\":\"duration\",\n",
        "                        \"moral\":\"credit_history\",\n",
        "                        \"verw\":\"purpose\",\n",
        "                        \"hoehe\":\"amount\",\n",
        "                        \"sparkont\":\"savings\",\n",
        "                        \"beszeit\":\"employment_duration\",\n",
        "                        \"rate\":\"installment_rate\",\n",
        "                        \"famges\":\"personal_status_sex\",\n",
        "                        \"buerge\":\"other_debtors\",\n",
        "                        \"wohnzeit\":\"present_residence\",\n",
        "                        \"verm\":\"property\",\n",
        "                        \"alter\":\"age\",\n",
        "                        \"weitkred\":\"other_installment_plans\",\n",
        "                        \"wohn\":\"housing\",\n",
        "                        \"bishkred\":\"number_credits\",\n",
        "                        \"beruf\":\"job\",\n",
        "                        \"pers\":\"people_liable\",\n",
        "                        \"telef\":\"telephone\",\n",
        "                        \"gastarb\":\"foreign_worker\",\n",
        "                        \"kredit\":\"credit_risk\"})\n",
        "df.head()"
      ],
      "metadata": {
        "colab": {
          "base_uri": "https://localhost:8080/",
          "height": 299
        },
        "id": "XdNVcG4KVQ91",
        "outputId": "ba76e244-6d57-4bad-9893-bf77ffd22fe7"
      },
      "execution_count": 3,
      "outputs": [
        {
          "output_type": "execute_result",
          "data": {
            "text/plain": [
              "   status  duration  credit_history  purpose  amount  savings  \\\n",
              "0       1        18               4        2    1049        1   \n",
              "1       1         9               4        0    2799        1   \n",
              "2       2        12               2        9     841        2   \n",
              "3       1        12               4        0    2122        1   \n",
              "4       1        12               4        0    2171        1   \n",
              "\n",
              "   employment_duration  installment_rate  personal_status_sex  other_debtors  \\\n",
              "0                    2                 4                    2              1   \n",
              "1                    3                 2                    3              1   \n",
              "2                    4                 2                    2              1   \n",
              "3                    3                 3                    3              1   \n",
              "4                    3                 4                    3              1   \n",
              "\n",
              "   ...  property  age  other_installment_plans  housing  number_credits  job  \\\n",
              "0  ...         2   21                        3        1               1    3   \n",
              "1  ...         1   36                        3        1               2    3   \n",
              "2  ...         1   23                        3        1               1    2   \n",
              "3  ...         1   39                        3        1               2    2   \n",
              "4  ...         2   38                        1        2               2    2   \n",
              "\n",
              "   people_liable  telephone  foreign_worker  credit_risk  \n",
              "0              2          1               2            1  \n",
              "1              1          1               2            1  \n",
              "2              2          1               2            1  \n",
              "3              1          1               1            1  \n",
              "4              2          1               1            1  \n",
              "\n",
              "[5 rows x 21 columns]"
            ],
            "text/html": [
              "\n",
              "  <div id=\"df-77e7ea77-3b9f-43da-9f03-88015e20d223\">\n",
              "    <div class=\"colab-df-container\">\n",
              "      <div>\n",
              "<style scoped>\n",
              "    .dataframe tbody tr th:only-of-type {\n",
              "        vertical-align: middle;\n",
              "    }\n",
              "\n",
              "    .dataframe tbody tr th {\n",
              "        vertical-align: top;\n",
              "    }\n",
              "\n",
              "    .dataframe thead th {\n",
              "        text-align: right;\n",
              "    }\n",
              "</style>\n",
              "<table border=\"1\" class=\"dataframe\">\n",
              "  <thead>\n",
              "    <tr style=\"text-align: right;\">\n",
              "      <th></th>\n",
              "      <th>status</th>\n",
              "      <th>duration</th>\n",
              "      <th>credit_history</th>\n",
              "      <th>purpose</th>\n",
              "      <th>amount</th>\n",
              "      <th>savings</th>\n",
              "      <th>employment_duration</th>\n",
              "      <th>installment_rate</th>\n",
              "      <th>personal_status_sex</th>\n",
              "      <th>other_debtors</th>\n",
              "      <th>...</th>\n",
              "      <th>property</th>\n",
              "      <th>age</th>\n",
              "      <th>other_installment_plans</th>\n",
              "      <th>housing</th>\n",
              "      <th>number_credits</th>\n",
              "      <th>job</th>\n",
              "      <th>people_liable</th>\n",
              "      <th>telephone</th>\n",
              "      <th>foreign_worker</th>\n",
              "      <th>credit_risk</th>\n",
              "    </tr>\n",
              "  </thead>\n",
              "  <tbody>\n",
              "    <tr>\n",
              "      <th>0</th>\n",
              "      <td>1</td>\n",
              "      <td>18</td>\n",
              "      <td>4</td>\n",
              "      <td>2</td>\n",
              "      <td>1049</td>\n",
              "      <td>1</td>\n",
              "      <td>2</td>\n",
              "      <td>4</td>\n",
              "      <td>2</td>\n",
              "      <td>1</td>\n",
              "      <td>...</td>\n",
              "      <td>2</td>\n",
              "      <td>21</td>\n",
              "      <td>3</td>\n",
              "      <td>1</td>\n",
              "      <td>1</td>\n",
              "      <td>3</td>\n",
              "      <td>2</td>\n",
              "      <td>1</td>\n",
              "      <td>2</td>\n",
              "      <td>1</td>\n",
              "    </tr>\n",
              "    <tr>\n",
              "      <th>1</th>\n",
              "      <td>1</td>\n",
              "      <td>9</td>\n",
              "      <td>4</td>\n",
              "      <td>0</td>\n",
              "      <td>2799</td>\n",
              "      <td>1</td>\n",
              "      <td>3</td>\n",
              "      <td>2</td>\n",
              "      <td>3</td>\n",
              "      <td>1</td>\n",
              "      <td>...</td>\n",
              "      <td>1</td>\n",
              "      <td>36</td>\n",
              "      <td>3</td>\n",
              "      <td>1</td>\n",
              "      <td>2</td>\n",
              "      <td>3</td>\n",
              "      <td>1</td>\n",
              "      <td>1</td>\n",
              "      <td>2</td>\n",
              "      <td>1</td>\n",
              "    </tr>\n",
              "    <tr>\n",
              "      <th>2</th>\n",
              "      <td>2</td>\n",
              "      <td>12</td>\n",
              "      <td>2</td>\n",
              "      <td>9</td>\n",
              "      <td>841</td>\n",
              "      <td>2</td>\n",
              "      <td>4</td>\n",
              "      <td>2</td>\n",
              "      <td>2</td>\n",
              "      <td>1</td>\n",
              "      <td>...</td>\n",
              "      <td>1</td>\n",
              "      <td>23</td>\n",
              "      <td>3</td>\n",
              "      <td>1</td>\n",
              "      <td>1</td>\n",
              "      <td>2</td>\n",
              "      <td>2</td>\n",
              "      <td>1</td>\n",
              "      <td>2</td>\n",
              "      <td>1</td>\n",
              "    </tr>\n",
              "    <tr>\n",
              "      <th>3</th>\n",
              "      <td>1</td>\n",
              "      <td>12</td>\n",
              "      <td>4</td>\n",
              "      <td>0</td>\n",
              "      <td>2122</td>\n",
              "      <td>1</td>\n",
              "      <td>3</td>\n",
              "      <td>3</td>\n",
              "      <td>3</td>\n",
              "      <td>1</td>\n",
              "      <td>...</td>\n",
              "      <td>1</td>\n",
              "      <td>39</td>\n",
              "      <td>3</td>\n",
              "      <td>1</td>\n",
              "      <td>2</td>\n",
              "      <td>2</td>\n",
              "      <td>1</td>\n",
              "      <td>1</td>\n",
              "      <td>1</td>\n",
              "      <td>1</td>\n",
              "    </tr>\n",
              "    <tr>\n",
              "      <th>4</th>\n",
              "      <td>1</td>\n",
              "      <td>12</td>\n",
              "      <td>4</td>\n",
              "      <td>0</td>\n",
              "      <td>2171</td>\n",
              "      <td>1</td>\n",
              "      <td>3</td>\n",
              "      <td>4</td>\n",
              "      <td>3</td>\n",
              "      <td>1</td>\n",
              "      <td>...</td>\n",
              "      <td>2</td>\n",
              "      <td>38</td>\n",
              "      <td>1</td>\n",
              "      <td>2</td>\n",
              "      <td>2</td>\n",
              "      <td>2</td>\n",
              "      <td>2</td>\n",
              "      <td>1</td>\n",
              "      <td>1</td>\n",
              "      <td>1</td>\n",
              "    </tr>\n",
              "  </tbody>\n",
              "</table>\n",
              "<p>5 rows × 21 columns</p>\n",
              "</div>\n",
              "      <button class=\"colab-df-convert\" onclick=\"convertToInteractive('df-77e7ea77-3b9f-43da-9f03-88015e20d223')\"\n",
              "              title=\"Convert this dataframe to an interactive table.\"\n",
              "              style=\"display:none;\">\n",
              "        \n",
              "  <svg xmlns=\"http://www.w3.org/2000/svg\" height=\"24px\"viewBox=\"0 0 24 24\"\n",
              "       width=\"24px\">\n",
              "    <path d=\"M0 0h24v24H0V0z\" fill=\"none\"/>\n",
              "    <path d=\"M18.56 5.44l.94 2.06.94-2.06 2.06-.94-2.06-.94-.94-2.06-.94 2.06-2.06.94zm-11 1L8.5 8.5l.94-2.06 2.06-.94-2.06-.94L8.5 2.5l-.94 2.06-2.06.94zm10 10l.94 2.06.94-2.06 2.06-.94-2.06-.94-.94-2.06-.94 2.06-2.06.94z\"/><path d=\"M17.41 7.96l-1.37-1.37c-.4-.4-.92-.59-1.43-.59-.52 0-1.04.2-1.43.59L10.3 9.45l-7.72 7.72c-.78.78-.78 2.05 0 2.83L4 21.41c.39.39.9.59 1.41.59.51 0 1.02-.2 1.41-.59l7.78-7.78 2.81-2.81c.8-.78.8-2.07 0-2.86zM5.41 20L4 18.59l7.72-7.72 1.47 1.35L5.41 20z\"/>\n",
              "  </svg>\n",
              "      </button>\n",
              "      \n",
              "  <style>\n",
              "    .colab-df-container {\n",
              "      display:flex;\n",
              "      flex-wrap:wrap;\n",
              "      gap: 12px;\n",
              "    }\n",
              "\n",
              "    .colab-df-convert {\n",
              "      background-color: #E8F0FE;\n",
              "      border: none;\n",
              "      border-radius: 50%;\n",
              "      cursor: pointer;\n",
              "      display: none;\n",
              "      fill: #1967D2;\n",
              "      height: 32px;\n",
              "      padding: 0 0 0 0;\n",
              "      width: 32px;\n",
              "    }\n",
              "\n",
              "    .colab-df-convert:hover {\n",
              "      background-color: #E2EBFA;\n",
              "      box-shadow: 0px 1px 2px rgba(60, 64, 67, 0.3), 0px 1px 3px 1px rgba(60, 64, 67, 0.15);\n",
              "      fill: #174EA6;\n",
              "    }\n",
              "\n",
              "    [theme=dark] .colab-df-convert {\n",
              "      background-color: #3B4455;\n",
              "      fill: #D2E3FC;\n",
              "    }\n",
              "\n",
              "    [theme=dark] .colab-df-convert:hover {\n",
              "      background-color: #434B5C;\n",
              "      box-shadow: 0px 1px 3px 1px rgba(0, 0, 0, 0.15);\n",
              "      filter: drop-shadow(0px 1px 2px rgba(0, 0, 0, 0.3));\n",
              "      fill: #FFFFFF;\n",
              "    }\n",
              "  </style>\n",
              "\n",
              "      <script>\n",
              "        const buttonEl =\n",
              "          document.querySelector('#df-77e7ea77-3b9f-43da-9f03-88015e20d223 button.colab-df-convert');\n",
              "        buttonEl.style.display =\n",
              "          google.colab.kernel.accessAllowed ? 'block' : 'none';\n",
              "\n",
              "        async function convertToInteractive(key) {\n",
              "          const element = document.querySelector('#df-77e7ea77-3b9f-43da-9f03-88015e20d223');\n",
              "          const dataTable =\n",
              "            await google.colab.kernel.invokeFunction('convertToInteractive',\n",
              "                                                     [key], {});\n",
              "          if (!dataTable) return;\n",
              "\n",
              "          const docLinkHtml = 'Like what you see? Visit the ' +\n",
              "            '<a target=\"_blank\" href=https://colab.research.google.com/notebooks/data_table.ipynb>data table notebook</a>'\n",
              "            + ' to learn more about interactive tables.';\n",
              "          element.innerHTML = '';\n",
              "          dataTable['output_type'] = 'display_data';\n",
              "          await google.colab.output.renderOutput(dataTable, element);\n",
              "          const docLink = document.createElement('div');\n",
              "          docLink.innerHTML = docLinkHtml;\n",
              "          element.appendChild(docLink);\n",
              "        }\n",
              "      </script>\n",
              "    </div>\n",
              "  </div>\n",
              "  "
            ]
          },
          "metadata": {},
          "execution_count": 3
        }
      ]
    },
    {
      "cell_type": "code",
      "source": [
        "# CONOCIENDO EL DATASET\n",
        "df.info()"
      ],
      "metadata": {
        "colab": {
          "base_uri": "https://localhost:8080/"
        },
        "id": "NAFda1gcG-mo",
        "outputId": "ff471787-1b27-4c3d-951d-ca48856be318"
      },
      "execution_count": 4,
      "outputs": [
        {
          "output_type": "stream",
          "name": "stdout",
          "text": [
            "<class 'pandas.core.frame.DataFrame'>\n",
            "RangeIndex: 1000 entries, 0 to 999\n",
            "Data columns (total 21 columns):\n",
            " #   Column                   Non-Null Count  Dtype\n",
            "---  ------                   --------------  -----\n",
            " 0   status                   1000 non-null   int64\n",
            " 1   duration                 1000 non-null   int64\n",
            " 2   credit_history           1000 non-null   int64\n",
            " 3   purpose                  1000 non-null   int64\n",
            " 4   amount                   1000 non-null   int64\n",
            " 5   savings                  1000 non-null   int64\n",
            " 6   employment_duration      1000 non-null   int64\n",
            " 7   installment_rate         1000 non-null   int64\n",
            " 8   personal_status_sex      1000 non-null   int64\n",
            " 9   other_debtors            1000 non-null   int64\n",
            " 10  present_residence        1000 non-null   int64\n",
            " 11  property                 1000 non-null   int64\n",
            " 12  age                      1000 non-null   int64\n",
            " 13  other_installment_plans  1000 non-null   int64\n",
            " 14  housing                  1000 non-null   int64\n",
            " 15  number_credits           1000 non-null   int64\n",
            " 16  job                      1000 non-null   int64\n",
            " 17  people_liable            1000 non-null   int64\n",
            " 18  telephone                1000 non-null   int64\n",
            " 19  foreign_worker           1000 non-null   int64\n",
            " 20  credit_risk              1000 non-null   int64\n",
            "dtypes: int64(21)\n",
            "memory usage: 164.2 KB\n"
          ]
        }
      ]
    },
    {
      "cell_type": "markdown",
      "source": [
        "#**Ejercicio-2.**"
      ],
      "metadata": {
        "id": "xZhr2hkECzVv"
      }
    },
    {
      "cell_type": "markdown",
      "source": [
        "## Define como la variable X a todas las variables de entrada y a la variable Y como la variable de salida. "
      ],
      "metadata": {
        "id": "ii1YCmVHKhSm"
      }
    },
    {
      "cell_type": "code",
      "source": [
        "# DEFINICIÓN DE VARIABLES\n",
        "\n",
        "X = [\"status\",\"credit_history\",\"purpose\",\"savings\",\"employment_duration\" , \"installment_rate\", \"personal_status_sex\",\"other_debtors\",\"property\",\"job\", \"people_liable\",\"age\",\"other_installment_plans\",\"housing\", \"amount\",\"number_credits\", \"duration\", \"telephone\",\"foreign_worker\"]#Variables de entrada \n",
        "y = [\"credit_risk\"]#VARIABLE DE SALIDA\n"
      ],
      "metadata": {
        "id": "kGfAoOPkC1PP"
      },
      "execution_count": 5,
      "outputs": []
    },
    {
      "cell_type": "markdown",
      "source": [
        "## Realiza una partición de los datos en el conjunto de entrenamiento del 85% y el de prueba de 15%."
      ],
      "metadata": {
        "id": "wd0mUeS0KaMz"
      }
    },
    {
      "cell_type": "code",
      "source": [
        "# PARTICIÓN DE DATOS (ENTRENAMIENTO 85%, PRUEBA 15%)\n",
        "\n",
        "Xtrain, Xtest, Ytrain, Ytest =  train_test_split(df[X],df[y], test_size = 0.15,shuffle = False)"
      ],
      "metadata": {
        "id": "GOydw5OGC1MJ"
      },
      "execution_count": 6,
      "outputs": []
    },
    {
      "cell_type": "markdown",
      "source": [
        "#**Ejercicio-3.**"
      ],
      "metadata": {
        "id": "NCunuooTC2W3"
      }
    },
    {
      "cell_type": "markdown",
      "source": [
        "Como una primera aproximación (baseline) realizarás las siguientes transformaciones mínimas para generar los primeros modelos. En la misma página de la UCI se indica el tipo de variable de cada uno de los factores. Definen cuatro tipo de variables: categórica (categorical), ordinal (discretized quantitative), numérica (quantitative) y binaria (binary). Con base a dicha información realiza un Pipeline que incluya al menos las siguientes transformaciones:"
      ],
      "metadata": {
        "id": "H3VcsjQvQNOC"
      }
    },
    {
      "cell_type": "markdown",
      "source": [
        "## 3a. Imputación a todas las variables de entrada, diferenciando entre el tipo de cada variable"
      ],
      "metadata": {
        "id": "eZuAyRC7Kzo0"
      }
    },
    {
      "cell_type": "code",
      "source": [
        "# DIVISIÓN DE VARIABLES EN CATEGÓRICA, ORDINAL, NUMÉRICA Y BINARIA\n",
        "\n",
        "categorical_vars = ['status','credit_history','purpose','savings','personal_status_sex','other_debtors','other_installment_plans','housing'] #Variables categóricas\n",
        "ordinal_vars = ['employment_duration','installment_rate','present_residence','property','number_credits','job'] #Variables cuantitativas discretizadas\n",
        "quantitative_vars = ['duration','amount','age'] #Variables numéricas\n",
        "binary_vars = ['people_liable','telephone','foreign_worker'] #Variables binarias\n",
        "binary_out = ['credit_risk'] #Variable de salida, tipo binaria"
      ],
      "metadata": {
        "id": "YXlcSWA-C4Dj"
      },
      "execution_count": 7,
      "outputs": []
    },
    {
      "cell_type": "code",
      "source": [
        "# BÚSQUEDA DE NULOS\n",
        "\n",
        "df.isnull().sum()"
      ],
      "metadata": {
        "id": "BKI80-YdC4HN",
        "colab": {
          "base_uri": "https://localhost:8080/"
        },
        "outputId": "cff8c336-18d4-41b7-edbb-c943f69d81b3"
      },
      "execution_count": 8,
      "outputs": [
        {
          "output_type": "execute_result",
          "data": {
            "text/plain": [
              "status                     0\n",
              "duration                   0\n",
              "credit_history             0\n",
              "purpose                    0\n",
              "amount                     0\n",
              "savings                    0\n",
              "employment_duration        0\n",
              "installment_rate           0\n",
              "personal_status_sex        0\n",
              "other_debtors              0\n",
              "present_residence          0\n",
              "property                   0\n",
              "age                        0\n",
              "other_installment_plans    0\n",
              "housing                    0\n",
              "number_credits             0\n",
              "job                        0\n",
              "people_liable              0\n",
              "telephone                  0\n",
              "foreign_worker             0\n",
              "credit_risk                0\n",
              "dtype: int64"
            ]
          },
          "metadata": {},
          "execution_count": 8
        }
      ]
    },
    {
      "cell_type": "code",
      "source": [
        "df.replace('?', np.nan, inplace=True)"
      ],
      "metadata": {
        "id": "q1xZkAiPSx3-"
      },
      "execution_count": 9,
      "outputs": []
    },
    {
      "cell_type": "code",
      "source": [
        "df.isnull().sum()"
      ],
      "metadata": {
        "colab": {
          "base_uri": "https://localhost:8080/"
        },
        "id": "wnry5LLES-B-",
        "outputId": "58337dfc-9ce3-4454-98e5-c9a69b378e11"
      },
      "execution_count": 10,
      "outputs": [
        {
          "output_type": "execute_result",
          "data": {
            "text/plain": [
              "status                     0\n",
              "duration                   0\n",
              "credit_history             0\n",
              "purpose                    0\n",
              "amount                     0\n",
              "savings                    0\n",
              "employment_duration        0\n",
              "installment_rate           0\n",
              "personal_status_sex        0\n",
              "other_debtors              0\n",
              "present_residence          0\n",
              "property                   0\n",
              "age                        0\n",
              "other_installment_plans    0\n",
              "housing                    0\n",
              "number_credits             0\n",
              "job                        0\n",
              "people_liable              0\n",
              "telephone                  0\n",
              "foreign_worker             0\n",
              "credit_risk                0\n",
              "dtype: int64"
            ]
          },
          "metadata": {},
          "execution_count": 10
        }
      ]
    },
    {
      "cell_type": "code",
      "source": [
        "df.replace(' ', np.nan, inplace=True)"
      ],
      "metadata": {
        "id": "5xuW_9oVXULM"
      },
      "execution_count": 11,
      "outputs": []
    },
    {
      "cell_type": "code",
      "source": [
        "df.isnull().sum()"
      ],
      "metadata": {
        "colab": {
          "base_uri": "https://localhost:8080/"
        },
        "id": "9RoDIi28XY6z",
        "outputId": "7d4e9b90-4eba-4167-91bc-54e136f451de"
      },
      "execution_count": 12,
      "outputs": [
        {
          "output_type": "execute_result",
          "data": {
            "text/plain": [
              "status                     0\n",
              "duration                   0\n",
              "credit_history             0\n",
              "purpose                    0\n",
              "amount                     0\n",
              "savings                    0\n",
              "employment_duration        0\n",
              "installment_rate           0\n",
              "personal_status_sex        0\n",
              "other_debtors              0\n",
              "present_residence          0\n",
              "property                   0\n",
              "age                        0\n",
              "other_installment_plans    0\n",
              "housing                    0\n",
              "number_credits             0\n",
              "job                        0\n",
              "people_liable              0\n",
              "telephone                  0\n",
              "foreign_worker             0\n",
              "credit_risk                0\n",
              "dtype: int64"
            ]
          },
          "metadata": {},
          "execution_count": 12
        }
      ]
    },
    {
      "cell_type": "code",
      "source": [
        "# NO ENCONTRAMOS VALORES VACÍOS, NI \"?\", NI ATÍPICOS, SIN EMBARGO, DECIDIMOS COLOCAR \n",
        "# UN PASO DE IMPUTACIÓN CON LA FINALIDAD DE ESTRUCTURAR EL PROCESO PARA PREVENIRLO EN\n",
        "# CASO DE QUE SE PRESENTE CUANDO SE INTEGRE MÁS INFORMACIÓN EN EL FUTURO.\n",
        "\n",
        "# IMPUTACIÓN DE DATOS\n",
        "\n",
        "# SE DECIDIÓ IMPUTAR VARIABLES CUANTITATIVAS CON PROMEDIO, YA QUE ESTO EVITARÍA EL SESGO EN NUESTRO MODELO\n",
        "imputed_quantitative = SimpleImputer(strategy='mean')\n",
        "imputed_quantitative = imputed_quantitative.fit_transform(Xtrain[quantitative_vars], Ytrain)\n",
        "\n",
        "# SE OPTÓ POR LA MODA PARA VARIABLES CATEGÓRICAS, YA QUE AL SER LA OPCIÓN MÁS FRECUENTE DISMINUYE EL SESGO EN EL MODELO\n",
        "imputed_categorical = SimpleImputer(strategy='most_frequent')\n",
        "imputed_categorical = imputed_categorical.fit_transform(Xtrain[categorical_vars], Ytrain)\n",
        "\n",
        "# LA IMPUTACIÓN PARA VARIABLES BINARIAS, AL IGUAL QUE LAS CATEGÓRICAS, SE REALIZA POR MODA PARA DISMINUIR EL SESGO\n",
        "imputed_binary = SimpleImputer(strategy='most_frequent')\n",
        "imputed_binary = imputed_binary.fit_transform(Xtrain[binary_vars], Ytrain)"
      ],
      "metadata": {
        "id": "q9vWyFDAUZ3R"
      },
      "execution_count": 13,
      "outputs": []
    },
    {
      "cell_type": "markdown",
      "source": [
        "## 3 b&c. Realiza un análisis de las variables numéricas (quantitative) de entrada y aplica una transformación que escale a todas ellas en un rango equiparable. Aplica la transformación One-Hot encoding  a las variables de entrada de tipo categórico y binaria."
      ],
      "metadata": {
        "id": "9zHUsykwLozc"
      }
    },
    {
      "cell_type": "code",
      "source": [
        "# PIPELINE, ESCALACIÓN DE DATOS CUANTITATIVOS CON EL MÉTODO DE MinMaxScaler, Y\n",
        "# TRANSFORMACIÓN ONE HOT ENCODER PARA VARIABLES CATEGÓRICAS Y BINARIAS.\n",
        "\n",
        "quantitative_pipeline = Pipeline(steps=[('imputer', SimpleImputer(strategy='mean')),('scaler',MinMaxScaler(feature_range=(1,2)))])\n",
        "col_quantitative = quantitative_vars\n",
        "\n",
        "categorical_pipeline = Pipeline(steps = [(\"imputer\", SimpleImputer(strategy='most_frequent')),('onehot',OneHotEncoder(handle_unknown=\"ignore\"))])\n",
        "col_categorical = categorical_vars\n",
        "\n",
        "binary_pipeline = Pipeline(steps = [(\"imputer\", SimpleImputer(strategy='most_frequent')),('onehot',OneHotEncoder(handle_unknown=\"ignore\"))])\n",
        "col_binary = binary_vars\n",
        "\n",
        "cols_Transformer = ColumnTransformer(transformers = [('quantitative', quantitative_pipeline, col_quantitative),\n",
        "                                                        ('categorical', categorical_pipeline, col_categorical),\n",
        "                                                        ('binary', binary_pipeline, col_binary)\n",
        "                                                        ], remainder='passthrough')\n",
        "\n",
        "X_train_fit = cols_Transformer.fit(Xtrain)"
      ],
      "metadata": {
        "id": "vQrM-UBqWd_m"
      },
      "execution_count": 22,
      "outputs": []
    },
    {
      "cell_type": "markdown",
      "source": [
        "## 3c. Justifica por qué una variable binaria requeriría que se le aplique  la transformación one-hot encoding."
      ],
      "metadata": {
        "id": "FHxQJcmPMHOd"
      }
    },
    {
      "cell_type": "markdown",
      "source": [
        "El One-hot enconding lo que hace es transformar las variables categóricas en columnas dummy binarias (es decir si cumplen con el valor o no). Si bien las variables binarias ya cumplen con estas características, el One-hot enconding también es útil para mejorar las predicciones y rendimiento del modelo. Por lo tanto, la justificación de aplicar One-hot encoding para variables binarias es que ayudaremos a la escalabilidad de la información y a mejorar la eficiencia del modelo."
      ],
      "metadata": {
        "id": "fsHvsPcaMMTZ"
      }
    },
    {
      "cell_type": "markdown",
      "source": [
        "#**Ejercicio-4.**"
      ],
      "metadata": {
        "id": "chqk9jIDC5Pq"
      }
    },
    {
      "cell_type": "markdown",
      "source": [
        "Llevarás un entrenamiento usando validación cruzada entre los siguientes tres modelos de aprendizaje automático: Regresión Logística, Árbol de Decisión y Bosque Aleatorio. Deberás llevar a cabo el entrenamiento de los tres de manera conjunta usando un ciclo FOR. Recuerda aplicar las transformaciones que definiste en tu Pipeline. El entrenamiento debe ser con las \n",
        "siguientes características: "
      ],
      "metadata": {
        "id": "e3nexw6vPamT"
      }
    },
    {
      "cell_type": "markdown",
      "source": [
        "## 4 a-e. Usa los parámetros predeterminados de cada modelo. En cada iteración deben calcularse todas las siguientes métricas: accuracy, precision, recall, f1-score y Gmean. Usar validación cruzada estratificada con 5 particiones y con 3 repeticiones. "
      ],
      "metadata": {
        "id": "jkav--B2QeRW"
      }
    },
    {
      "cell_type": "code",
      "source": [
        "#Métricas valores de Entrenamiento:\n",
        "\n",
        "#FUNCION PRECISIÓN \n",
        "def precisionFunction(Yreal, Yestimada):\n",
        "  vn, fp, fn, vp=confusion_matrix(Yreal, Yestimada).ravel()\n",
        "  precision = vp / ( vp+fp)\n",
        "  return precision\n",
        "#FUNCIÓN RECALL\n",
        "def recallFunction(Yreal, Yestimada):\n",
        "  vn, fp, fn, vp=confusion_matrix(Yreal, Yestimada).ravel()\n",
        "  recall = vp / (vp+fn)\n",
        "  return recall\n",
        "#FUNCIÓN F1 SCORE\n",
        "def f1Function(Yreal, Yestimada):\n",
        "  vn, fp, fn, vp=confusion_matrix(Yreal, Yestimada).ravel()\n",
        "  f1score = 2*vp / (2*vp+fp+fn)\n",
        "  return f1score\n",
        "#FUNCIÓN ESPECIFICIDAD\n",
        "def especificidadFunction(Yreal, Yestimada):\n",
        "  vn, fp, fn, vp=confusion_matrix(Yreal, Yestimada).ravel()\n",
        "  especificidad = vn / (vn+fp)\n",
        "  return especificidad\n",
        "#FUNCIÓN GMEAN\n",
        "def gmeanFunction(Yreal, Yestimada):\n",
        " vp, fp, fn, vp=confusion_matrix(Yreal, Yestimada).ravel()\n",
        " gmean = np.sqrt(recallFunction(Yreal, Yestimada) * especificidadFunction(Yreal, Yestimada))\n",
        " return gmean\n",
        "#FUNCIÓN ACCURACY\n",
        "def accuracyFunction(Yreal, Yestimada):\n",
        "  vn, fp, fn, vp = confusion_matrix(Yreal, Yestimada).ravel()\n",
        "  accuracy = (vp+vn)/(vp+vn+fp+fn)\n",
        "  return accuracy"
      ],
      "metadata": {
        "id": "iZxUqPWZU0FS"
      },
      "execution_count": 27,
      "outputs": []
    },
    {
      "cell_type": "code",
      "source": [
        "#ENTRENAMIENTO DE LOS MODELOS EN UN CICLO FOR\n",
        "LR = LogisticRegression()\n",
        "DTC = DecisionTreeClassifier() \n",
        "RF = RandomForestClassifier()\n",
        "\n",
        "modelos = [LR, DTC, RF]\n",
        "modelosNombres = ['Regresión Logística', 'Árbol de decisión', 'Bosque Aleatorio']\n",
        "\n",
        "\n",
        "for i in range(len(modelos)):\n",
        "  MODELS_pipe = Pipeline(steps = [\n",
        "    ('tranformacion', cols_Transformer),\n",
        "    (modelosNombres[i], modelos[i])\n",
        "    ])\n",
        "  \n",
        "  validacion = cross_validate(\n",
        "      estimator=MODELS_pipe, X=Xtrain, y=Ytrain.values.ravel(),\n",
        "      scoring = {'precision': make_scorer(precisionFunction),\n",
        "                 'accuracy': make_scorer(accuracyFunction),\n",
        "                 'recall': make_scorer(recallFunction),\n",
        "                 'f1': make_scorer(f1Function),\n",
        "                 'especificidad': make_scorer(especificidadFunction),\n",
        "                 'gmean': make_scorer(gmeanFunction)}, return_train_score=True)\n",
        "  \n",
        "  scores = []\n",
        "  scores.append(validacion)\n",
        "  \n",
        "  print('Entrenamiento')\n",
        "  print('%s:\\nAccuracy: %.3f (%.4f)\\nPrecision: %.3f (%.4f)\\nRecall: %.3f (%.4f)\\nFOneScore: %.3f (%.4f)\\nGmean: %.3f (%.4f)\\n' % (modelosNombres[i],\n",
        "                                                                          np.mean(validacion['train_accuracy']),\n",
        "                                                                          np.std(validacion['train_accuracy']), \n",
        "                                                                          np.mean(validacion['train_precision']),\n",
        "                                                                          np.std(validacion['train_precision']), \n",
        "                                                                          np.mean(validacion['train_recall']),\n",
        "                                                                          np.std(validacion['train_recall']),  \n",
        "                                                                          np.mean(validacion['train_f1']),\n",
        "                                                                          np.std(validacion['train_f1']),\n",
        "                                                                          np.mean(validacion['train_gmean']),\n",
        "                                                                          np.std(validacion['train_gmean']),    \n",
        "                                                                          ))\n",
        "  \n",
        "  \n",
        "  print('Validación')\n",
        "  print('%s:\\nAccuracy: %.3f (%.4f)\\nPrecision: %.3f (%.4f)\\nRecall: %.3f (%.4f)\\nFOneScore: %.3f (%.4f)\\nGmean: %.3f (%.4f)\\n' % (modelosNombres[i],\n",
        "                                                                          np.mean(validacion['test_accuracy']),\n",
        "                                                                          np.std(validacion['test_accuracy']), \n",
        "                                                                          np.mean(validacion['test_precision']),\n",
        "                                                                          np.std(validacion['test_precision']), \n",
        "                                                                          np.mean(validacion['test_recall']),\n",
        "                                                                          np.std(validacion['test_recall']),  \n",
        "                                                                          np.mean(validacion['test_f1']),\n",
        "                                                                          np.std(validacion['test_f1']),\n",
        "                                                                          np.mean(validacion['test_gmean']),\n",
        "                                                                          np.std(validacion['test_gmean']),    \n",
        "                                                                          ))"
      ],
      "metadata": {
        "colab": {
          "base_uri": "https://localhost:8080/"
        },
        "id": "28V7VpoGUP-Z",
        "outputId": "16375730-f61a-451e-b8a7-c49c56a85e80"
      },
      "execution_count": 28,
      "outputs": [
        {
          "output_type": "stream",
          "name": "stderr",
          "text": [
            "/usr/local/lib/python3.7/dist-packages/sklearn/linear_model/_logistic.py:818: ConvergenceWarning: lbfgs failed to converge (status=1):\n",
            "STOP: TOTAL NO. of ITERATIONS REACHED LIMIT.\n",
            "\n",
            "Increase the number of iterations (max_iter) or scale the data as shown in:\n",
            "    https://scikit-learn.org/stable/modules/preprocessing.html\n",
            "Please also refer to the documentation for alternative solver options:\n",
            "    https://scikit-learn.org/stable/modules/linear_model.html#logistic-regression\n",
            "  extra_warning_msg=_LOGISTIC_SOLVER_CONVERGENCE_MSG,\n",
            "/usr/local/lib/python3.7/dist-packages/sklearn/linear_model/_logistic.py:818: ConvergenceWarning: lbfgs failed to converge (status=1):\n",
            "STOP: TOTAL NO. of ITERATIONS REACHED LIMIT.\n",
            "\n",
            "Increase the number of iterations (max_iter) or scale the data as shown in:\n",
            "    https://scikit-learn.org/stable/modules/preprocessing.html\n",
            "Please also refer to the documentation for alternative solver options:\n",
            "    https://scikit-learn.org/stable/modules/linear_model.html#logistic-regression\n",
            "  extra_warning_msg=_LOGISTIC_SOLVER_CONVERGENCE_MSG,\n",
            "/usr/local/lib/python3.7/dist-packages/sklearn/linear_model/_logistic.py:818: ConvergenceWarning: lbfgs failed to converge (status=1):\n",
            "STOP: TOTAL NO. of ITERATIONS REACHED LIMIT.\n",
            "\n",
            "Increase the number of iterations (max_iter) or scale the data as shown in:\n",
            "    https://scikit-learn.org/stable/modules/preprocessing.html\n",
            "Please also refer to the documentation for alternative solver options:\n",
            "    https://scikit-learn.org/stable/modules/linear_model.html#logistic-regression\n",
            "  extra_warning_msg=_LOGISTIC_SOLVER_CONVERGENCE_MSG,\n",
            "/usr/local/lib/python3.7/dist-packages/sklearn/linear_model/_logistic.py:818: ConvergenceWarning: lbfgs failed to converge (status=1):\n",
            "STOP: TOTAL NO. of ITERATIONS REACHED LIMIT.\n",
            "\n",
            "Increase the number of iterations (max_iter) or scale the data as shown in:\n",
            "    https://scikit-learn.org/stable/modules/preprocessing.html\n",
            "Please also refer to the documentation for alternative solver options:\n",
            "    https://scikit-learn.org/stable/modules/linear_model.html#logistic-regression\n",
            "  extra_warning_msg=_LOGISTIC_SOLVER_CONVERGENCE_MSG,\n",
            "/usr/local/lib/python3.7/dist-packages/sklearn/linear_model/_logistic.py:818: ConvergenceWarning: lbfgs failed to converge (status=1):\n",
            "STOP: TOTAL NO. of ITERATIONS REACHED LIMIT.\n",
            "\n",
            "Increase the number of iterations (max_iter) or scale the data as shown in:\n",
            "    https://scikit-learn.org/stable/modules/preprocessing.html\n",
            "Please also refer to the documentation for alternative solver options:\n",
            "    https://scikit-learn.org/stable/modules/linear_model.html#logistic-regression\n",
            "  extra_warning_msg=_LOGISTIC_SOLVER_CONVERGENCE_MSG,\n"
          ]
        },
        {
          "output_type": "stream",
          "name": "stdout",
          "text": [
            "Entrenamiento\n",
            "Regresión Logística:\n",
            "Accuracy: 0.844 (0.0105)\n",
            "Precision: 0.860 (0.0107)\n",
            "Recall: 0.968 (0.0044)\n",
            "FOneScore: 0.911 (0.0054)\n",
            "Gmean: 0.501 (0.0584)\n",
            "\n",
            "Validación\n",
            "Regresión Logística:\n",
            "Accuracy: 0.806 (0.0347)\n",
            "Precision: 0.846 (0.0063)\n",
            "Recall: 0.934 (0.0446)\n",
            "FOneScore: 0.887 (0.0231)\n",
            "Gmean: 0.437 (0.0327)\n",
            "\n",
            "Entrenamiento\n",
            "Árbol de decisión:\n",
            "Accuracy: 1.000 (0.0000)\n",
            "Precision: 1.000 (0.0000)\n",
            "Recall: 1.000 (0.0000)\n",
            "FOneScore: 1.000 (0.0000)\n",
            "Gmean: 1.000 (0.0000)\n",
            "\n",
            "Validación\n",
            "Árbol de decisión:\n",
            "Accuracy: 0.752 (0.0394)\n",
            "Precision: 0.853 (0.0107)\n",
            "Recall: 0.844 (0.0602)\n",
            "FOneScore: 0.847 (0.0304)\n",
            "Gmean: 0.513 (0.0581)\n",
            "\n",
            "Entrenamiento\n",
            "Bosque Aleatorio:\n",
            "Accuracy: 1.000 (0.0000)\n",
            "Precision: 1.000 (0.0000)\n",
            "Recall: 1.000 (0.0000)\n",
            "FOneScore: 1.000 (0.0000)\n",
            "Gmean: 1.000 (0.0000)\n",
            "\n",
            "Validación\n",
            "Bosque Aleatorio:\n",
            "Accuracy: 0.821 (0.0240)\n",
            "Precision: 0.835 (0.0064)\n",
            "Recall: 0.976 (0.0308)\n",
            "FOneScore: 0.900 (0.0152)\n",
            "Gmean: 0.303 (0.0727)\n",
            "\n"
          ]
        }
      ]
    },
    {
      "cell_type": "code",
      "source": [
        "#DIAGRAMA DE CAJAS Y BIGOTES\n",
        "plt.boxplot(scores, labels=modelosNombres, showmeans=True, figsize=(6,6))\n",
        "plt.show()"
      ],
      "metadata": {
        "colab": {
          "base_uri": "https://localhost:8080/",
          "height": 200
        },
        "id": "393DZ_ib9Hv5",
        "outputId": "9f840a2b-a934-4c63-9577-8d181871e103"
      },
      "execution_count": 39,
      "outputs": [
        {
          "output_type": "error",
          "ename": "TypeError",
          "evalue": "ignored",
          "traceback": [
            "\u001b[0;31m---------------------------------------------------------------------------\u001b[0m",
            "\u001b[0;31mTypeError\u001b[0m                                 Traceback (most recent call last)",
            "\u001b[0;32m<ipython-input-39-060a76bdcb36>\u001b[0m in \u001b[0;36m<module>\u001b[0;34m\u001b[0m\n\u001b[1;32m      1\u001b[0m \u001b[0;31m#DIAGRAMA DE CAJAS Y BIGOTES\u001b[0m\u001b[0;34m\u001b[0m\u001b[0;34m\u001b[0m\u001b[0;34m\u001b[0m\u001b[0m\n\u001b[0;32m----> 2\u001b[0;31m \u001b[0mplt\u001b[0m\u001b[0;34m.\u001b[0m\u001b[0mboxplot\u001b[0m\u001b[0;34m(\u001b[0m\u001b[0mscores\u001b[0m\u001b[0;34m,\u001b[0m \u001b[0mlabels\u001b[0m\u001b[0;34m=\u001b[0m\u001b[0mmodelosNombres\u001b[0m\u001b[0;34m,\u001b[0m \u001b[0mshowmeans\u001b[0m\u001b[0;34m=\u001b[0m\u001b[0;32mTrue\u001b[0m\u001b[0;34m,\u001b[0m \u001b[0mfigsize\u001b[0m\u001b[0;34m=\u001b[0m\u001b[0;34m(\u001b[0m\u001b[0;36m6\u001b[0m\u001b[0;34m,\u001b[0m\u001b[0;36m6\u001b[0m\u001b[0;34m)\u001b[0m\u001b[0;34m)\u001b[0m\u001b[0;34m\u001b[0m\u001b[0;34m\u001b[0m\u001b[0m\n\u001b[0m\u001b[1;32m      3\u001b[0m \u001b[0mplt\u001b[0m\u001b[0;34m.\u001b[0m\u001b[0mshow\u001b[0m\u001b[0;34m(\u001b[0m\u001b[0;34m)\u001b[0m\u001b[0;34m\u001b[0m\u001b[0;34m\u001b[0m\u001b[0m\n",
            "\u001b[0;31mTypeError\u001b[0m: boxplot() got an unexpected keyword argument 'figsize'"
          ]
        }
      ]
    },
    {
      "cell_type": "code",
      "source": [
        "#Función para graficar las curvas de aprendizaje\n",
        "\n",
        "def Curve(modelo, train_sizes, train_scores, val_scores):\n",
        "\n",
        "    train_mean = np.mean(train_scores, axis=1)\n",
        "    train_std = np.std(train_scores, axis=1)\n",
        "    val_mean = np.mean(val_scores, axis=1)\n",
        "    val_std = np.std(val_scores, axis=1)\n",
        "\n",
        "    plt.figure(figsize=(7,6))\n",
        "    plt.plot(train_sizes, train_mean, color='blue', marker='o', markersize=5, label='Training')\n",
        "    plt.fill_between(train_sizes, train_mean + train_std, train_mean - train_std, alpha=0.1, color='blue')\n",
        "    \n",
        "    plt.plot(train_sizes, val_mean, color='red', marker='+', markersize=5, linestyle='--', label='Validation')\n",
        "    plt.fill_between(train_sizes, val_mean + val_std, val_mean - val_std, alpha=0.1, color='red')\n",
        "    \n",
        "    plt.title('Curvas de Aprendizaje incrementando el tamaño de la muestra')\n",
        "    plt.xlabel('Tamaño del conjunto de entrenamiento')\n",
        "    plt.ylabel('Exactitud (accuracy)')\n",
        "    plt.grid()\n",
        "    plt.legend(loc='lower left')\n",
        "    plt.show()"
      ],
      "metadata": {
        "id": "xSdEnmbuQ8yC"
      },
      "execution_count": 44,
      "outputs": []
    },
    {
      "cell_type": "code",
      "source": [
        "#Esta función grafica las curvas de aprendizaje\n",
        "def plot_learning_curve(model, X, y, cv):\n",
        "    \n",
        "    #Antes de graficar, hay que crear la curva, verdad?\n",
        "    train_sizes, train_scores, val_scores = create_learning_curve(model, X, y, cv)\n",
        "    \n",
        "    #Nos interesan graficar los promedios.\n",
        "    train_avg = np.mean(train_scores, axis = 1)\n",
        "    val_avg = np.mean(val_scores, axis = 1)\n",
        "    \n",
        "    plt.figure(figsize=(8,7))\n",
        "    \n",
        "    #.plot viene siendo una línea del gráfico. Esta línea estará\n",
        "    #representando la curve de entrenamiento y será verde.\n",
        "    plt.plot(train_sizes, train_avg, color = 'green', marker=\"o\", label=\"Training\", markersize=\"5\" )\n",
        "    \n",
        "    #Esta otra línea será la curva de validación y será roja y discontinua (--)\n",
        "    plt.plot(train_sizes,val_avg, color=\"red\", marker=\"+\", linestyle=\"--\", markersize=\"5\", label=\"Validation\")\n",
        "    \n",
        "    #Los títulos y otras cosas.\n",
        "    plt.title('Curvas de Aprendizaje incrementando el tamaño de la muestra')\n",
        "    plt.xlabel('Tamaño del conjunto de entrenamiento')\n",
        "    \n",
        "    #En este tutorial estamos graficando accuracy, pero se puede cambiar\n",
        "    #La métrica en los argumentos de la función learning_curve\n",
        "    plt.ylabel('Exactitud (accuracy)')\n",
        "\n",
        "    #Le decimos que coloque la leyenda del gráfico en la esquina inferior derecha\n",
        "    plt.legend(loc='lower right')\n",
        "    plt.show()"
      ],
      "metadata": {
        "id": "niait5l1YUcs"
      },
      "execution_count": 47,
      "outputs": []
    },
    {
      "cell_type": "code",
      "source": [
        "cv = RepeatedStratifiedKFold (n_splits=5, n_repeats=3)\n",
        "\n",
        "for i in range(len(modelos)):\n",
        "    print(f\"Curva de aprendizaje para el modelo {modelosNombres[i]}\")\n",
        "    plot_learning_curve (modelos[i], Xtrain, Ytrain, cv)"
      ],
      "metadata": {
        "id": "mdG15fu0XXD3",
        "outputId": "9c27ee5a-9892-40d1-b2db-f896215808d7",
        "colab": {
          "base_uri": "https://localhost:8080/",
          "height": 339
        }
      },
      "execution_count": 49,
      "outputs": [
        {
          "output_type": "stream",
          "name": "stdout",
          "text": [
            "Curva de aprendizaje para el modelo Regresión Logística\n"
          ]
        },
        {
          "output_type": "error",
          "ename": "NameError",
          "evalue": "ignored",
          "traceback": [
            "\u001b[0;31m---------------------------------------------------------------------------\u001b[0m",
            "\u001b[0;31mNameError\u001b[0m                                 Traceback (most recent call last)",
            "\u001b[0;32m<ipython-input-49-7a94693f4e8a>\u001b[0m in \u001b[0;36m<module>\u001b[0;34m\u001b[0m\n\u001b[1;32m      3\u001b[0m \u001b[0;32mfor\u001b[0m \u001b[0mi\u001b[0m \u001b[0;32min\u001b[0m \u001b[0mrange\u001b[0m\u001b[0;34m(\u001b[0m\u001b[0mlen\u001b[0m\u001b[0;34m(\u001b[0m\u001b[0mmodelos\u001b[0m\u001b[0;34m)\u001b[0m\u001b[0;34m)\u001b[0m\u001b[0;34m:\u001b[0m\u001b[0;34m\u001b[0m\u001b[0;34m\u001b[0m\u001b[0m\n\u001b[1;32m      4\u001b[0m     \u001b[0mprint\u001b[0m\u001b[0;34m(\u001b[0m\u001b[0;34mf\"Curva de aprendizaje para el modelo {modelosNombres[i]}\"\u001b[0m\u001b[0;34m)\u001b[0m\u001b[0;34m\u001b[0m\u001b[0;34m\u001b[0m\u001b[0m\n\u001b[0;32m----> 5\u001b[0;31m     \u001b[0mplot_learning_curve\u001b[0m \u001b[0;34m(\u001b[0m\u001b[0mmodelos\u001b[0m\u001b[0;34m[\u001b[0m\u001b[0mi\u001b[0m\u001b[0;34m]\u001b[0m\u001b[0;34m,\u001b[0m \u001b[0mXtrain\u001b[0m\u001b[0;34m,\u001b[0m \u001b[0mYtrain\u001b[0m\u001b[0;34m,\u001b[0m \u001b[0mcv\u001b[0m\u001b[0;34m)\u001b[0m\u001b[0;34m\u001b[0m\u001b[0;34m\u001b[0m\u001b[0m\n\u001b[0m",
            "\u001b[0;32m<ipython-input-47-1227fca97157>\u001b[0m in \u001b[0;36mplot_learning_curve\u001b[0;34m(model, X, y, cv)\u001b[0m\n\u001b[1;32m      3\u001b[0m \u001b[0;34m\u001b[0m\u001b[0m\n\u001b[1;32m      4\u001b[0m     \u001b[0;31m#Antes de graficar, hay que crear la curva, verdad?\u001b[0m\u001b[0;34m\u001b[0m\u001b[0;34m\u001b[0m\u001b[0;34m\u001b[0m\u001b[0m\n\u001b[0;32m----> 5\u001b[0;31m     \u001b[0mtrain_sizes\u001b[0m\u001b[0;34m,\u001b[0m \u001b[0mtrain_scores\u001b[0m\u001b[0;34m,\u001b[0m \u001b[0mval_scores\u001b[0m \u001b[0;34m=\u001b[0m \u001b[0mcreate_learning_curve\u001b[0m\u001b[0;34m(\u001b[0m\u001b[0mmodel\u001b[0m\u001b[0;34m,\u001b[0m \u001b[0mX\u001b[0m\u001b[0;34m,\u001b[0m \u001b[0my\u001b[0m\u001b[0;34m,\u001b[0m \u001b[0mcv\u001b[0m\u001b[0;34m)\u001b[0m\u001b[0;34m\u001b[0m\u001b[0;34m\u001b[0m\u001b[0m\n\u001b[0m\u001b[1;32m      6\u001b[0m \u001b[0;34m\u001b[0m\u001b[0m\n\u001b[1;32m      7\u001b[0m     \u001b[0;31m#Nos interesan graficar los promedios.\u001b[0m\u001b[0;34m\u001b[0m\u001b[0;34m\u001b[0m\u001b[0;34m\u001b[0m\u001b[0m\n",
            "\u001b[0;31mNameError\u001b[0m: name 'create_learning_curve' is not defined"
          ]
        }
      ]
    },
    {
      "cell_type": "markdown",
      "source": [
        "#**Ejercicio-5.**"
      ],
      "metadata": {
        "id": "Rv7KFq-mC7PS"
      }
    },
    {
      "cell_type": "code",
      "source": [
        "None"
      ],
      "metadata": {
        "id": "jaDj3kawC9B6"
      },
      "execution_count": null,
      "outputs": []
    },
    {
      "cell_type": "code",
      "source": [],
      "metadata": {
        "id": "4tQxQROVC9Us"
      },
      "execution_count": null,
      "outputs": []
    },
    {
      "cell_type": "markdown",
      "source": [
        "#**Ejercicio-6.**"
      ],
      "metadata": {
        "id": "W2S7LI0NC9wE"
      }
    },
    {
      "cell_type": "code",
      "source": [
        "None"
      ],
      "metadata": {
        "id": "x6uBleJUC_AU"
      },
      "execution_count": null,
      "outputs": []
    },
    {
      "cell_type": "code",
      "source": [],
      "metadata": {
        "id": "n0P_AcyjC_Dh"
      },
      "execution_count": null,
      "outputs": []
    },
    {
      "cell_type": "markdown",
      "source": [
        "###**Fin de la Actividad de la semana 6.**"
      ],
      "metadata": {
        "id": "7ql_r2G-DB_m"
      }
    }
  ]
}